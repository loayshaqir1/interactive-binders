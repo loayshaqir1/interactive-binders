{
 "cells": [
  {
   "cell_type": "markdown",
   "metadata": {},
   "source": [
    "# General Utils\n",
    "\n",
    "> general utilities that are not specific to any kind of pass, execution engine, etc..."
   ]
  },
  {
   "cell_type": "code",
   "execution_count": 1,
   "metadata": {},
   "outputs": [],
   "source": [
    "#| default_exp src.rgxlog_interpreter.src.rgxlog.engine.utils.general_utils"
   ]
  },
  {
   "cell_type": "code",
   "execution_count": 2,
   "metadata": {},
   "outputs": [],
   "source": [
    "#| hide\n",
    "from __future__ import annotations"
   ]
  },
  {
   "cell_type": "code",
   "execution_count": 3,
   "metadata": {},
   "outputs": [],
   "source": [
    "#| hide\n",
    "from nbdev.showdoc import *"
   ]
  },
  {
   "cell_type": "code",
   "execution_count": 4,
   "metadata": {},
   "outputs": [],
   "source": [
    "#| export\n",
    "import functools\n",
    "import re\n",
    "from typing import (Union, Tuple, Set, Dict, List, Optional, Callable, Any, no_type_check, Sequence)\n",
    "\n",
    "from spanner_workbench.src.rgxlog_interpreter.src.rgxlog.engine.datatypes.ast_node_types import (Relation, IERelation, Rule)\n",
    "from spanner_workbench.src.rgxlog_interpreter.src.rgxlog.engine.datatypes.primitive_types import DataTypes, Span\n",
    "from spanner_workbench.src.rgxlog_interpreter.src.rgxlog.engine.state.symbol_table import SymbolTableBase"
   ]
  },
  {
   "cell_type": "code",
   "execution_count": 5,
   "metadata": {},
   "outputs": [],
   "source": [
    "#| hide\n",
    "#| exec_doc\n",
    "import inspect"
   ]
  },
  {
   "cell_type": "code",
   "execution_count": 6,
   "metadata": {},
   "outputs": [],
   "source": [
    "#| export\n",
    "SPAN_GROUP1 = \"start\"\n",
    "SPAN_GROUP2 = \"end\"\n",
    "\n",
    "# as of now, we don't support negative/float numbers (for both spans and integers)\n",
    "SPAN_PATTERN = re.compile(r\"^\\[(?P<start>\\d+), ?(?P<end>\\d+)\\)$\")\n",
    "QUERY_RESULT_PREFIX = \"printing results for query \""
   ]
  },
  {
   "cell_type": "code",
   "execution_count": 7,
   "metadata": {},
   "outputs": [],
   "source": [
    "#| hide\n",
    "#| exec_doc\n",
    "imported_classes = []\n",
    "for name, obj in list(globals().items()):\n",
    "    if inspect.isclass(obj) and inspect.getmodule(obj) is not None:\n",
    "        imported_classes.append(obj)\n",
    "for cls in imported_classes:\n",
    "    if 'spanner_workbench' in cls.__module__:\n",
    "        cls.__module__ = cls.__module__.split('.')[-1]"
   ]
  },
  {
   "cell_type": "code",
   "execution_count": 8,
   "metadata": {},
   "outputs": [],
   "source": [
    "#| export\n",
    "def strip_lines(text: str) -> str:\n",
    "    \"\"\"\n",
    "    removes leading and trailing whitespace from each line in the input text and excludes empty lines.\n",
    "    \"\"\"\n",
    "    return \"\\n\".join([line.strip() for line in text.splitlines() if line.strip()])"
   ]
  },
  {
   "cell_type": "code",
   "execution_count": 9,
   "metadata": {},
   "outputs": [],
   "source": [
    "#| export\n",
    "def fixed_point(start: Any, # a starting value\n",
    "                 step: Callable, # a step function\n",
    "                   distance: Callable, # a function that measures distance between the input and the output of the step function\n",
    "                     thresh: int = 0 # a distance threshold\n",
    "                     ) -> Any:\n",
    "    \"\"\"\n",
    "    Implementation of a generic fixed point algorithm - an algorithm that takes a step function and runs it until\n",
    "    some distance is zero or below a threshold.\n",
    "    \"\"\"\n",
    "    x = start\n",
    "    y = step(x)\n",
    "    while distance(x, y) > min(thresh,0):\n",
    "        x = y\n",
    "        y = step(x)\n",
    "    return x"
   ]
  },
  {
   "cell_type": "code",
   "execution_count": 10,
   "metadata": {},
   "outputs": [],
   "source": [
    "#| export\n",
    "def get_free_var_names(term_list: Sequence, # a list of terms\n",
    "                       type_list: Sequence # a list of the term types\n",
    "                       ) -> Set[str]: # a set of all the free variable names in term_list\n",
    "    \"\"\" \n",
    "    @raise Exception: if length of term list doesn't match the length of type list.\n",
    "    \"\"\"\n",
    "    if len(term_list) != len(type_list):\n",
    "        raise Exception(f\"received different lengths of term_list ({len(term_list)}) \"\n",
    "                        f\"and type_list ({len(type_list)})\")\n",
    "    free_var_names = set(term for term, term_type in zip(term_list, type_list)\n",
    "                         if term_type is DataTypes.free_var_name)\n",
    "    return free_var_names"
   ]
  },
  {
   "cell_type": "code",
   "execution_count": 11,
   "metadata": {},
   "outputs": [],
   "source": [
    "#| export\n",
    "@no_type_check\n",
    "def position_freevar_pairs(relation: Union[Relation, IERelation] # a relation (either a normal relation or an ie relation)\n",
    "                           ) -> List[Tuple[int, str]]: # a list of all (index, free_var) pairs based on term_list\n",
    "    term_list, type_list = relation.get_term_list(), relation.get_type_list()\n",
    "    pos_var_pairs = [(i, term) for i, (term, term_type) in enumerate(zip(term_list, type_list))\n",
    "                     if term_type is DataTypes.free_var_name]\n",
    "    return pos_var_pairs"
   ]
  },
  {
   "cell_type": "code",
   "execution_count": 12,
   "metadata": {},
   "outputs": [],
   "source": [
    "#| export\n",
    "def get_input_free_var_names(relation: Union[Relation, IERelation] # a relation (either a normal relation or an ie relation)\n",
    "                             ) -> Set[Any]: # a set of the free variables used as input terms in the relation.\n",
    "    if isinstance(relation, IERelation):\n",
    "        return get_free_var_names(relation.input_term_list, relation.input_type_list)\n",
    "    else:\n",
    "        return set()"
   ]
  },
  {
   "cell_type": "markdown",
   "metadata": {},
   "source": [
    "::: {.callout-note}\n",
    "if the input is relation it returns empty set as the regular relation don't have input free variables,\n",
    "if the input is ie-relation it returns it's input free variables\n",
    ":::"
   ]
  },
  {
   "cell_type": "code",
   "execution_count": 13,
   "metadata": {},
   "outputs": [],
   "source": [
    "#| export\n",
    "def get_output_free_var_names(relation: Union[Relation, IERelation] # a relation (either a normal relation or an ie relation)\n",
    "                              ) -> Set[str]: # a set of the free variables used as output terms in the relation\n",
    "    return get_free_var_names(relation.get_term_list(), relation.get_type_list())"
   ]
  },
  {
   "cell_type": "markdown",
   "metadata": {},
   "source": [
    "::: {.callout-note}\n",
    "if the input is relation it returns empty set as the regular relation don't have input free variables,\n",
    "if the input is ie-relation it returns it's input free variables\n",
    ":::"
   ]
  },
  {
   "cell_type": "code",
   "execution_count": 14,
   "metadata": {},
   "outputs": [],
   "source": [
    "#| export\n",
    "def get_free_var_to_relations_dict(relations: Set[Union[Relation, IERelation]] # a set of relations\n",
    "                                   ) -> (Dict[str, List[Tuple[Union[Relation, IERelation], int]]]): # a mapping between each free var to the relations and corresponding columns in which it appears\n",
    "    \"\"\"\n",
    "    Finds for each free var in any of the relations, all the relations that contain it.\n",
    "    also return the free vars' index in each relation (as pairs). <br>\n",
    "    for example: <br>\n",
    "        relations = [a(X,Y), b(Y)] ->\n",
    "        dict = {X:[(a(X,Y),0)], Y:[(a(X,Y),1),(b(Y),0)]}\n",
    "    \"\"\"\n",
    "    # note: don't remove variables with less than 2 uses here, we need them as well\n",
    "    free_var_positions = {relation: position_freevar_pairs(relation) for relation in relations}\n",
    "    free_var_set = {var for pair_list in free_var_positions.values() for (_, var) in pair_list}\n",
    "\n",
    "    # create a triple of every relation, free var position, and free var name. these will be united inside var_dict.\n",
    "    rel_pos_var_triple = [(relation, pos, free_var) for (relation, pair_list) in free_var_positions.items() for\n",
    "                          (pos, free_var) in pair_list]\n",
    "\n",
    "    var_dict = {var_from_set: [(relation, free_var_pos) for (relation, free_var_pos, var_from_triple) in rel_pos_var_triple if var_from_set == var_from_triple]\n",
    "                for var_from_set in free_var_set}\n",
    "\n",
    "    return var_dict"
   ]
  },
  {
   "cell_type": "code",
   "execution_count": 15,
   "metadata": {},
   "outputs": [],
   "source": [
    "#| export\n",
    "def check_properly_typed_term_list(term_list: Sequence, # the term list to be type checked\n",
    "                                    type_list: Sequence, # the types of the terms in term_list\n",
    "                                   correct_type_list: Sequence, # a list of the types that the terms must have to pass the type check\n",
    "                                     symbol_table: SymbolTableBase # a symbol table (used to get the types of variables)\n",
    "                                     ) -> bool: # True if the type check passed, else False\n",
    "    \"\"\"\n",
    "    Checks if the term list is properly typed.\n",
    "    the term list could include free variables, this method will assume their actual type is correct.\n",
    "    \"\"\"\n",
    "    if len(term_list) != len(type_list) or len(term_list) != len(correct_type_list):\n",
    "        raise Exception(\"the length of term_list, type_list and correct_type_list should be the same\")\n",
    "        \n",
    "\n",
    "    # perform the type check\n",
    "    for term, term_type, correct_type in zip(term_list, type_list, correct_type_list):\n",
    "\n",
    "        if term_type is DataTypes.var_name:\n",
    "            # current term is a variable, get its type from the symbol table\n",
    "            term_type = symbol_table.get_variable_type(term)\n",
    "\n",
    "        if term_type is not DataTypes.free_var_name and term_type != correct_type:\n",
    "            # the term is a literal that is not properly typed, the type check failed\n",
    "            return False\n",
    "\n",
    "    # all variables are properly typed, the type check succeeded\n",
    "    return True"
   ]
  },
  {
   "cell_type": "code",
   "execution_count": 16,
   "metadata": {},
   "outputs": [],
   "source": [
    "#| export\n",
    "@no_type_check\n",
    "def check_properly_typed_relation(relation: Union[Relation, IERelation] # the relation to be checked\n",
    "                                  , symbol_table: SymbolTableBase # a symbol table (to check the types of regular variables)\n",
    "                                  ) -> bool: # true if the relation is properly typed, else false\n",
    "    \"\"\"\n",
    "    Checks if a relation is properly typed, this check ignores free variables.\n",
    "    \"\"\"\n",
    "\n",
    "    if isinstance(relation, Relation):\n",
    "        # get the schema of the relation\n",
    "        relation_schema = symbol_table.get_relation_schema(relation.relation_name)\n",
    "        # check if the relation's term list is properly typed\n",
    "        relation_is_properly_typed = check_properly_typed_term_list(\n",
    "            relation.term_list, relation.type_list, relation_schema, symbol_table)\n",
    "\n",
    "    elif isinstance(relation, IERelation):\n",
    "\n",
    "        # get the input and output schemas of the ie function\n",
    "        ie_func_name = relation.relation_name\n",
    "        ie_func_data = symbol_table.get_ie_func_data(ie_func_name)\n",
    "        input_schema = ie_func_data.get_input_types()\n",
    "        output_arity = len(relation.output_term_list) + len(relation.input_term_list)\n",
    "        output_schema = ie_func_data.get_output_types(output_arity)\n",
    "\n",
    "        # perform the type check on both the input and output term lists\n",
    "        # both of them need to be properly typed for the check to pass\n",
    "        input_type_check_passed = check_properly_typed_term_list(\n",
    "            relation.input_term_list, relation.input_type_list, input_schema, symbol_table)\n",
    "        output_type_check_passed = check_properly_typed_term_list(\n",
    "            relation.input_term_list + relation.output_term_list,\n",
    "            relation.input_type_list + relation.output_type_list, output_schema, symbol_table)\n",
    "        relation_is_properly_typed = input_type_check_passed and output_type_check_passed\n",
    "\n",
    "    else:\n",
    "        raise Exception(f'unexpected relation type: {type(relation)}')\n",
    "\n",
    "    return relation_is_properly_typed"
   ]
  },
  {
   "cell_type": "code",
   "execution_count": 17,
   "metadata": {},
   "outputs": [],
   "source": [
    "#| export\n",
    "def type_check_rule_free_vars(rule: Rule, # The rule to be checked\n",
    "                               symbol_table: SymbolTableBase # a symbol table (used to get the schema of the relation)\n",
    "                                # a tuple (free_var_to_type, conflicted_free_vars) where\n",
    "                                # free_var_to_type: a mapping from a free variable to its type\n",
    "                                # conflicted_free_vars: a set of all the conflicted free variables\n",
    "                               ) -> Tuple[Dict[str, DataTypes], Set[str]]:\n",
    "    \"\"\"\n",
    "    Free variables in rules get their type from the relations in the rule body. <br>\n",
    "    it is possible for a free variable to be expected to be more than one type (meaning it has conflicting types). <br>\n",
    "    for each free variable in the rule body relations, this method will check for its type and will check if it\n",
    "    has conflicting types\n",
    "    \"\"\"\n",
    "\n",
    "    free_var_to_type: Dict[str, DataTypes] = {}\n",
    "    conflicted_free_vars: Set[str] = set()\n",
    "\n",
    "    for relation, relation_type in zip(rule.body_relation_list, rule.body_relation_type_list):\n",
    "\n",
    "        if isinstance(relation, Relation):\n",
    "            # get the schema for the relation\n",
    "            relation_schema = symbol_table.get_relation_schema(relation.relation_name)\n",
    "            # perform the free variable type checking\n",
    "            type_check_rule_free_vars_aux(relation.term_list, relation.type_list, relation_schema,\n",
    "                                          free_var_to_type, conflicted_free_vars)\n",
    "\n",
    "        elif isinstance(relation, IERelation):\n",
    "            # get the input and output schema of the ie function\n",
    "            ie_func_name = relation.relation_name\n",
    "            ie_func_data = symbol_table.get_ie_func_data(ie_func_name)\n",
    "            input_schema = ie_func_data.get_input_types()\n",
    "            output_arity = len(relation.output_term_list) + len(relation.input_term_list)\n",
    "            output_schema = ie_func_data.get_output_types(output_arity)\n",
    "\n",
    "            # perform the free variable type checking on both the input and output term lists of the ie relation\n",
    "            type_check_rule_free_vars_aux(relation.input_term_list, relation.input_type_list,\n",
    "                                          input_schema, free_var_to_type, conflicted_free_vars)\n",
    "            type_check_rule_free_vars_aux(relation.input_term_list + relation.output_term_list,\n",
    "                                          relation.input_type_list + relation.output_type_list,\n",
    "                                          output_schema, free_var_to_type, conflicted_free_vars)\n",
    "\n",
    "        else:\n",
    "            raise Exception(f'unexpected relation type: {relation_type}')\n",
    "\n",
    "    return free_var_to_type, conflicted_free_vars"
   ]
  },
  {
   "cell_type": "code",
   "execution_count": 18,
   "metadata": {},
   "outputs": [],
   "source": [
    "#| export\n",
    "def type_check_rule_free_vars_aux(term_list: Sequence, # the term list of a rule body relation\n",
    "                                   type_list: Sequence, # the types of the terms in term_list\n",
    "                                     correct_type_list: Sequence, # a list of the types that the terms in the term list should have\n",
    "                                  free_var_to_type: Dict, # a mapping of free variables to their type (those that are currently known)\n",
    "                                    # a set of the free variables that are found to have conflicting types\n",
    "                                    conflicted_free_vars: Set # this function adds conflicting free variables that it finds to this set\n",
    "                                    ) -> None:\n",
    "    \"\"\"\n",
    "    A helper function for the method `type_check_rule_free_vars`\n",
    "    performs the free variables type checking on term_list.\n",
    "    \"\"\"\n",
    "\n",
    "    if len(term_list) != len(type_list) or len(term_list) != len(correct_type_list):\n",
    "        raise Exception(\"the length of term_list, type_list and correct_type_list should be the same\")\n",
    "\n",
    "    for term, term_type, correct_type in zip(term_list, type_list, correct_type_list):\n",
    "        if term_type is DataTypes.free_var_name:\n",
    "            # found a free variable, check for conflicting types\n",
    "            free_var = term\n",
    "            assert isinstance(free_var, str), \"a free_var must be of type str\"\n",
    "            if free_var in free_var_to_type:\n",
    "                # free var already has a type, make sure there's no conflict with the expected type.\n",
    "                free_var_type = free_var_to_type[free_var]\n",
    "                if free_var_type != correct_type:\n",
    "                    # found a conflicted free var, add it to the conflicted free vars set\n",
    "                    conflicted_free_vars.add(free_var)\n",
    "            else:\n",
    "                # free var does not currently have a type, map it to the correct type\n",
    "                free_var_to_type[free_var] = correct_type"
   ]
  },
  {
   "cell_type": "markdown",
   "metadata": {},
   "source": [
    "::: {.callout-note}\n",
    "this function updates `free_var_to_type`'s mapping if it finds new free variables in term_list\n",
    ":::"
   ]
  },
  {
   "cell_type": "code",
   "execution_count": 19,
   "metadata": {},
   "outputs": [],
   "source": [
    "#| export\n",
    "def rule_to_relation_name(rule: str # a string that represents a rule\n",
    "                          ) -> str: # the name of the rule relation\n",
    "    \"\"\"\n",
    "    Extracts the relation name from the rule string.\n",
    "    \"\"\"\n",
    "\n",
    "    return rule.strip().split('(')[0]"
   ]
  },
  {
   "cell_type": "code",
   "execution_count": 20,
   "metadata": {},
   "outputs": [],
   "source": [
    "#| export\n",
    "def string_to_span(string_of_span: str # str represenation of a `Span` object\n",
    "                   ) -> Optional[Span]: # `Span` object initialized based on the `string_of_span` it received as input \n",
    "    span_match = re.match(SPAN_PATTERN, string_of_span)\n",
    "    if not span_match:\n",
    "        return None\n",
    "    start, end = int(span_match.group(SPAN_GROUP1)), int(span_match.group(SPAN_GROUP2))\n",
    "    return Span(span_start=start, span_end=end)"
   ]
  },
  {
   "cell_type": "code",
   "execution_count": 21,
   "metadata": {},
   "outputs": [],
   "source": [
    "#| export\n",
    "def extract_one_relation(func: Callable) -> Callable:\n",
    "    \"\"\"\n",
    "    This decorator is used by engine operators that expect to get exactly one input relation but actually get a list of relations.\n",
    "    \"\"\"\n",
    "\n",
    "    @functools.wraps(func)\n",
    "    def wrapper(ref: Any, input_relations: Any, *args: Any, **kwargs: Any) -> Any:\n",
    "        \"\"\"\n",
    "        Flattens the relations list.\n",
    "        \"\"\"\n",
    "        if isinstance(input_relations, Relation):\n",
    "            return func(ref, input_relations, *args, **kwargs)\n",
    "\n",
    "        assert len(input_relations) == 1\n",
    "        return func(ref, input_relations[0], *args, **kwargs)\n",
    "\n",
    "    return wrapper"
   ]
  }
 ],
 "metadata": {
  "kernelspec": {
   "display_name": "python3",
   "language": "python",
   "name": "python3"
  },
  "language_info": {
   "codemirror_mode": {
    "name": "ipython",
    "version": 3
   },
   "file_extension": ".py",
   "mimetype": "text/x-python",
   "name": "python",
   "nbconvert_exporter": "python",
   "pygments_lexer": "ipython3",
   "version": "3.8.11"
  }
 },
 "nbformat": 4,
 "nbformat_minor": 4
}
