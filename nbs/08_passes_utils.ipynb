{
 "cells": [
  {
   "cell_type": "markdown",
   "metadata": {},
   "source": [
    "# Passes Utils\n",
    "\n",
    "> this module contains helper functions and function decorators that are used in lark passes."
   ]
  },
  {
   "cell_type": "code",
   "execution_count": null,
   "metadata": {},
   "outputs": [],
   "source": [
    "#| default_exp src.rgxlog_interpreter.src.rgxlog.engine.utils.passes_utils"
   ]
  },
  {
   "cell_type": "code",
   "execution_count": null,
   "metadata": {},
   "outputs": [],
   "source": [
    "#| hide\n",
    "from __future__ import annotations"
   ]
  },
  {
   "cell_type": "code",
   "execution_count": null,
   "metadata": {},
   "outputs": [],
   "source": [
    "#| hide\n",
    "from nbdev.showdoc import *"
   ]
  },
  {
   "cell_type": "code",
   "execution_count": null,
   "metadata": {},
   "outputs": [
    {
     "name": "stdout",
     "output_type": "stream",
     "text": [
      "Requirement already satisfied: lark in c:\\users\\asmaa\\appdata\\local\\programs\\python\\python310\\lib\\site-packages (1.1.5)\n"
     ]
    }
   ],
   "source": [
    "#| hide\n",
    "!pip install lark"
   ]
  },
  {
   "cell_type": "code",
   "execution_count": null,
   "metadata": {},
   "outputs": [],
   "source": [
    "#| export\n",
    "from enum import Enum\n",
    "\n",
    "from lark import Tree as LarkNode\n",
    "from typing import Any, Callable, Iterable\n",
    "\n",
    "from spanner_workbench.src.rgxlog_interpreter.src.rgxlog.engine.state.graphs import GraphBase, EvalState\n",
    "from spanner_workbench.src.rgxlog_interpreter.src.rgxlog.engine.utils.expected_grammar import rgxlog_expected_children_names_lists"
   ]
  },
  {
   "cell_type": "code",
   "execution_count": null,
   "metadata": {},
   "outputs": [],
   "source": [
    "#| hide\n",
    "#| exec_doc\n",
    "import inspect"
   ]
  },
  {
   "cell_type": "code",
   "execution_count": null,
   "metadata": {},
   "outputs": [],
   "source": [
    "#| hide\n",
    "#| exec_doc\n",
    "imported_classes = []\n",
    "for name, obj in list(globals().items()):\n",
    "    if inspect.isclass(obj) and inspect.getmodule(obj) is not None:\n",
    "        imported_classes.append(obj)\n",
    "for cls in imported_classes:\n",
    "    if 'spanner_workbench' in cls.__module__:\n",
    "        cls.__module__ = cls.__module__.split('.')[-1]"
   ]
  },
  {
   "cell_type": "code",
   "execution_count": null,
   "metadata": {},
   "outputs": [],
   "source": [
    "#| export\n",
    "class ParseNodeType(Enum):\n",
    "    \"\"\"\n",
    "    will be used as parse graph node types.\n",
    "    \"\"\"\n",
    "\n",
    "    ADD_FACT = \"add_fact\"\n",
    "    REMOVE_FACT = \"remove_fact\"\n",
    "    QUERY = \"query\"\n",
    "    RELATION_DECLARATION = \"relation_declaration\"\n",
    "    RULE = \"rule\"\n",
    "\n",
    "    def __str__(self) -> str:\n",
    "        return self.value"
   ]
  },
  {
   "cell_type": "code",
   "execution_count": null,
   "metadata": {},
   "outputs": [],
   "source": [
    "#| export\n",
    "def assert_expected_node_structure_aux(lark_node: Any # the lark node to be checked\n",
    "                                       ) -> None:\n",
    "    \"\"\"\n",
    "    Checks whether a lark node has a structure that the lark passes expect.\n",
    "    \"\"\"\n",
    "\n",
    "    # check if lark_node is really a lark node. this is done because applying the check recursively might result in\n",
    "    # some children being literal values and not lark nodes\n",
    "    if isinstance(lark_node, LarkNode):\n",
    "        node_type = lark_node.data\n",
    "        if node_type in rgxlog_expected_children_names_lists:\n",
    "\n",
    "            # this lark node's structure can be checked, get its children and expected children lists\n",
    "            children_names = [child.data for child in lark_node.children if isinstance(child, LarkNode)]\n",
    "            expected_children_names_lists = rgxlog_expected_children_names_lists[node_type]\n",
    "\n",
    "            # check if the node's children names match one of the expected children names lists\n",
    "            if children_names not in expected_children_names_lists:\n",
    "                # the node has an unexpected structure, raise an exception\n",
    "                expected_children_list_strings = [str(children) for children in expected_children_names_lists]\n",
    "                expected_children_string = '\\n'.join(expected_children_list_strings)\n",
    "                raise Exception(f'node of type \"{node_type}\" has unexpected children: {children_names}\\n'\n",
    "                                f'expected one of the following children lists:\\n'\n",
    "                                f'{expected_children_string}')\n",
    "\n",
    "        # recursively check the structure of the node's children\n",
    "        for child in lark_node.children:\n",
    "            assert_expected_node_structure_aux(child)"
   ]
  },
  {
   "cell_type": "code",
   "execution_count": null,
   "metadata": {},
   "outputs": [],
   "source": [
    "#| export\n",
    "def assert_expected_node_structure(func: Callable # A function to run the decorator on\n",
    "            ) -> Callable:\n",
    "    \"\"\"\n",
    "    Use this decorator to check whether a method's input lark node has a structure that is expected by the lark passes\n",
    "    the lark node and its children are checked recursively\n",
    "\n",
    "    some lark nodes may have multiple structures (e.g. `Assignment`). in this case this check will succeed if the lark\n",
    "    node has one of those structures.\n",
    "    \"\"\"\n",
    "\n",
    "    def wrapped_method(visitor: Any, lark_node: Any) -> Any:\n",
    "        assert_expected_node_structure_aux(lark_node)\n",
    "        return func(visitor, lark_node)\n",
    "\n",
    "    return wrapped_method"
   ]
  },
  {
   "cell_type": "markdown",
   "metadata": {},
   "source": [
    ":::{.callout-note}\n",
    "note that this decorator should only be used on methods that expect lark nodes that weren't converted to structured nodes.\n",
    ":::"
   ]
  },
  {
   "cell_type": "code",
   "execution_count": null,
   "metadata": {},
   "outputs": [],
   "source": [
    "#| export\n",
    "def unravel_lark_node(func: Callable # A function to run the decorator on\n",
    "                ) -> Callable:\n",
    "    \"\"\"\n",
    "    Even after converting a lark tree to use structured nodes, the methods in lark passes will still receive a lark\n",
    "    node as an input, and the child of said lark node will be the actual structured node that the method will work\n",
    "    with.\n",
    "    \"\"\"\n",
    "\n",
    "    def wrapped_method(visitor: Any, lark_node: LarkNode) -> Any:\n",
    "        structured_node = lark_node.children[0]\n",
    "        return func(visitor, structured_node)\n",
    "\n",
    "    return wrapped_method"
   ]
  },
  {
   "cell_type": "markdown",
   "metadata": {},
   "source": [
    "::: {.callout-tip}\n",
    "use this decorator to replace a method's lark node input with its child structured node.\n",
    ":::"
   ]
  },
  {
   "cell_type": "code",
   "execution_count": null,
   "metadata": {},
   "outputs": [],
   "source": [
    "#| export\n",
    "def get_new_rule_nodes(parse_graph: GraphBase) -> Iterable[GraphBase.NodeIdType]:\n",
    "    \"\"\"\n",
    "    Finds all rules that weren't added to the term graph yet.\n",
    "    \"\"\"\n",
    "\n",
    "    return parse_graph.get_all_nodes_with_attributes(type=ParseNodeType.RULE, state=EvalState.NOT_COMPUTED)"
   ]
  }
 ],
 "metadata": {
  "kernelspec": {
   "display_name": "python3",
   "language": "python",
   "name": "python3"
  }
 },
 "nbformat": 4,
 "nbformat_minor": 4
}
