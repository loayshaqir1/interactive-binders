{
 "cells": [
  {
   "cell_type": "markdown",
   "metadata": {},
   "source": [
    "# Rust spanner regex\n",
    "> This module contains implementation of regex ie functions using the rust package `enum-spanner-rs`"
   ]
  },
  {
   "cell_type": "code",
   "execution_count": 1,
   "metadata": {},
   "outputs": [],
   "source": [
    "#| default_exp src.rgxlog_interpreter.src.rgxlog.stdlib.rust_spanner_regex"
   ]
  },
  {
   "cell_type": "code",
   "execution_count": 2,
   "metadata": {},
   "outputs": [],
   "source": [
    "#| hide\n",
    "from __future__ import annotations"
   ]
  },
  {
   "cell_type": "code",
   "execution_count": 3,
   "metadata": {},
   "outputs": [],
   "source": [
    "#| hide\n",
    "from nbdev.showdoc import *"
   ]
  },
  {
   "cell_type": "code",
   "execution_count": 4,
   "metadata": {},
   "outputs": [],
   "source": [
    "#| export\n",
    "import logging\n",
    "import re\n",
    "import tempfile\n",
    "from pathlib import Path\n",
    "from subprocess import Popen, PIPE\n",
    "from sys import platform\n",
    "from typing import Tuple, List, Union, Iterable, Sequence, no_type_check, Callable, Optional\n",
    "import os\n",
    "\n",
    "from spanner_workbench.src.rgxlog_interpreter.src.rgxlog.engine.datatypes.primitive_types import DataTypes, Span\n",
    "from spanner_workbench.src.rgxlog_interpreter.src.rgxlog.stdlib.utils import run_cli_command"
   ]
  },
  {
   "cell_type": "code",
   "execution_count": 5,
   "metadata": {},
   "outputs": [],
   "source": [
    "#| hide\n",
    "#| exec_doc\n",
    "import inspect"
   ]
  },
  {
   "cell_type": "code",
   "execution_count": 6,
   "metadata": {},
   "outputs": [],
   "source": [
    "#| hide\n",
    "#| exec_doc\n",
    "imported_classes = []\n",
    "for name, obj in list(globals().items()):\n",
    "    if inspect.isclass(obj) and inspect.getmodule(obj) is not None:\n",
    "        imported_classes.append(obj)\n",
    "for cls in imported_classes:\n",
    "    if 'spanner_workbench' in cls.__module__:\n",
    "        cls.__module__ = cls.__module__.split('.')[-1]"
   ]
  },
  {
   "cell_type": "markdown",
   "metadata": {},
   "source": [
    "#| hide\n",
    "# types"
   ]
  },
  {
   "cell_type": "code",
   "execution_count": 7,
   "metadata": {},
   "outputs": [],
   "source": [
    "#| export\n",
    "#| hide\n",
    "RUST_RGX_IN_TYPES = [DataTypes.string, DataTypes.string]"
   ]
  },
  {
   "cell_type": "markdown",
   "metadata": {},
   "source": [
    "#| hide\n",
    "# rust"
   ]
  },
  {
   "cell_type": "code",
   "execution_count": 8,
   "metadata": {},
   "outputs": [],
   "source": [
    "#| export\n",
    "DOWNLOAD_RUST_URL = \"https://rustup.rs/\""
   ]
  },
  {
   "cell_type": "markdown",
   "metadata": {},
   "source": [
    "#| hide\n",
    "# package info\n",
    "@niv: i use my fork here because it's more stable than the original"
   ]
  },
  {
   "cell_type": "code",
   "execution_count": 9,
   "metadata": {},
   "outputs": [],
   "source": [
    "#| export\n",
    "PACKAGE_GIT_URL = \"https://github.com/NNRepos/enum-spanner-rs\"\n",
    "PACKAGE_NAME = \"enum-spanner-rs\"\n",
    "PACKAGE_WIN_FILENAME = PACKAGE_NAME + \".exe\"\n",
    "REGEX_FOLDER_NAME = \"enum_spanner_regex\""
   ]
  },
  {
   "cell_type": "markdown",
   "metadata": {},
   "source": [
    "#| hide\n",
    "# installation paths"
   ]
  },
  {
   "cell_type": "code",
   "execution_count": 10,
   "metadata": {},
   "outputs": [],
   "source": [
    "#| export\n",
    "REGEX_FOLDER_PATH = Path(os.path.join(os.path.dirname(os.getcwd()),'spanner_workbench','src','rgxlog_interpreter','src','rgxlog','stdlib')) / REGEX_FOLDER_NAME\n",
    "REGEX_TEMP_PATH = Path(REGEX_FOLDER_PATH) / \"temp{}.txt\"\n",
    "REGEX_EXE_PATH_POSIX = Path(REGEX_FOLDER_PATH) / \"bin\" / PACKAGE_NAME\n",
    "REGEX_EXE_PATH_WIN = Path(REGEX_FOLDER_PATH) / \"bin\" / PACKAGE_WIN_FILENAME"
   ]
  },
  {
   "cell_type": "markdown",
   "metadata": {},
   "source": [
    "#| hide\n",
    "# commands"
   ]
  },
  {
   "cell_type": "code",
   "execution_count": 11,
   "metadata": {},
   "outputs": [],
   "source": [
    "#| export\n",
    "RUSTUP_TOOLCHAIN = \"1.34\"\n",
    "CARGO_CMD_ARGS: Sequence[Union[Path, str]] = [\"cargo\", \"+\" + RUSTUP_TOOLCHAIN, \"install\", \"--root\", REGEX_FOLDER_PATH, \"--git\", PACKAGE_GIT_URL]\n",
    "RUSTUP_CMD_ARGS = [\"rustup\", \"toolchain\", \"install\", RUSTUP_TOOLCHAIN]\n",
    "SHORT_TIMEOUT = 3\n",
    "CARGO_TIMEOUT = 300\n",
    "RUSTUP_TIMEOUT = 300\n",
    "TIMEOUT_MINUTES = (CARGO_TIMEOUT + RUSTUP_TIMEOUT) // 60"
   ]
  },
  {
   "cell_type": "markdown",
   "metadata": {},
   "source": [
    "#| hide\n",
    "# os-dependent variables"
   ]
  },
  {
   "cell_type": "code",
   "execution_count": 12,
   "metadata": {},
   "outputs": [],
   "source": [
    "#| export\n",
    "WINDOWS_OS = \"win32\"\n",
    "WHICH_WORD = \"where\" if platform == WINDOWS_OS else \"which\"\n",
    "REGEX_EXE_PATH = REGEX_EXE_PATH_WIN if platform == WINDOWS_OS else REGEX_EXE_PATH_POSIX"
   ]
  },
  {
   "cell_type": "markdown",
   "metadata": {},
   "source": [
    "#| hide\n",
    "# patterns\n",
    "taken from https://stackoverflow.com/questions/5452655/"
   ]
  },
  {
   "cell_type": "code",
   "execution_count": 13,
   "metadata": {},
   "outputs": [],
   "source": [
    "#| export\n",
    "#| hide\n",
    "ESCAPED_STRINGS_PATTERN = re.compile(r'\"([^\"\\\\]*(?:\\\\.[^\"\\\\]*)*)\"', re.DOTALL)\n",
    "SPAN_PATTERN = re.compile(r\"(?P<start>\\d+), ?(?P<end>\\d+)\")"
   ]
  },
  {
   "cell_type": "code",
   "execution_count": 14,
   "metadata": {},
   "outputs": [],
   "source": [
    "#| export\n",
    "#| hide\n",
    "# etc\n",
    "TEMP_FILE_NAME = \"temp\"\n",
    "\n",
    "logger = logging.getLogger(__name__)"
   ]
  },
  {
   "cell_type": "code",
   "execution_count": 15,
   "metadata": {},
   "outputs": [],
   "source": [
    "#| export\n",
    "#| hide\n",
    "def _download_and_install_rust_regex() -> None:\n",
    "    # don't use \"cargo -V\" because it starts downloading stuff sometimes\n",
    "    with Popen([WHICH_WORD, \"cargo\"], stdout=PIPE, stderr=PIPE) as cargo:\n",
    "        errcode = cargo.wait(SHORT_TIMEOUT)\n",
    "\n",
    "    with Popen([WHICH_WORD, \"rustup\"], stdout=PIPE, stderr=PIPE) as rustup:\n",
    "        errcode |= rustup.wait(SHORT_TIMEOUT)\n",
    "\n",
    "    if errcode:\n",
    "        raise IOError(f\"cargo or rustup are not installed in $PATH. please install rust: {DOWNLOAD_RUST_URL}\")\n",
    "\n",
    "    logger.warning(f\"{PACKAGE_NAME} was not found on your system\")\n",
    "    logger.warning(f\"installing package. this might take up to {TIMEOUT_MINUTES} minutes...\")\n",
    "\n",
    "    # there's no pipe here to let the user to see the output\n",
    "    with Popen(RUSTUP_CMD_ARGS) as rustup:\n",
    "        rustup.wait(RUSTUP_TIMEOUT)\n",
    "\n",
    "    with Popen(CARGO_CMD_ARGS) as cargo:\n",
    "        cargo.wait(CARGO_TIMEOUT)\n",
    "\n",
    "    if not _is_installed_package():\n",
    "        raise Exception(\"installation failed - check the output\")\n",
    "\n",
    "    logger.warning(\"installation completed\")"
   ]
  },
  {
   "cell_type": "code",
   "execution_count": 16,
   "metadata": {},
   "outputs": [],
   "source": [
    "#| export\n",
    "#| hide\n",
    "def _is_installed_package() -> bool:\n",
    "    return Path(REGEX_EXE_PATH).is_file()"
   ]
  },
  {
   "cell_type": "code",
   "execution_count": 17,
   "metadata": {},
   "outputs": [],
   "source": [
    "#| export\n",
    "#| hide\n",
    "@no_type_check\n",
    "def rgx_span_out_type(output_arity: int) -> Tuple[DataTypes]:\n",
    "    return tuple([DataTypes.span] * output_arity)"
   ]
  },
  {
   "cell_type": "code",
   "execution_count": 18,
   "metadata": {},
   "outputs": [],
   "source": [
    "#| export\n",
    "#| hide\n",
    "@no_type_check\n",
    "def rgx_string_out_type(output_arity: int) -> Tuple[DataTypes]:\n",
    "    return tuple([DataTypes.string] * output_arity)"
   ]
  },
  {
   "cell_type": "code",
   "execution_count": 19,
   "metadata": {},
   "outputs": [],
   "source": [
    "#| export\n",
    "#| hide\n",
    "def _format_spanner_string_output(output: Iterable[str]) -> List[List[str]]:\n",
    "    output_lists = []\n",
    "    for out in output:\n",
    "        out_list = []\n",
    "        matches = ESCAPED_STRINGS_PATTERN.findall(out)\n",
    "        for match in matches:\n",
    "            # the pattern leaves the backslashes\n",
    "            escaped_match = re.sub(r'\\\\\"', '\"', match)\n",
    "            out_list.append(escaped_match)\n",
    "        output_lists.append(out_list)\n",
    "\n",
    "    return output_lists"
   ]
  },
  {
   "cell_type": "code",
   "execution_count": 20,
   "metadata": {},
   "outputs": [],
   "source": [
    "#| export\n",
    "#| hide\n",
    "def _format_spanner_span_output(output: Iterable[str]) -> List[List[Span]]:\n",
    "    output_lists = []\n",
    "    for out in output:\n",
    "        out_list = []\n",
    "        matches = SPAN_PATTERN.finditer(out)\n",
    "        for match in matches:\n",
    "            start, end = int(match.group(\"start\")), int(match.group(\"end\"))\n",
    "            out_list.append(Span(start, end))\n",
    "        output_lists.append(out_list)\n",
    "\n",
    "    return output_lists"
   ]
  },
  {
   "cell_type": "code",
   "execution_count": 21,
   "metadata": {},
   "outputs": [],
   "source": [
    "#| export\n",
    "def rgx(regex_pattern: str, # the pattern to run\n",
    "        out_type: str, # string/span - decides which one will be returned\n",
    "        text: Optional[str] = None, # the string on which regex is run\n",
    "        text_file: Optional[str] = None # use text from this file instead of `text`. default: None\n",
    "        ) -> Iterable[Iterable[Union[str, Span]]]: # a tuple of strings/spans\n",
    "    \"\"\"\n",
    "    An IE function which runs regex using rust's `enum-spanner-rs` and yields tuples of strings/spans (not both).\n",
    "    \"\"\"\n",
    "    with tempfile.TemporaryDirectory() as temp_dir:\n",
    "        if text_file:\n",
    "            rgx_temp_file_name = Path(text_file)\n",
    "        else:\n",
    "            assert text is not None, \"at least one of text/text_file must have a value\"\n",
    "            rgx_temp_file_name = Path(temp_dir) / TEMP_FILE_NAME\n",
    "            with open(rgx_temp_file_name, \"w+\") as f:\n",
    "                f.write(text)\n",
    "\n",
    "        if out_type == \"string\":\n",
    "            rust_regex_args = f\"{REGEX_EXE_PATH} {regex_pattern} {rgx_temp_file_name}\"\n",
    "            format_function: Callable = _format_spanner_string_output\n",
    "        elif out_type == \"span\":\n",
    "            rust_regex_args = f\"{REGEX_EXE_PATH} {regex_pattern} {rgx_temp_file_name} --bytes-offset\"\n",
    "            format_function = _format_spanner_span_output\n",
    "        else:\n",
    "            assert False, \"illegal out_type\"\n",
    "\n",
    "        regex_output = format_function(run_cli_command(rust_regex_args, stderr=True))\n",
    "\n",
    "        for out in regex_output:\n",
    "            yield out"
   ]
  },
  {
   "cell_type": "code",
   "execution_count": 22,
   "metadata": {},
   "outputs": [],
   "source": [
    "#| export\n",
    "def rgx_span(text: str, # The input text for the regex operation\n",
    "             regex_pattern: str # The pattern of the regex operation\n",
    "             ) -> Iterable[Iterable[Union[str, Span]]]: # tuples of spans that represents the results\n",
    "    return rgx(regex_pattern, \"span\", text=text)"
   ]
  },
  {
   "cell_type": "code",
   "execution_count": 23,
   "metadata": {},
   "outputs": [],
   "source": [
    "#| export\n",
    "#| hide\n",
    "RGX = dict(ie_function=rgx_span,\n",
    "           ie_function_name='rgx_span',\n",
    "           in_rel=RUST_RGX_IN_TYPES,\n",
    "           out_rel=rgx_span_out_type)"
   ]
  },
  {
   "cell_type": "code",
   "execution_count": 24,
   "metadata": {},
   "outputs": [],
   "source": [
    "#| export\n",
    "def rgx_string(text: str, # The input text for the regex operation\n",
    "               regex_pattern: str # he pattern of the regex operation\n",
    "               ) -> Iterable[Iterable[Union[str, Span]]]: # tuples of strings that represents the results\n",
    "    return rgx(regex_pattern, \"string\", text=text)"
   ]
  },
  {
   "cell_type": "code",
   "execution_count": 25,
   "metadata": {},
   "outputs": [],
   "source": [
    "#| export\n",
    "#| hide\n",
    "RGX_STRING = dict(ie_function=rgx_string,\n",
    "                  ie_function_name='rgx_string',\n",
    "                  in_rel=RUST_RGX_IN_TYPES,\n",
    "                  out_rel=rgx_string_out_type)"
   ]
  },
  {
   "cell_type": "code",
   "execution_count": 26,
   "metadata": {},
   "outputs": [],
   "source": [
    "#| export\n",
    "def rgx_span_from_file(text_file: str, # The input file for the regex operation\n",
    "                       regex_pattern: str # The pattern of the regex operation\n",
    "                       ) -> Iterable[Iterable[Union[str, Span]]]: # tuples of spans that represents the results\n",
    "    return rgx(regex_pattern, \"span\", text_file=text_file)"
   ]
  },
  {
   "cell_type": "code",
   "execution_count": 27,
   "metadata": {},
   "outputs": [],
   "source": [
    "#| export\n",
    "#| hide\n",
    "RGX_FROM_FILE = dict(ie_function=rgx_span_from_file,\n",
    "                     ie_function_name='rgx_span_from_file',\n",
    "                     in_rel=RUST_RGX_IN_TYPES,\n",
    "                     out_rel=rgx_span_out_type)"
   ]
  },
  {
   "cell_type": "code",
   "execution_count": 28,
   "metadata": {},
   "outputs": [],
   "source": [
    "#| export\n",
    "def rgx_string_from_file(text_file: str, # The input file for the regex operation\n",
    "                         regex_pattern: str # The pattern of the regex operation\n",
    "                         ) -> Iterable[Iterable[Union[str, Span]]]: # tuples of strings that represents the results\n",
    "    return rgx(regex_pattern, \"string\", text_file=text_file)"
   ]
  },
  {
   "cell_type": "code",
   "execution_count": 29,
   "metadata": {},
   "outputs": [],
   "source": [
    "#| export\n",
    "#| hide\n",
    "RGX_STRING_FROM_FILE = dict(ie_function=rgx_string_from_file,\n",
    "                            ie_function_name='rgx_string_from_file',\n",
    "                            in_rel=RUST_RGX_IN_TYPES,\n",
    "                            out_rel=rgx_string_out_type)"
   ]
  },
  {
   "cell_type": "code",
   "execution_count": 30,
   "metadata": {},
   "outputs": [],
   "source": [
    "#| hide\n",
    "#| export\n",
    "\n",
    "# the package is installed when this module is imported\n",
    "if not _is_installed_package():\n",
    "    _download_and_install_rust_regex()"
   ]
  }
 ],
 "metadata": {
  "kernelspec": {
   "display_name": "python3",
   "language": "python",
   "name": "python3"
  },
  "language_info": {
   "codemirror_mode": {
    "name": "ipython",
    "version": 3
   },
   "file_extension": ".py",
   "mimetype": "text/x-python",
   "name": "python",
   "nbconvert_exporter": "python",
   "pygments_lexer": "ipython3",
   "version": "3.8.11"
  }
 },
 "nbformat": 4,
 "nbformat_minor": 4
}
