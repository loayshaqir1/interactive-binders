{
 "cells": [
  {
   "cell_type": "code",
   "execution_count": null,
   "metadata": {},
   "outputs": [],
   "source": [
    "#| default_exp src.rgxlog_interpreter.tests.test_primitive_types"
   ]
  },
  {
   "cell_type": "code",
   "execution_count": null,
   "metadata": {},
   "outputs": [],
   "source": [
    "#| export\n",
    "import pytest\n",
    "from spanner_workbench.src.rgxlog_interpreter.src.rgxlog.engine.datatypes.primitive_types import DataTypes, DataTypeMapping, Span"
   ]
  },
  {
   "cell_type": "code",
   "execution_count": null,
   "metadata": {},
   "outputs": [],
   "source": [
    "#| export\n",
    "def test_primitive_types_sanity() -> None:\n",
    "    # test creating illegal Span instances:\n",
    "    with pytest.raises(TypeError) as e_info:\n",
    "        Span('x',0)\n",
    "    assert str(e_info.value) == \"Span's start/end must be integers\" \n",
    "\n",
    "    with pytest.raises(TypeError) as e_info:\n",
    "        Span('x','x')\n",
    "    assert str(e_info.value) == \"Span's start/end must be integers\"\n",
    "\n",
    "    with pytest.raises(TypeError) as e_info:\n",
    "        Span(0,'x')\n",
    "    assert str(e_info.value) == \"Span's start/end must be integers\" \n",
    "\n",
    "    span1 = Span(15,16)\n",
    "    span2 = Span(15,16)\n",
    "    assert span1 == span2\n",
    "\n",
    "    span1 = Span(15,16)\n",
    "    span2 = Span(15,17)\n",
    "    assert span1 < span2\n",
    "\n",
    "    span1 = Span(14,16)\n",
    "    span2 = Span(13,17)\n",
    "    assert span1 > span2"
   ]
  }
 ],
 "metadata": {
  "kernelspec": {
   "display_name": "python3",
   "language": "python",
   "name": "python3"
  }
 },
 "nbformat": 4,
 "nbformat_minor": 2
}
