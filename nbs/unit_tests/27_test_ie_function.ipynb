{
 "cells": [
  {
   "cell_type": "code",
   "execution_count": null,
   "metadata": {},
   "outputs": [],
   "source": [
    "#| default_exp src.rgxlog_interpreter.tests.test_ie_function"
   ]
  },
  {
   "cell_type": "code",
   "execution_count": null,
   "metadata": {},
   "outputs": [],
   "source": [
    "#| export\n",
    "import pytest\n",
    "from spanner_workbench.src.rgxlog_interpreter.src.rgxlog.engine.datatypes.primitive_types import Span, DataTypes, DataTypeMapping\n",
    "from spanner_workbench.src.rgxlog_interpreter.src.rgxlog.engine.ie_function import IEFunction\n",
    "from typing import Callable, List, Union, Sequence\n",
    "\n",
    "def sample_ie_func1(x: int, y: str):\n",
    "    yield (x, y, x + 1)\n",
    "\n",
    "def sample_ie_func2(x: int):\n",
    "    yield x * 2\n",
    "\n",
    "def dynamic_output_arity_func(n: int) -> Sequence[DataTypes]:\n",
    "    return [DataTypes.integer] * n\n",
    "\n",
    "def test_ie_function_execution():\n",
    "    ie_func = IEFunction(sample_ie_func1, [DataTypes.integer, DataTypes.string], [DataTypes.integer, DataTypes.string, DataTypes.integer])\n",
    "    result = list(ie_func.ie_function(1, \"test\"))\n",
    "    assert result == [(1, \"test\", 2)]\n",
    "\n",
    "def test_get_input_types():\n",
    "    ie_func = IEFunction(sample_ie_func1, [DataTypes.integer, DataTypes.string], [DataTypes.integer])\n",
    "    assert ie_func.get_input_types() == [DataTypes.integer, DataTypes.string]\n",
    "\n",
    "def test_get_output_types_static():\n",
    "    ie_func = IEFunction(sample_ie_func1, [DataTypes.integer, DataTypes.string], [DataTypes.integer, DataTypes.string, DataTypes.integer])\n",
    "    assert ie_func.get_output_types(5) == [DataTypes.integer, DataTypes.string ,DataTypes.integer, DataTypes.string, DataTypes.integer]\n",
    "\n",
    "def test_get_output_types_dynamic():\n",
    "    ie_func = IEFunction(sample_ie_func2, [DataTypes.integer], dynamic_output_arity_func)\n",
    "    assert ie_func.get_output_types(4) == [DataTypes.integer,DataTypes.integer, DataTypes.integer, DataTypes.integer]"
   ]
  },
  {
   "cell_type": "code",
   "execution_count": null,
   "metadata": {},
   "outputs": [],
   "source": []
  }
 ],
 "metadata": {
  "kernelspec": {
   "display_name": "python3",
   "language": "python",
   "name": "python3"
  }
 },
 "nbformat": 4,
 "nbformat_minor": 2
}
