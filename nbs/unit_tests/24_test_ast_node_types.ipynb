{
 "cells": [
  {
   "cell_type": "code",
   "execution_count": null,
   "metadata": {},
   "outputs": [],
   "source": [
    "#| default_exp src.rgxlog_interpreter.tests.test_ast_node_types"
   ]
  },
  {
   "cell_type": "code",
   "execution_count": null,
   "metadata": {},
   "outputs": [],
   "source": [
    "#| export\n",
    "import pytest\n",
    "from spanner_workbench.src.rgxlog_interpreter.src.rgxlog.engine.datatypes.primitive_types import DataTypes, DataTypeMapping, Span\n",
    "from spanner_workbench.src.rgxlog_interpreter.src.rgxlog.engine.datatypes.ast_node_types import RelationDeclaration, AddFact, RemoveFact, Assignment, Query, IERelation, Relation, get_term_list_string"
   ]
  },
  {
   "cell_type": "code",
   "execution_count": null,
   "metadata": {},
   "outputs": [],
   "source": [
    "#| export\n",
    "def test_ast_node_types_sanity() -> None:\n",
    "    # Test different lengths of term_list and type_list\n",
    "    term_list = ['X','Y',3]\n",
    "    type_list = [DataTypes.free_var_name,DataTypes.free_var_name]\n",
    "    with pytest.raises(Exception) as ex_info:\n",
    "        term_list_str = get_term_list_string(term_list, type_list)\n",
    "    \n",
    "    # Test declaring Relations\n",
    "    Relation(\"parents\", ['X', 'Y'], [DataTypes.free_var_name, DataTypes.free_var_name])\n",
    "    Relation(\"parents\", ['Jack', 'Michael'], [DataTypes.string, DataTypes.string])\n",
    "    Relation(\"parents\", [2, 2], [DataTypes.integer, DataTypes.integer])\n",
    "    Relation(\"parents\", ['[3,5)', 'Y'], [DataTypes.span, DataTypes.free_var_name])\n",
    "\n",
    "    # Test declaring illegal Relations\n",
    "    with pytest.raises(Exception):\n",
    "        Relation(\"parents\", ['X', 'Y'], [DataTypes.free_var_name])\n",
    "\n",
    "    with pytest.raises(Exception):\n",
    "        Relation(\"parents\", ['X'], [DataTypes.free_var_name, DataTypes.integer])\n",
    "\n",
    "    # Test declaring a class RelationDeclaration with a DataTypes.free_var_name as a member of the type_list\n",
    "    rel_decl = RelationDeclaration(\"test\", [DataTypes.integer, DataTypes.free_var_name])\n",
    "    str(rel_decl)"
   ]
  }
 ],
 "metadata": {
  "kernelspec": {
   "display_name": "python3",
   "language": "python",
   "name": "python3"
  }
 },
 "nbformat": 4,
 "nbformat_minor": 2
}
