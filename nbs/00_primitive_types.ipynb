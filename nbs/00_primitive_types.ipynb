{
 "cells": [
  {
   "cell_type": "markdown",
   "metadata": {},
   "source": [
    "# Primitive Types"
   ]
  },
  {
   "cell_type": "markdown",
   "metadata": {},
   "source": [
    "this module contains the 'DataTypes' enum that is used to represents the types of variables or terms in the ast,\n",
    "term graph and symbol table\n",
    "\n",
    "this module also contains class representations of complex datatypes (e.g. Span which is represented by two numbers)"
   ]
  },
  {
   "cell_type": "code",
   "execution_count": null,
   "metadata": {},
   "outputs": [],
   "source": [
    "#| default_exp src.rgxlog_interpreter.src.rgxlog.engine.datatypes.primitive_types"
   ]
  },
  {
   "cell_type": "code",
   "execution_count": null,
   "metadata": {},
   "outputs": [],
   "source": [
    "#| hide\n",
    "from nbdev.showdoc import *"
   ]
  },
  {
   "cell_type": "code",
   "execution_count": null,
   "metadata": {},
   "outputs": [],
   "source": [
    "#| export\n",
    "from enum import Enum\n",
    "from typing import Union, Any"
   ]
  },
  {
   "cell_type": "code",
   "execution_count": null,
   "metadata": {},
   "outputs": [],
   "source": [
    "#| export\n",
    "class DataTypes(Enum):\n",
    "    \"\"\"\n",
    "    An enum class that represents the types of RGXLog\n",
    "    \"\"\"\n",
    "    string = 0\n",
    "    span = 1\n",
    "    integer = 2\n",
    "    free_var_name = 3\n",
    "    var_name = 4\n",
    "\n",
    "    def __str__(self) -> str:\n",
    "        \"\"\"\n",
    "        @return: a string representation of a datatype.\n",
    "        The string is also the same string used as a node type of said datatype in the grammar and passes\n",
    "        e.g. a node that contains a Datatype.string value is of type \"string\" in the grammar and passes\n",
    "        \"\"\"\n",
    "        return self.name\n",
    "\n",
    "    @staticmethod\n",
    "    def from_string(datatype_string: str) -> \"DataTypes\":\n",
    "        \"\"\"\n",
    "        @return: a datatype enum representation of a string type.\n",
    "        The string has to be the same string used as a node type of a datatype in the grammar and passes\n",
    "        \"\"\"\n",
    "        return DataTypes[datatype_string]"
   ]
  },
  {
   "cell_type": "markdown",
   "metadata": {},
   "source": [
    "The current supported types are: <br>\n",
    "    string <br>\n",
    "    span: A `Span` identifies a substring of a string by specifying its bounding indices. It is constructed from two integers. [a,b) <br>\n",
    "    integer <br>\n",
    "    free_var_name <br>\n",
    "    var_name <br>"
   ]
  },
  {
   "cell_type": "code",
   "execution_count": null,
   "metadata": {},
   "outputs": [],
   "source": [
    "#| export\n",
    "class Span:\n",
    "    \"\"\"A representation of a span\"\"\"\n",
    "\n",
    "    def __init__(self, span_start: int, # the first (included) index of the span.\n",
    "                 span_end: int): # the last (excluded) index of the span.\n",
    "        if not (isinstance(span_start, int) and isinstance(span_end, int)):\n",
    "            raise TypeError(\"Span's start/end must be integers\")\n",
    "        if span_start < 0 or span_end < 0:\n",
    "            raise ValueError(\"Span's start/end must be >= 0\")\n",
    "        if not(span_end > span_start):\n",
    "            raise ValueError(\"span_end must be greater than span_start\")\n",
    "        self.span_start = span_start\n",
    "        self.span_end = span_end\n",
    "\n",
    "    def __str__(self) -> str:\n",
    "        return f\"[{self.span_start}, {self.span_end})\"\n",
    "\n",
    "    def __lt__(self, other: \"Span\") -> bool:\n",
    "        if self.span_start == other.span_start:\n",
    "            return self.span_end < other.span_end\n",
    "\n",
    "        return self.span_start < other.span_start\n",
    "\n",
    "    def __eq__(self, other: Any) -> bool:\n",
    "        if not isinstance(other, Span):\n",
    "            return False\n",
    "        return self.span_start == other.span_start and self.span_end == other.span_end\n",
    "\n",
    "    # used for sorting `Span`s in dataframes\n",
    "    def __hash__(self) -> int:\n",
    "        return hash((self.span_start, self.span_end))\n",
    "\n",
    "    def __repr__(self) -> str:\n",
    "        return self.__name__"
   ]
  },
  {
   "cell_type": "code",
   "execution_count": null,
   "metadata": {},
   "outputs": [],
   "source": [
    "#| export\n",
    "class DataTypeMapping:\n",
    "    \"\"\"\n",
    "    The DataTypeMapping class Maps between the supported DataTypes to their object type\n",
    "    \"\"\"\n",
    "    string = str\n",
    "    span = Span\n",
    "    integer = int\n",
    "    free_var_name = str\n",
    "    var_name = str\n",
    "    term = Union[str, Span, int]"
   ]
  },
  {
   "cell_type": "code",
   "execution_count": null,
   "metadata": {},
   "outputs": [],
   "source": []
  },
  {
   "cell_type": "code",
   "execution_count": null,
   "metadata": {},
   "outputs": [],
   "source": []
  },
  {
   "cell_type": "code",
   "execution_count": null,
   "metadata": {},
   "outputs": [],
   "source": []
  }
 ],
 "metadata": {
  "kernelspec": {
   "display_name": "python3",
   "language": "python",
   "name": "python3"
  },
  "language_info": {
   "name": "python",
   "version": "3.9.13"
  }
 },
 "nbformat": 4,
 "nbformat_minor": 4
}
