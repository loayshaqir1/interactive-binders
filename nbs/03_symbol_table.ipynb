{
 "cells": [
  {
   "cell_type": "markdown",
   "metadata": {},
   "source": [
    "# Symbol Table"
   ]
  },
  {
   "cell_type": "markdown",
   "metadata": {},
   "source": [
    "This module contains the implementations of symbol tables"
   ]
  },
  {
   "cell_type": "code",
   "execution_count": null,
   "metadata": {},
   "outputs": [],
   "source": [
    "#| default_exp src.rgxlog_interpreter.src.rgxlog.engine.state.symbol_table"
   ]
  },
  {
   "cell_type": "code",
   "execution_count": null,
   "metadata": {},
   "outputs": [],
   "source": [
    "#| hide\n",
    "from __future__ import annotations"
   ]
  },
  {
   "cell_type": "code",
   "execution_count": null,
   "metadata": {},
   "outputs": [],
   "source": [
    "#| hide\n",
    "from nbdev.showdoc import *"
   ]
  },
  {
   "cell_type": "code",
   "execution_count": null,
   "metadata": {},
   "outputs": [],
   "source": [
    "#| export\n",
    "from abc import ABC, abstractmethod\n",
    "from typing import Iterable, Dict, Set, Callable, List, Union, Sequence, Tuple\n",
    "from spanner_workbench.src.rgxlog_interpreter.src.rgxlog.engine.datatypes.primitive_types import DataTypes, DataTypeMapping\n",
    "from spanner_workbench.src.rgxlog_interpreter.src.rgxlog.engine.ie_function import IEFunction\n",
    "from copy import deepcopy"
   ]
  },
  {
   "cell_type": "code",
   "execution_count": null,
   "metadata": {},
   "outputs": [],
   "source": [
    "#| hide\n",
    "#| exec_doc\n",
    "import inspect"
   ]
  },
  {
   "cell_type": "code",
   "execution_count": null,
   "metadata": {},
   "outputs": [],
   "source": [
    "#| hide\n",
    "#| exec_doc\n",
    "imported_classes = []\n",
    "for name, obj in list(globals().items()):\n",
    "    if inspect.isclass(obj) and inspect.getmodule(obj) is not None:\n",
    "        imported_classes.append(obj)\n",
    "for cls in imported_classes:\n",
    "    if 'spanner_workbench' in cls.__module__:\n",
    "        cls.__module__ = cls.__module__.split('.')[-1]"
   ]
  },
  {
   "cell_type": "code",
   "execution_count": null,
   "metadata": {},
   "outputs": [],
   "source": [
    "#| export\n",
    "class SymbolTableBase(ABC):\n",
    "    \"\"\"\n",
    "    An abstraction for a symbol table. <br>\n",
    "    the symbol table keeps track of: <br>\n",
    "        1. the variables that were defined in the program, their types and their values <br> \n",
    "        2. the relations that were defined in the program and their schemas <br>\n",
    "        3. the information extraction functions that were registered in the program and their data\n",
    "    \"\"\"\n",
    "\n",
    "    @abstractmethod\n",
    "    def set_var_value_and_type(self,\n",
    "            var_name: str, # the name of the variable\n",
    "            var_value: DataTypeMapping.term, # the value of the variable\n",
    "            var_type: DataTypes # the type of the variable\n",
    "            ) -> None:\n",
    "        \"\"\" \n",
    "        Sets the type and value of a variable in the symbol table.\n",
    "        \"\"\"\n",
    "        pass\n",
    "\n",
    "    @abstractmethod\n",
    "    def get_variable_type(self,\n",
    "            var_name: DataTypeMapping.term # a variable name\n",
    "            ) -> DataTypes: # the variable's type\n",
    "        pass\n",
    "\n",
    "    @abstractmethod\n",
    "    def get_variable_value(self,\n",
    "             var_name: DataTypeMapping.term # a variable name\n",
    "             ) -> DataTypeMapping.term: # the variable's value\n",
    "        pass\n",
    "\n",
    "    @abstractmethod\n",
    "    def get_all_variables(self) -> List[Tuple[str, DataTypes, DataTypeMapping.term]]:\n",
    "        \"\"\"\n",
    "        @return: an iterable that contains tuples of the format (variable name, variable type, variable value)\n",
    "        for each variable in the symbol table.\n",
    "        \"\"\"\n",
    "        pass\n",
    "\n",
    "    @abstractmethod\n",
    "    def contains_variable(self,\n",
    "                            var_name: str # a variable name\n",
    "                            ) -> bool: # true if the variable is in the symbol table, else false\n",
    "        pass\n",
    "\n",
    "    @abstractmethod\n",
    "    def add_relation_schema(self,\n",
    "                            relation_name: str, # the relation's name.\n",
    "                            schema: Sequence[DataTypes], # the relation's schema.\n",
    "                            is_rule: bool # true if rule false if relation.\n",
    "                            ) -> None:\n",
    "        \"\"\"\n",
    "        Adds a new relation schema to the symbol table. <br>\n",
    "        Note: Trying to add two schemas for the same relation will result in an exception as relation redefinitions are not allowed.\n",
    "        \"\"\"\n",
    "        pass\n",
    "\n",
    "    @abstractmethod\n",
    "    def get_relation_schema(self, \n",
    "                            relation_name: str # a relation name\n",
    "                            ) -> Sequence[DataTypes]: # the relation's schema\n",
    "        pass\n",
    "\n",
    "    @abstractmethod\n",
    "    def get_all_relations(self) -> Sequence:\n",
    "        \"\"\"\n",
    "        @return: an iterable that contains tuples of the format (relation name, relation schema)\n",
    "        for each relation in the symbol table.\n",
    "        \"\"\"\n",
    "        pass\n",
    "\n",
    "    @abstractmethod\n",
    "    def contains_relation(self,\n",
    "                           relation_name: str # a relation name\n",
    "                           ) -> bool: # true if the relation exists in the symbol table, else false\n",
    "        pass\n",
    "\n",
    "    @abstractmethod\n",
    "    def register_ie_function(self, \n",
    "                             ie_function: Callable, \n",
    "                             ie_function_name: str, \n",
    "                             in_rel: Sequence[DataTypes],\n",
    "                             out_rel: Union[List[DataTypes], Callable[[int], Sequence[DataTypes]]]\n",
    "                             ) -> None:\n",
    "        \"\"\"\n",
    "        Adds a new ie function to the symbol table.\n",
    "        @see params in `IEFunction`'s __init__.\n",
    "        \"\"\"\n",
    "        pass\n",
    "\n",
    "    @abstractmethod\n",
    "    def contains_ie_function(self,\n",
    "                              ie_func_name: str # a name of an information extraction function\n",
    "                              ) -> bool: # true if the ie function exists in the symbol table, else false\n",
    "        pass\n",
    "\n",
    "    @abstractmethod\n",
    "    def get_ie_func_data(self, \n",
    "                         ie_func_name: str # a name of an information extraction function\n",
    "                         ) -> IEFunction: # the ie function's data (see ie_function_base.IEFunctionData for more information on ie function data instances)\n",
    "        pass\n",
    "\n",
    "    @abstractmethod\n",
    "    def get_all_registered_ie_funcs(self) -> Dict[str, IEFunction]:\n",
    "        \"\"\"\n",
    "        @return: an iterable containing the names of all of the ie functions that are registered in the symbol table.\n",
    "        \"\"\"\n",
    "        pass\n",
    "\n",
    "    def register_predefined_ie_functions(self, \n",
    "                                         ie_funcs: Iterable[Dict] # iterable of the predefined ie functions in dict format\n",
    "                                         ) -> None:\n",
    "        \"\"\"\n",
    "        Adds to symbol table all the predefined ie functions.\n",
    "        \"\"\"\n",
    "        for ie_func in ie_funcs:\n",
    "            self.register_ie_function(**ie_func)\n",
    "\n",
    "    @abstractmethod\n",
    "    def remove_ie_function(self, \n",
    "                           name: str # the name of the ie function to remove\n",
    "                           ) -> None:\n",
    "        \"\"\"\n",
    "        Removes a function from the symbol table.\n",
    "        \"\"\"\n",
    "        pass\n",
    "\n",
    "    @abstractmethod\n",
    "    def remove_all_ie_functions(self) -> None:\n",
    "        \"\"\"\n",
    "        Removes all the ie functions from the symbol table.\n",
    "        \"\"\"\n",
    "        pass\n",
    "\n",
    "    @abstractmethod\n",
    "    def print_registered_ie_functions(self) -> None:\n",
    "        \"\"\"\n",
    "        Prints all the registered ie functions.\n",
    "        \"\"\"\n",
    "        pass\n",
    "\n",
    "    @abstractmethod\n",
    "    def remove_rule_relation(self, \n",
    "                             relation_name: str # the name of the relation to remove\n",
    "                             ) -> None:\n",
    "        \"\"\"\n",
    "        Removes a rule relation from the symbol table.\n",
    "        \"\"\"\n",
    "        pass\n",
    "\n",
    "    @abstractmethod\n",
    "    def remove_all_rule_relations(self) -> Iterable[str]:\n",
    "        \"\"\"\n",
    "        Removes all the rule relations.\n",
    "\n",
    "        @return: iterable of all the relations name it removed.\n",
    "        \"\"\"\n",
    "        pass\n",
    "\n",
    "    def __str__(self) -> str:\n",
    "        \"\"\"\n",
    "        @return: a string representation of the symbol table for debugging purposes\n",
    "        \"\"\"\n",
    "\n",
    "        # we will build the string incrementally using the string buffer\n",
    "        string_buffer = list()\n",
    "\n",
    "        # add the header of the variables table\n",
    "        string_buffer.append('Variable\\tType\\tValue\\n')\n",
    "        # add the tuples of the variables table\n",
    "        for name, var_type, var_value in self.get_all_variables():\n",
    "            string_buffer.append(f'{name}\\t{var_type}\\t{var_value}\\n')\n",
    "\n",
    "        # add the header of the relation schemas table\n",
    "        string_buffer.append('\\nRelation\\tSchema\\n')\n",
    "        # add the tuples of the relations schemas table\n",
    "        for relation_name, type_list in self.get_all_relations():\n",
    "            type_strings = [str(term_type) for term_type in type_list]\n",
    "            type_list_string = \", \".join(type_strings)\n",
    "            string_buffer.append(f\"{relation_name}\\t({type_list_string})\\n\")\n",
    "\n",
    "        # add the header of the ie functions list\n",
    "        string_buffer.append('\\nregistered information extraction functions:\\n')\n",
    "        # add the ie functions\n",
    "        for ie_func_name in self.get_all_registered_ie_funcs():\n",
    "            string_buffer.append(f'{ie_func_name}\\n')\n",
    "\n",
    "        # combine the resulting tables to one string and return them\n",
    "        symbol_table_string = ''.join(string_buffer)\n",
    "        return symbol_table_string"
   ]
  },
  {
   "cell_type": "code",
   "execution_count": null,
   "metadata": {},
   "outputs": [
    {
     "data": {
      "text/markdown": [
       "---\n",
       "\n",
       "[source](https://github.com/loayshaqir1/spanner_workbench/blob/main/spanner_workbench/src/rgxlog_interpreter/src/rgxlog/engine/state/symbol_table.py#L24){target=\"_blank\" style=\"float:right; font-size:smaller\"}\n",
       "\n",
       "### SymbolTableBase.set_var_value_and_type\n",
       "\n",
       ">      SymbolTableBase.set_var_value_and_type (var_name:str, var_value:Union[str\n",
       ">                                              ,spanner_workbench.src.rgxlog_int\n",
       ">                                              erpreter.src.rgxlog.engine.dataty\n",
       ">                                              pes.primitive_types.Span,int], va\n",
       ">                                              r_type:primitive_types.DataTypes)\n",
       "\n",
       "Sets the type and value of a variable in the symbol table.\n",
       "\n",
       "|    | **Type** | **Details** |\n",
       "| -- | -------- | ----------- |\n",
       "| var_name | str | the name of the variable |\n",
       "| var_value | DataTypeMapping.term | the value of the variable |\n",
       "| var_type | DataTypes | the type of the variable |\n",
       "| **Returns** | **None** |  |"
      ],
      "text/plain": [
       "---\n",
       "\n",
       "[source](https://github.com/loayshaqir1/spanner_workbench/blob/main/spanner_workbench/src/rgxlog_interpreter/src/rgxlog/engine/state/symbol_table.py#L24){target=\"_blank\" style=\"float:right; font-size:smaller\"}\n",
       "\n",
       "### SymbolTableBase.set_var_value_and_type\n",
       "\n",
       ">      SymbolTableBase.set_var_value_and_type (var_name:str, var_value:Union[str\n",
       ">                                              ,spanner_workbench.src.rgxlog_int\n",
       ">                                              erpreter.src.rgxlog.engine.dataty\n",
       ">                                              pes.primitive_types.Span,int], va\n",
       ">                                              r_type:primitive_types.DataTypes)\n",
       "\n",
       "Sets the type and value of a variable in the symbol table.\n",
       "\n",
       "|    | **Type** | **Details** |\n",
       "| -- | -------- | ----------- |\n",
       "| var_name | str | the name of the variable |\n",
       "| var_value | DataTypeMapping.term | the value of the variable |\n",
       "| var_type | DataTypes | the type of the variable |\n",
       "| **Returns** | **None** |  |"
      ]
     },
     "execution_count": null,
     "metadata": {},
     "output_type": "execute_result"
    }
   ],
   "source": [
    "show_doc(SymbolTableBase.set_var_value_and_type)"
   ]
  },
  {
   "cell_type": "code",
   "execution_count": null,
   "metadata": {},
   "outputs": [
    {
     "data": {
      "text/markdown": [
       "---\n",
       "\n",
       "[source](https://github.com/loayshaqir1/spanner_workbench/blob/main/spanner_workbench/src/rgxlog_interpreter/src/rgxlog/engine/state/symbol_table.py#L35){target=\"_blank\" style=\"float:right; font-size:smaller\"}\n",
       "\n",
       "### SymbolTableBase.get_variable_type\n",
       "\n",
       ">      SymbolTableBase.get_variable_type (var_name:Union[str,spanner_workbench.s\n",
       ">                                         rc.rgxlog_interpreter.src.rgxlog.engin\n",
       ">                                         e.datatypes.primitive_types.Span,int])\n",
       "\n",
       "|    | **Type** | **Details** |\n",
       "| -- | -------- | ----------- |\n",
       "| var_name | DataTypeMapping.term | a variable name |\n",
       "| **Returns** | **DataTypes** | **the variable's type** |"
      ],
      "text/plain": [
       "---\n",
       "\n",
       "[source](https://github.com/loayshaqir1/spanner_workbench/blob/main/spanner_workbench/src/rgxlog_interpreter/src/rgxlog/engine/state/symbol_table.py#L35){target=\"_blank\" style=\"float:right; font-size:smaller\"}\n",
       "\n",
       "### SymbolTableBase.get_variable_type\n",
       "\n",
       ">      SymbolTableBase.get_variable_type (var_name:Union[str,spanner_workbench.s\n",
       ">                                         rc.rgxlog_interpreter.src.rgxlog.engin\n",
       ">                                         e.datatypes.primitive_types.Span,int])\n",
       "\n",
       "|    | **Type** | **Details** |\n",
       "| -- | -------- | ----------- |\n",
       "| var_name | DataTypeMapping.term | a variable name |\n",
       "| **Returns** | **DataTypes** | **the variable's type** |"
      ]
     },
     "execution_count": null,
     "metadata": {},
     "output_type": "execute_result"
    }
   ],
   "source": [
    "show_doc(SymbolTableBase.get_variable_type)"
   ]
  },
  {
   "cell_type": "code",
   "execution_count": null,
   "metadata": {},
   "outputs": [
    {
     "data": {
      "text/markdown": [
       "---\n",
       "\n",
       "[source](https://github.com/loayshaqir1/spanner_workbench/blob/main/spanner_workbench/src/rgxlog_interpreter/src/rgxlog/engine/state/symbol_table.py#L41){target=\"_blank\" style=\"float:right; font-size:smaller\"}\n",
       "\n",
       "### SymbolTableBase.get_variable_value\n",
       "\n",
       ">      SymbolTableBase.get_variable_value (var_name:Union[str,spanner_workbench.\n",
       ">                                          src.rgxlog_interpreter.src.rgxlog.eng\n",
       ">                                          ine.datatypes.primitive_types.Span,in\n",
       ">                                          t])\n",
       "\n",
       "|    | **Type** | **Details** |\n",
       "| -- | -------- | ----------- |\n",
       "| var_name | DataTypeMapping.term | a variable name |\n",
       "| **Returns** | **DataTypeMapping.term** | **the variable's value** |"
      ],
      "text/plain": [
       "---\n",
       "\n",
       "[source](https://github.com/loayshaqir1/spanner_workbench/blob/main/spanner_workbench/src/rgxlog_interpreter/src/rgxlog/engine/state/symbol_table.py#L41){target=\"_blank\" style=\"float:right; font-size:smaller\"}\n",
       "\n",
       "### SymbolTableBase.get_variable_value\n",
       "\n",
       ">      SymbolTableBase.get_variable_value (var_name:Union[str,spanner_workbench.\n",
       ">                                          src.rgxlog_interpreter.src.rgxlog.eng\n",
       ">                                          ine.datatypes.primitive_types.Span,in\n",
       ">                                          t])\n",
       "\n",
       "|    | **Type** | **Details** |\n",
       "| -- | -------- | ----------- |\n",
       "| var_name | DataTypeMapping.term | a variable name |\n",
       "| **Returns** | **DataTypeMapping.term** | **the variable's value** |"
      ]
     },
     "execution_count": null,
     "metadata": {},
     "output_type": "execute_result"
    }
   ],
   "source": [
    "show_doc(SymbolTableBase.get_variable_value)"
   ]
  },
  {
   "cell_type": "code",
   "execution_count": null,
   "metadata": {},
   "outputs": [
    {
     "data": {
      "text/markdown": [
       "---\n",
       "\n",
       "[source](https://github.com/loayshaqir1/spanner_workbench/blob/main/spanner_workbench/src/rgxlog_interpreter/src/rgxlog/engine/state/symbol_table.py#L47){target=\"_blank\" style=\"float:right; font-size:smaller\"}\n",
       "\n",
       "### SymbolTableBase.get_all_variables\n",
       "\n",
       ">      SymbolTableBase.get_all_variables ()\n",
       "\n",
       "@return: an iterable that contains tuples of the format (variable name, variable type, variable value)\n",
       "for each variable in the symbol table."
      ],
      "text/plain": [
       "---\n",
       "\n",
       "[source](https://github.com/loayshaqir1/spanner_workbench/blob/main/spanner_workbench/src/rgxlog_interpreter/src/rgxlog/engine/state/symbol_table.py#L47){target=\"_blank\" style=\"float:right; font-size:smaller\"}\n",
       "\n",
       "### SymbolTableBase.get_all_variables\n",
       "\n",
       ">      SymbolTableBase.get_all_variables ()\n",
       "\n",
       "@return: an iterable that contains tuples of the format (variable name, variable type, variable value)\n",
       "for each variable in the symbol table."
      ]
     },
     "execution_count": null,
     "metadata": {},
     "output_type": "execute_result"
    }
   ],
   "source": [
    "show_doc(SymbolTableBase.get_all_variables)"
   ]
  },
  {
   "cell_type": "code",
   "execution_count": null,
   "metadata": {},
   "outputs": [
    {
     "data": {
      "text/markdown": [
       "---\n",
       "\n",
       "[source](https://github.com/loayshaqir1/spanner_workbench/blob/main/spanner_workbench/src/rgxlog_interpreter/src/rgxlog/engine/state/symbol_table.py#L55){target=\"_blank\" style=\"float:right; font-size:smaller\"}\n",
       "\n",
       "### SymbolTableBase.contains_variable\n",
       "\n",
       ">      SymbolTableBase.contains_variable (var_name:str)\n",
       "\n",
       "|    | **Type** | **Details** |\n",
       "| -- | -------- | ----------- |\n",
       "| var_name | str | a variable name |\n",
       "| **Returns** | **bool** | **true if the variable is in the symbol table, else false** |"
      ],
      "text/plain": [
       "---\n",
       "\n",
       "[source](https://github.com/loayshaqir1/spanner_workbench/blob/main/spanner_workbench/src/rgxlog_interpreter/src/rgxlog/engine/state/symbol_table.py#L55){target=\"_blank\" style=\"float:right; font-size:smaller\"}\n",
       "\n",
       "### SymbolTableBase.contains_variable\n",
       "\n",
       ">      SymbolTableBase.contains_variable (var_name:str)\n",
       "\n",
       "|    | **Type** | **Details** |\n",
       "| -- | -------- | ----------- |\n",
       "| var_name | str | a variable name |\n",
       "| **Returns** | **bool** | **true if the variable is in the symbol table, else false** |"
      ]
     },
     "execution_count": null,
     "metadata": {},
     "output_type": "execute_result"
    }
   ],
   "source": [
    "show_doc(SymbolTableBase.contains_variable)"
   ]
  },
  {
   "cell_type": "code",
   "execution_count": null,
   "metadata": {},
   "outputs": [
    {
     "data": {
      "text/markdown": [
       "---\n",
       "\n",
       "[source](https://github.com/loayshaqir1/spanner_workbench/blob/main/spanner_workbench/src/rgxlog_interpreter/src/rgxlog/engine/state/symbol_table.py#L61){target=\"_blank\" style=\"float:right; font-size:smaller\"}\n",
       "\n",
       "### SymbolTableBase.add_relation_schema\n",
       "\n",
       ">      SymbolTableBase.add_relation_schema (relation_name:str,\n",
       ">                                           schema:Sequence[primitive_types.Data\n",
       ">                                           Types], is_rule:bool)\n",
       "\n",
       "Adds a new relation schema to the symbol table. <br>\n",
       "Note: Trying to add two schemas for the same relation will result in an exception as relation redefinitions are not allowed.\n",
       "\n",
       "|    | **Type** | **Details** |\n",
       "| -- | -------- | ----------- |\n",
       "| relation_name | str | the relation's name. |\n",
       "| schema | Sequence[DataTypes] | the relation's schema. |\n",
       "| is_rule | bool | true if rule false if relation. |\n",
       "| **Returns** | **None** |  |"
      ],
      "text/plain": [
       "---\n",
       "\n",
       "[source](https://github.com/loayshaqir1/spanner_workbench/blob/main/spanner_workbench/src/rgxlog_interpreter/src/rgxlog/engine/state/symbol_table.py#L61){target=\"_blank\" style=\"float:right; font-size:smaller\"}\n",
       "\n",
       "### SymbolTableBase.add_relation_schema\n",
       "\n",
       ">      SymbolTableBase.add_relation_schema (relation_name:str,\n",
       ">                                           schema:Sequence[primitive_types.Data\n",
       ">                                           Types], is_rule:bool)\n",
       "\n",
       "Adds a new relation schema to the symbol table. <br>\n",
       "Note: Trying to add two schemas for the same relation will result in an exception as relation redefinitions are not allowed.\n",
       "\n",
       "|    | **Type** | **Details** |\n",
       "| -- | -------- | ----------- |\n",
       "| relation_name | str | the relation's name. |\n",
       "| schema | Sequence[DataTypes] | the relation's schema. |\n",
       "| is_rule | bool | true if rule false if relation. |\n",
       "| **Returns** | **None** |  |"
      ]
     },
     "execution_count": null,
     "metadata": {},
     "output_type": "execute_result"
    }
   ],
   "source": [
    "show_doc(SymbolTableBase.add_relation_schema)"
   ]
  },
  {
   "cell_type": "markdown",
   "metadata": {},
   "source": [
    "::: {.callout-note}\n",
    "\n",
    "Trying to add two schemas for the same relation will result in an exception as relation redefinitions are not allowed.\n",
    "\n",
    ":::"
   ]
  },
  {
   "cell_type": "code",
   "execution_count": null,
   "metadata": {},
   "outputs": [
    {
     "data": {
      "text/markdown": [
       "---\n",
       "\n",
       "[source](https://github.com/loayshaqir1/spanner_workbench/blob/main/spanner_workbench/src/rgxlog_interpreter/src/rgxlog/engine/state/symbol_table.py#L73){target=\"_blank\" style=\"float:right; font-size:smaller\"}\n",
       "\n",
       "### SymbolTableBase.get_relation_schema\n",
       "\n",
       ">      SymbolTableBase.get_relation_schema (relation_name:str)\n",
       "\n",
       "|    | **Type** | **Details** |\n",
       "| -- | -------- | ----------- |\n",
       "| relation_name | str | a relation name |\n",
       "| **Returns** | **Sequence[DataTypes]** | **the relation's schema** |"
      ],
      "text/plain": [
       "---\n",
       "\n",
       "[source](https://github.com/loayshaqir1/spanner_workbench/blob/main/spanner_workbench/src/rgxlog_interpreter/src/rgxlog/engine/state/symbol_table.py#L73){target=\"_blank\" style=\"float:right; font-size:smaller\"}\n",
       "\n",
       "### SymbolTableBase.get_relation_schema\n",
       "\n",
       ">      SymbolTableBase.get_relation_schema (relation_name:str)\n",
       "\n",
       "|    | **Type** | **Details** |\n",
       "| -- | -------- | ----------- |\n",
       "| relation_name | str | a relation name |\n",
       "| **Returns** | **Sequence[DataTypes]** | **the relation's schema** |"
      ]
     },
     "execution_count": null,
     "metadata": {},
     "output_type": "execute_result"
    }
   ],
   "source": [
    "show_doc(SymbolTableBase.get_relation_schema)"
   ]
  },
  {
   "cell_type": "code",
   "execution_count": null,
   "metadata": {},
   "outputs": [
    {
     "data": {
      "text/markdown": [
       "---\n",
       "\n",
       "[source](https://github.com/loayshaqir1/spanner_workbench/blob/main/spanner_workbench/src/rgxlog_interpreter/src/rgxlog/engine/state/symbol_table.py#L79){target=\"_blank\" style=\"float:right; font-size:smaller\"}\n",
       "\n",
       "### SymbolTableBase.get_all_relations\n",
       "\n",
       ">      SymbolTableBase.get_all_relations ()\n",
       "\n",
       "@return: an iterable that contains tuples of the format (relation name, relation schema)\n",
       "for each relation in the symbol table."
      ],
      "text/plain": [
       "---\n",
       "\n",
       "[source](https://github.com/loayshaqir1/spanner_workbench/blob/main/spanner_workbench/src/rgxlog_interpreter/src/rgxlog/engine/state/symbol_table.py#L79){target=\"_blank\" style=\"float:right; font-size:smaller\"}\n",
       "\n",
       "### SymbolTableBase.get_all_relations\n",
       "\n",
       ">      SymbolTableBase.get_all_relations ()\n",
       "\n",
       "@return: an iterable that contains tuples of the format (relation name, relation schema)\n",
       "for each relation in the symbol table."
      ]
     },
     "execution_count": null,
     "metadata": {},
     "output_type": "execute_result"
    }
   ],
   "source": [
    "show_doc(SymbolTableBase.get_all_relations)"
   ]
  },
  {
   "cell_type": "code",
   "execution_count": null,
   "metadata": {},
   "outputs": [
    {
     "data": {
      "text/markdown": [
       "---\n",
       "\n",
       "[source](https://github.com/loayshaqir1/spanner_workbench/blob/main/spanner_workbench/src/rgxlog_interpreter/src/rgxlog/engine/state/symbol_table.py#L87){target=\"_blank\" style=\"float:right; font-size:smaller\"}\n",
       "\n",
       "### SymbolTableBase.contains_relation\n",
       "\n",
       ">      SymbolTableBase.contains_relation (relation_name:str)\n",
       "\n",
       "|    | **Type** | **Details** |\n",
       "| -- | -------- | ----------- |\n",
       "| relation_name | str | a relation name |\n",
       "| **Returns** | **bool** | **true if the relation exists in the symbol table, else false** |"
      ],
      "text/plain": [
       "---\n",
       "\n",
       "[source](https://github.com/loayshaqir1/spanner_workbench/blob/main/spanner_workbench/src/rgxlog_interpreter/src/rgxlog/engine/state/symbol_table.py#L87){target=\"_blank\" style=\"float:right; font-size:smaller\"}\n",
       "\n",
       "### SymbolTableBase.contains_relation\n",
       "\n",
       ">      SymbolTableBase.contains_relation (relation_name:str)\n",
       "\n",
       "|    | **Type** | **Details** |\n",
       "| -- | -------- | ----------- |\n",
       "| relation_name | str | a relation name |\n",
       "| **Returns** | **bool** | **true if the relation exists in the symbol table, else false** |"
      ]
     },
     "execution_count": null,
     "metadata": {},
     "output_type": "execute_result"
    }
   ],
   "source": [
    "show_doc(SymbolTableBase.contains_relation)"
   ]
  },
  {
   "cell_type": "code",
   "execution_count": null,
   "metadata": {},
   "outputs": [
    {
     "data": {
      "text/markdown": [
       "---\n",
       "\n",
       "[source](https://github.com/loayshaqir1/spanner_workbench/blob/main/spanner_workbench/src/rgxlog_interpreter/src/rgxlog/engine/state/symbol_table.py#L93){target=\"_blank\" style=\"float:right; font-size:smaller\"}\n",
       "\n",
       "### SymbolTableBase.register_ie_function\n",
       "\n",
       ">      SymbolTableBase.register_ie_function (ie_function:Callable,\n",
       ">                                            ie_function_name:str, in_rel:Sequen\n",
       ">                                            ce[primitive_types.DataTypes], out_\n",
       ">                                            rel:Union[List[primitive_types.Data\n",
       ">                                            Types],Callable[[int],Sequence[prim\n",
       ">                                            itive_types.DataTypes]]])\n",
       "\n",
       "Adds a new ie function to the symbol table.\n",
       "@see params in `IEFunction`'s __init__."
      ],
      "text/plain": [
       "---\n",
       "\n",
       "[source](https://github.com/loayshaqir1/spanner_workbench/blob/main/spanner_workbench/src/rgxlog_interpreter/src/rgxlog/engine/state/symbol_table.py#L93){target=\"_blank\" style=\"float:right; font-size:smaller\"}\n",
       "\n",
       "### SymbolTableBase.register_ie_function\n",
       "\n",
       ">      SymbolTableBase.register_ie_function (ie_function:Callable,\n",
       ">                                            ie_function_name:str, in_rel:Sequen\n",
       ">                                            ce[primitive_types.DataTypes], out_\n",
       ">                                            rel:Union[List[primitive_types.Data\n",
       ">                                            Types],Callable[[int],Sequence[prim\n",
       ">                                            itive_types.DataTypes]]])\n",
       "\n",
       "Adds a new ie function to the symbol table.\n",
       "@see params in `IEFunction`'s __init__."
      ]
     },
     "execution_count": null,
     "metadata": {},
     "output_type": "execute_result"
    }
   ],
   "source": [
    "show_doc(SymbolTableBase.register_ie_function)"
   ]
  },
  {
   "cell_type": "code",
   "execution_count": null,
   "metadata": {},
   "outputs": [
    {
     "data": {
      "text/markdown": [
       "---\n",
       "\n",
       "[source](https://github.com/loayshaqir1/spanner_workbench/blob/main/spanner_workbench/src/rgxlog_interpreter/src/rgxlog/engine/state/symbol_table.py#L106){target=\"_blank\" style=\"float:right; font-size:smaller\"}\n",
       "\n",
       "### SymbolTableBase.contains_ie_function\n",
       "\n",
       ">      SymbolTableBase.contains_ie_function (ie_func_name:str)\n",
       "\n",
       "|    | **Type** | **Details** |\n",
       "| -- | -------- | ----------- |\n",
       "| ie_func_name | str | a name of an information extraction function |\n",
       "| **Returns** | **bool** | **true if the ie function exists in the symbol table, else false** |"
      ],
      "text/plain": [
       "---\n",
       "\n",
       "[source](https://github.com/loayshaqir1/spanner_workbench/blob/main/spanner_workbench/src/rgxlog_interpreter/src/rgxlog/engine/state/symbol_table.py#L106){target=\"_blank\" style=\"float:right; font-size:smaller\"}\n",
       "\n",
       "### SymbolTableBase.contains_ie_function\n",
       "\n",
       ">      SymbolTableBase.contains_ie_function (ie_func_name:str)\n",
       "\n",
       "|    | **Type** | **Details** |\n",
       "| -- | -------- | ----------- |\n",
       "| ie_func_name | str | a name of an information extraction function |\n",
       "| **Returns** | **bool** | **true if the ie function exists in the symbol table, else false** |"
      ]
     },
     "execution_count": null,
     "metadata": {},
     "output_type": "execute_result"
    }
   ],
   "source": [
    "show_doc(SymbolTableBase.contains_ie_function)"
   ]
  },
  {
   "cell_type": "code",
   "execution_count": null,
   "metadata": {},
   "outputs": [
    {
     "data": {
      "text/markdown": [
       "---\n",
       "\n",
       "[source](https://github.com/loayshaqir1/spanner_workbench/blob/main/spanner_workbench/src/rgxlog_interpreter/src/rgxlog/engine/state/symbol_table.py#L112){target=\"_blank\" style=\"float:right; font-size:smaller\"}\n",
       "\n",
       "### SymbolTableBase.get_ie_func_data\n",
       "\n",
       ">      SymbolTableBase.get_ie_func_data (ie_func_name:str)\n",
       "\n",
       "|    | **Type** | **Details** |\n",
       "| -- | -------- | ----------- |\n",
       "| ie_func_name | str | a name of an information extraction function |\n",
       "| **Returns** | **IEFunction** | **the ie function's data (see ie_function_base.IEFunctionData for more information on ie function data instances)** |"
      ],
      "text/plain": [
       "---\n",
       "\n",
       "[source](https://github.com/loayshaqir1/spanner_workbench/blob/main/spanner_workbench/src/rgxlog_interpreter/src/rgxlog/engine/state/symbol_table.py#L112){target=\"_blank\" style=\"float:right; font-size:smaller\"}\n",
       "\n",
       "### SymbolTableBase.get_ie_func_data\n",
       "\n",
       ">      SymbolTableBase.get_ie_func_data (ie_func_name:str)\n",
       "\n",
       "|    | **Type** | **Details** |\n",
       "| -- | -------- | ----------- |\n",
       "| ie_func_name | str | a name of an information extraction function |\n",
       "| **Returns** | **IEFunction** | **the ie function's data (see ie_function_base.IEFunctionData for more information on ie function data instances)** |"
      ]
     },
     "execution_count": null,
     "metadata": {},
     "output_type": "execute_result"
    }
   ],
   "source": [
    "show_doc(SymbolTableBase.get_ie_func_data)"
   ]
  },
  {
   "cell_type": "code",
   "execution_count": null,
   "metadata": {},
   "outputs": [
    {
     "data": {
      "text/markdown": [
       "---\n",
       "\n",
       "[source](https://github.com/loayshaqir1/spanner_workbench/blob/main/spanner_workbench/src/rgxlog_interpreter/src/rgxlog/engine/state/symbol_table.py#L118){target=\"_blank\" style=\"float:right; font-size:smaller\"}\n",
       "\n",
       "### SymbolTableBase.get_all_registered_ie_funcs\n",
       "\n",
       ">      SymbolTableBase.get_all_registered_ie_funcs ()\n",
       "\n",
       "@return: an iterable containing the names of all of the ie functions that are registered in the symbol table."
      ],
      "text/plain": [
       "---\n",
       "\n",
       "[source](https://github.com/loayshaqir1/spanner_workbench/blob/main/spanner_workbench/src/rgxlog_interpreter/src/rgxlog/engine/state/symbol_table.py#L118){target=\"_blank\" style=\"float:right; font-size:smaller\"}\n",
       "\n",
       "### SymbolTableBase.get_all_registered_ie_funcs\n",
       "\n",
       ">      SymbolTableBase.get_all_registered_ie_funcs ()\n",
       "\n",
       "@return: an iterable containing the names of all of the ie functions that are registered in the symbol table."
      ]
     },
     "execution_count": null,
     "metadata": {},
     "output_type": "execute_result"
    }
   ],
   "source": [
    "show_doc(SymbolTableBase.get_all_registered_ie_funcs)"
   ]
  },
  {
   "cell_type": "code",
   "execution_count": null,
   "metadata": {},
   "outputs": [
    {
     "data": {
      "text/markdown": [
       "---\n",
       "\n",
       "[source](https://github.com/loayshaqir1/spanner_workbench/blob/main/spanner_workbench/src/rgxlog_interpreter/src/rgxlog/engine/state/symbol_table.py#L124){target=\"_blank\" style=\"float:right; font-size:smaller\"}\n",
       "\n",
       "### SymbolTableBase.register_predefined_ie_functions\n",
       "\n",
       ">      SymbolTableBase.register_predefined_ie_functions\n",
       ">                                                        (ie_funcs:Iterable[Dict\n",
       ">                                                        ])\n",
       "\n",
       "Adds to symbol table all the predefined ie functions.\n",
       "\n",
       "|    | **Type** | **Details** |\n",
       "| -- | -------- | ----------- |\n",
       "| ie_funcs | Iterable[Dict] | iterable of the predefined ie functions in dict format |\n",
       "| **Returns** | **None** |  |"
      ],
      "text/plain": [
       "---\n",
       "\n",
       "[source](https://github.com/loayshaqir1/spanner_workbench/blob/main/spanner_workbench/src/rgxlog_interpreter/src/rgxlog/engine/state/symbol_table.py#L124){target=\"_blank\" style=\"float:right; font-size:smaller\"}\n",
       "\n",
       "### SymbolTableBase.register_predefined_ie_functions\n",
       "\n",
       ">      SymbolTableBase.register_predefined_ie_functions\n",
       ">                                                        (ie_funcs:Iterable[Dict\n",
       ">                                                        ])\n",
       "\n",
       "Adds to symbol table all the predefined ie functions.\n",
       "\n",
       "|    | **Type** | **Details** |\n",
       "| -- | -------- | ----------- |\n",
       "| ie_funcs | Iterable[Dict] | iterable of the predefined ie functions in dict format |\n",
       "| **Returns** | **None** |  |"
      ]
     },
     "execution_count": null,
     "metadata": {},
     "output_type": "execute_result"
    }
   ],
   "source": [
    "show_doc(SymbolTableBase.register_predefined_ie_functions)"
   ]
  },
  {
   "cell_type": "code",
   "execution_count": null,
   "metadata": {},
   "outputs": [
    {
     "data": {
      "text/markdown": [
       "---\n",
       "\n",
       "[source](https://github.com/loayshaqir1/spanner_workbench/blob/main/spanner_workbench/src/rgxlog_interpreter/src/rgxlog/engine/state/symbol_table.py#L134){target=\"_blank\" style=\"float:right; font-size:smaller\"}\n",
       "\n",
       "### SymbolTableBase.remove_ie_function\n",
       "\n",
       ">      SymbolTableBase.remove_ie_function (name:str)\n",
       "\n",
       "Removes a function from the symbol table.\n",
       "\n",
       "|    | **Type** | **Details** |\n",
       "| -- | -------- | ----------- |\n",
       "| name | str | the name of the ie function to remove |\n",
       "| **Returns** | **None** |  |"
      ],
      "text/plain": [
       "---\n",
       "\n",
       "[source](https://github.com/loayshaqir1/spanner_workbench/blob/main/spanner_workbench/src/rgxlog_interpreter/src/rgxlog/engine/state/symbol_table.py#L134){target=\"_blank\" style=\"float:right; font-size:smaller\"}\n",
       "\n",
       "### SymbolTableBase.remove_ie_function\n",
       "\n",
       ">      SymbolTableBase.remove_ie_function (name:str)\n",
       "\n",
       "Removes a function from the symbol table.\n",
       "\n",
       "|    | **Type** | **Details** |\n",
       "| -- | -------- | ----------- |\n",
       "| name | str | the name of the ie function to remove |\n",
       "| **Returns** | **None** |  |"
      ]
     },
     "execution_count": null,
     "metadata": {},
     "output_type": "execute_result"
    }
   ],
   "source": [
    "show_doc(SymbolTableBase.remove_ie_function)"
   ]
  },
  {
   "cell_type": "code",
   "execution_count": null,
   "metadata": {},
   "outputs": [
    {
     "data": {
      "text/markdown": [
       "---\n",
       "\n",
       "[source](https://github.com/loayshaqir1/spanner_workbench/blob/main/spanner_workbench/src/rgxlog_interpreter/src/rgxlog/engine/state/symbol_table.py#L143){target=\"_blank\" style=\"float:right; font-size:smaller\"}\n",
       "\n",
       "### SymbolTableBase.remove_all_ie_functions\n",
       "\n",
       ">      SymbolTableBase.remove_all_ie_functions ()\n",
       "\n",
       "Removes all the ie functions from the symbol table."
      ],
      "text/plain": [
       "---\n",
       "\n",
       "[source](https://github.com/loayshaqir1/spanner_workbench/blob/main/spanner_workbench/src/rgxlog_interpreter/src/rgxlog/engine/state/symbol_table.py#L143){target=\"_blank\" style=\"float:right; font-size:smaller\"}\n",
       "\n",
       "### SymbolTableBase.remove_all_ie_functions\n",
       "\n",
       ">      SymbolTableBase.remove_all_ie_functions ()\n",
       "\n",
       "Removes all the ie functions from the symbol table."
      ]
     },
     "execution_count": null,
     "metadata": {},
     "output_type": "execute_result"
    }
   ],
   "source": [
    "show_doc(SymbolTableBase.remove_all_ie_functions)"
   ]
  },
  {
   "cell_type": "code",
   "execution_count": null,
   "metadata": {},
   "outputs": [
    {
     "data": {
      "text/markdown": [
       "---\n",
       "\n",
       "[source](https://github.com/loayshaqir1/spanner_workbench/blob/main/spanner_workbench/src/rgxlog_interpreter/src/rgxlog/engine/state/symbol_table.py#L150){target=\"_blank\" style=\"float:right; font-size:smaller\"}\n",
       "\n",
       "### SymbolTableBase.print_registered_ie_functions\n",
       "\n",
       ">      SymbolTableBase.print_registered_ie_functions ()\n",
       "\n",
       "Prints all the registered ie functions."
      ],
      "text/plain": [
       "---\n",
       "\n",
       "[source](https://github.com/loayshaqir1/spanner_workbench/blob/main/spanner_workbench/src/rgxlog_interpreter/src/rgxlog/engine/state/symbol_table.py#L150){target=\"_blank\" style=\"float:right; font-size:smaller\"}\n",
       "\n",
       "### SymbolTableBase.print_registered_ie_functions\n",
       "\n",
       ">      SymbolTableBase.print_registered_ie_functions ()\n",
       "\n",
       "Prints all the registered ie functions."
      ]
     },
     "execution_count": null,
     "metadata": {},
     "output_type": "execute_result"
    }
   ],
   "source": [
    "show_doc(SymbolTableBase.print_registered_ie_functions)"
   ]
  },
  {
   "cell_type": "code",
   "execution_count": null,
   "metadata": {},
   "outputs": [
    {
     "data": {
      "text/markdown": [
       "---\n",
       "\n",
       "[source](https://github.com/loayshaqir1/spanner_workbench/blob/main/spanner_workbench/src/rgxlog_interpreter/src/rgxlog/engine/state/symbol_table.py#L157){target=\"_blank\" style=\"float:right; font-size:smaller\"}\n",
       "\n",
       "### SymbolTableBase.remove_rule_relation\n",
       "\n",
       ">      SymbolTableBase.remove_rule_relation (relation_name:str)\n",
       "\n",
       "Removes a rule relation from the symbol table.\n",
       "\n",
       "|    | **Type** | **Details** |\n",
       "| -- | -------- | ----------- |\n",
       "| relation_name | str | the name of the relation to remove |\n",
       "| **Returns** | **None** |  |"
      ],
      "text/plain": [
       "---\n",
       "\n",
       "[source](https://github.com/loayshaqir1/spanner_workbench/blob/main/spanner_workbench/src/rgxlog_interpreter/src/rgxlog/engine/state/symbol_table.py#L157){target=\"_blank\" style=\"float:right; font-size:smaller\"}\n",
       "\n",
       "### SymbolTableBase.remove_rule_relation\n",
       "\n",
       ">      SymbolTableBase.remove_rule_relation (relation_name:str)\n",
       "\n",
       "Removes a rule relation from the symbol table.\n",
       "\n",
       "|    | **Type** | **Details** |\n",
       "| -- | -------- | ----------- |\n",
       "| relation_name | str | the name of the relation to remove |\n",
       "| **Returns** | **None** |  |"
      ]
     },
     "execution_count": null,
     "metadata": {},
     "output_type": "execute_result"
    }
   ],
   "source": [
    "show_doc(SymbolTableBase.remove_rule_relation)"
   ]
  },
  {
   "cell_type": "code",
   "execution_count": null,
   "metadata": {},
   "outputs": [
    {
     "data": {
      "text/markdown": [
       "---\n",
       "\n",
       "[source](https://github.com/loayshaqir1/spanner_workbench/blob/main/spanner_workbench/src/rgxlog_interpreter/src/rgxlog/engine/state/symbol_table.py#L166){target=\"_blank\" style=\"float:right; font-size:smaller\"}\n",
       "\n",
       "### SymbolTableBase.remove_all_rule_relations\n",
       "\n",
       ">      SymbolTableBase.remove_all_rule_relations ()\n",
       "\n",
       "Removes all the rule relations.\n",
       "\n",
       "@return: iterable of all the relations name it removed."
      ],
      "text/plain": [
       "---\n",
       "\n",
       "[source](https://github.com/loayshaqir1/spanner_workbench/blob/main/spanner_workbench/src/rgxlog_interpreter/src/rgxlog/engine/state/symbol_table.py#L166){target=\"_blank\" style=\"float:right; font-size:smaller\"}\n",
       "\n",
       "### SymbolTableBase.remove_all_rule_relations\n",
       "\n",
       ">      SymbolTableBase.remove_all_rule_relations ()\n",
       "\n",
       "Removes all the rule relations.\n",
       "\n",
       "@return: iterable of all the relations name it removed."
      ]
     },
     "execution_count": null,
     "metadata": {},
     "output_type": "execute_result"
    }
   ],
   "source": [
    "show_doc(SymbolTableBase.remove_all_rule_relations)"
   ]
  },
  {
   "cell_type": "code",
   "execution_count": null,
   "metadata": {},
   "outputs": [],
   "source": [
    "#| export\n",
    "#| hide\n",
    "class SymbolTable(SymbolTableBase):\n",
    "    def __init__(self) -> None:\n",
    "        self._var_to_value: Dict[str, DataTypeMapping.term] = {}\n",
    "        self._var_to_type: Dict[str, DataTypes] = {}\n",
    "        self._relation_to_schema: Dict[str, Sequence[DataTypes]] = {}\n",
    "        self._registered_ie_functions: Dict[str, IEFunction] = {}\n",
    "        self._rule_relations: Set[str] = set()\n",
    "\n",
    "    def set_var_value_and_type(self, var_name: str, var_value: DataTypeMapping.term, var_type: DataTypes) -> None:\n",
    "        self._var_to_value[var_name] = var_value\n",
    "        self._var_to_type[var_name] = var_type\n",
    "\n",
    "    def get_variable_type(self, var_name: DataTypeMapping.term) -> DataTypes:\n",
    "        return self._var_to_type[str(var_name)]\n",
    "\n",
    "    def get_variable_value(self, var_name: DataTypeMapping.term) -> DataTypeMapping.term:\n",
    "        return self._var_to_value[str(var_name)]\n",
    "\n",
    "    def get_all_variables(self) -> List[Tuple[str, DataTypes, DataTypeMapping.term]]:\n",
    "        all_vars = []\n",
    "        for var_name in self._var_to_type.keys():\n",
    "            var_type = self._var_to_type[var_name]\n",
    "            var_value = self._var_to_value[var_name]\n",
    "            all_vars.append((var_name, var_type, var_value))\n",
    "        return all_vars\n",
    "\n",
    "    def contains_variable(self, var_name: str) -> bool:\n",
    "        return var_name in self._var_to_type\n",
    "\n",
    "    def add_relation_schema(self, relation_name: str, schema: Sequence[DataTypes], is_rule: bool) -> None:\n",
    "        # rule can be defined multiple times with same head (unlike relation)\n",
    "        if is_rule:\n",
    "            err_msg = f'relation \"{relation_name}\" already has a different schema'\n",
    "            # if the rule is already defined the current schema must be equal to the rule's schema\n",
    "            if relation_name in self._relation_to_schema:\n",
    "                # check that relation name was actually defined as a rule and not as a relation\n",
    "                if relation_name not in self._rule_relations:\n",
    "                    raise Exception(err_msg)\n",
    "                if not self._relation_to_schema[relation_name] == schema:\n",
    "                    raise Exception(err_msg)\n",
    "                return\n",
    "\n",
    "        else:  # relation definition\n",
    "            # if the relation is already defined we can't redefine her\n",
    "            if relation_name in self._relation_to_schema:\n",
    "                raise Exception(f'relation \"{relation_name}\" already has a schema')\n",
    "\n",
    "        self._relation_to_schema[relation_name] = schema\n",
    "        if is_rule:\n",
    "            self._rule_relations.add(relation_name)\n",
    "\n",
    "    def get_relation_schema(self, relation_name: str) -> Sequence[DataTypes]:\n",
    "        if relation_name not in self._relation_to_schema:\n",
    "            raise NameError(f\"relation {relation_name} does not exist in the symbol table\")\n",
    "        return self._relation_to_schema[relation_name]\n",
    "\n",
    "    def get_all_relations(self) -> Sequence:\n",
    "        return [(relation, schema) for relation, schema in self._relation_to_schema.items()]\n",
    "\n",
    "    def contains_relation(self, relation_name: str) -> bool:\n",
    "        return relation_name in self._relation_to_schema\n",
    "\n",
    "    def register_ie_function(self, ie_function: Callable, ie_function_name: str, in_rel: Sequence[DataTypes],\n",
    "                             out_rel: Union[List[DataTypes], Callable[[int], Sequence[DataTypes]]]) -> None:\n",
    "        self._registered_ie_functions[ie_function_name] = IEFunction(ie_function, in_rel, out_rel)\n",
    "\n",
    "    def register_ie_function_object(self, ie_function_object: IEFunction, ie_function_name: str) -> None:\n",
    "        self._registered_ie_functions[ie_function_name] = ie_function_object\n",
    "\n",
    "    def contains_ie_function(self, ie_func_name: str) -> bool:\n",
    "        return ie_func_name in self._registered_ie_functions\n",
    "\n",
    "    def get_ie_func_data(self, ie_func_name: str) -> IEFunction:\n",
    "        if self.contains_ie_function(ie_func_name):\n",
    "            return self._registered_ie_functions[ie_func_name]\n",
    "        else:\n",
    "            raise ValueError(f\"'{ie_func_name}' is not a registered function.\")\n",
    "\n",
    "    def get_all_registered_ie_funcs(self) -> Dict[str, IEFunction]:\n",
    "        #return deepcopy(self._registered_ie_functions)\n",
    "        return self._registered_ie_functions.copy()\n",
    "        \n",
    "    def remove_ie_function(self, name: str) -> None:\n",
    "        if not self._registered_ie_functions.pop(name, None):\n",
    "            raise ValueError(f\"IE function named {name} doesn't exist\")\n",
    "\n",
    "    def remove_all_ie_functions(self) -> None:\n",
    "        self._registered_ie_functions.clear()\n",
    "\n",
    "    def print_registered_ie_functions(self) -> None:\n",
    "        for ie_function_name, ie_function_obj in self._registered_ie_functions.items():\n",
    "            print(f'{ie_function_name}\\n{ie_function_obj.get_meta_data}\\n{ie_function_obj}\\n'\n",
    "                  f'{ie_function_obj.ie_function_def.__doc__}\\n\\n')\n",
    "\n",
    "    def remove_rule_relation(self, relation_name: str) -> None:\n",
    "        try:\n",
    "            self._rule_relations.remove(relation_name)\n",
    "            del self._relation_to_schema[relation_name]\n",
    "        except KeyError:\n",
    "            raise KeyError(f\"An attempt to delete unfound relation {relation_name}\")\n",
    "\n",
    "    def remove_all_rule_relations(self) -> Set[str]:\n",
    "        relations_names = self._rule_relations\n",
    "\n",
    "        self._relation_to_schema = {relation: schema for relation, schema in self._relation_to_schema.items()\n",
    "                                    if relation not in relations_names}\n",
    "        self._rule_relations = set()\n",
    "        return relations_names\n"
   ]
  }
 ],
 "metadata": {
  "kernelspec": {
   "display_name": "python3",
   "language": "python",
   "name": "python3"
  }
 },
 "nbformat": 4,
 "nbformat_minor": 4
}
