{
 "cells": [
  {
   "cell_type": "code",
   "execution_count": null,
   "id": "b7defc39",
   "metadata": {},
   "outputs": [],
   "source": [
    "import rgxlog"
   ]
  },
  {
   "cell_type": "code",
   "execution_count": null,
   "id": "32726a30",
   "metadata": {},
   "outputs": [],
   "source": [
    "%rgxlog new brothers(str,str)\n",
    "%rgxlog brothers(\"Kamil\", \"7mode\")"
   ]
  },
  {
   "cell_type": "code",
   "execution_count": null,
   "id": "a6d4c1c6",
   "metadata": {},
   "outputs": [],
   "source": []
  }
 ],
 "metadata": {
  "kernelspec": {
   "display_name": "python3",
   "language": "python",
   "name": "python3"
  }
 },
 "nbformat": 4,
 "nbformat_minor": 5
}
