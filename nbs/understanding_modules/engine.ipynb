{
 "cells": [
  {
   "cell_type": "code",
   "execution_count": null,
   "id": "5cc9ff46",
   "metadata": {},
   "outputs": [],
   "source": [
    "import rgxlog"
   ]
  },
  {
   "cell_type": "markdown",
   "id": "83b769d0",
   "metadata": {},
   "source": [
    "## I'll try to breakdown how the engine works with a couple of examples"
   ]
  },
  {
   "cell_type": "markdown",
   "id": "f49ad56c",
   "metadata": {},
   "source": [
    "## 1- Where all the data about the relations is stored ?\n",
    "They are using sqlite3 database to store and manipulate the information, heres a brief about sqlite3 from chatGPT:\n",
    "SQLite3 is a module in Python's standard library that provides a lightweight and self-contained relational database management system. It allows you to create, connect to, and manipulate SQLite databases using Python."
   ]
  },
  {
   "cell_type": "markdown",
   "id": "d8a778df",
   "metadata": {},
   "source": [
    "## 2- What specific data is stored in the db tables, and what is the structure of these tables ?\n",
    "Whenever we define a relation, a corresponding table is created in the database with the same name as the relation. The number of columns in this table is equal to the number of variables in the relation i.e.len(term_list). As for the rows, they are added or deleted in response to the addition or removal of facts related to the corresponding relation."
   ]
  },
  {
   "cell_type": "code",
   "execution_count": null,
   "id": "073e6575",
   "metadata": {},
   "outputs": [],
   "source": [
    "%%rgxlog\n",
    "new brothers(str, str)"
   ]
  },
  {
   "cell_type": "markdown",
   "id": "5cd17c35",
   "metadata": {},
   "source": [
    "when we declared a new relation a table was declared for us in the database with the name as of the relation's name and with the number of cols as the number of parameters in the relation i.e len(term_list).\n",
    "the names of columns in the database don't have an informative name and there is no need because from Python's perspective it doesn't understand what the relation or its values mean, it just sorts information in the way they were provided, for example brothers(\"Jack\",\"Michael\") from Python's perspective it just sees that \"Jack\" is the first term so it puts it in the col0 and \"Michael\" is the second so it gets added to col1."
   ]
  },
  {
   "cell_type": "code",
   "execution_count": null,
   "id": "a5d5fbed",
   "metadata": {},
   "outputs": [],
   "source": [
    "%rgxlog brothers(\"Kamil\", \"7mode\")"
   ]
  },
  {
   "cell_type": "markdown",
   "id": "c57c3683",
   "metadata": {},
   "source": [
    "And as described above, adding facts to a relation adds lines in the corresponding table in the db."
   ]
  },
  {
   "cell_type": "code",
   "execution_count": null,
   "id": "01bd596b",
   "metadata": {},
   "outputs": [],
   "source": [
    "%rgxlog brothers(\"Kamil\", \"7mode\") <- True"
   ]
  },
  {
   "cell_type": "code",
   "execution_count": null,
   "id": "68794a28",
   "metadata": {},
   "outputs": [
    {
     "ename": "OperationalError",
     "evalue": "near \",\": syntax error",
     "output_type": "error",
     "traceback": [
      "\u001b[0;31m---------------------------------------------------------------------------\u001b[0m",
      "\u001b[0;31mOperationalError\u001b[0m                          Traceback (most recent call last)",
      "Cell \u001b[0;32mIn[5], line 1\u001b[0m\n\u001b[0;32m----> 1\u001b[0m get_ipython()\u001b[39m.\u001b[39;49mrun_line_magic(\u001b[39m'\u001b[39;49m\u001b[39mrgxlog\u001b[39;49m\u001b[39m'\u001b[39;49m, \u001b[39m'\u001b[39;49m\u001b[39mbrothers(\u001b[39;49m\u001b[39m\"\u001b[39;49m\u001b[39mKamil\u001b[39;49m\u001b[39m\"\u001b[39;49m\u001b[39m, \u001b[39;49m\u001b[39m\"\u001b[39;49m\u001b[39m7mode\u001b[39;49m\u001b[39m\"\u001b[39;49m\u001b[39m) <- False\u001b[39;49m\u001b[39m'\u001b[39;49m)\n",
      "File \u001b[0;32m/miniconda/lib/python3.8/site-packages/IPython/core/interactiveshell.py:2414\u001b[0m, in \u001b[0;36mInteractiveShell.run_line_magic\u001b[0;34m(self, magic_name, line, _stack_depth)\u001b[0m\n\u001b[1;32m   2412\u001b[0m     kwargs[\u001b[39m'\u001b[39m\u001b[39mlocal_ns\u001b[39m\u001b[39m'\u001b[39m] \u001b[39m=\u001b[39m \u001b[39mself\u001b[39m\u001b[39m.\u001b[39mget_local_scope(stack_depth)\n\u001b[1;32m   2413\u001b[0m \u001b[39mwith\u001b[39;00m \u001b[39mself\u001b[39m\u001b[39m.\u001b[39mbuiltin_trap:\n\u001b[0;32m-> 2414\u001b[0m     result \u001b[39m=\u001b[39m fn(\u001b[39m*\u001b[39;49margs, \u001b[39m*\u001b[39;49m\u001b[39m*\u001b[39;49mkwargs)\n\u001b[1;32m   2416\u001b[0m \u001b[39m# The code below prevents the output from being displayed\u001b[39;00m\n\u001b[1;32m   2417\u001b[0m \u001b[39m# when using magics with decodator @output_can_be_silenced\u001b[39;00m\n\u001b[1;32m   2418\u001b[0m \u001b[39m# when the last Python token in the expression is a ';'.\u001b[39;00m\n\u001b[1;32m   2419\u001b[0m \u001b[39mif\u001b[39;00m \u001b[39mgetattr\u001b[39m(fn, magic\u001b[39m.\u001b[39mMAGIC_OUTPUT_CAN_BE_SILENCED, \u001b[39mFalse\u001b[39;00m):\n",
      "File \u001b[0;32m/spanner_workbench/src/rgxlog_interpreter/src/rgxlog/magic/rgxlog_magic.py:16\u001b[0m, in \u001b[0;36mRgxlogMagic.rgxlog\u001b[0;34m(self, line, cell)\u001b[0m\n\u001b[1;32m     14\u001b[0m     magic_session\u001b[39m.\u001b[39mrun_commands(cell, print_results\u001b[39m=\u001b[39m\u001b[39mTrue\u001b[39;00m)\n\u001b[1;32m     15\u001b[0m \u001b[39melse\u001b[39;00m:\n\u001b[0;32m---> 16\u001b[0m     magic_session\u001b[39m.\u001b[39;49mrun_commands(line, print_results\u001b[39m=\u001b[39;49m\u001b[39mTrue\u001b[39;49;00m)\n",
      "File \u001b[0;32m/spanner_workbench/src/rgxlog_interpreter/src/rgxlog/engine/session.py:292\u001b[0m, in \u001b[0;36mSession.run_commands\u001b[0;34m(self, query, print_results, format_results)\u001b[0m\n\u001b[1;32m    290\u001b[0m \u001b[39mfor\u001b[39;00m statement \u001b[39min\u001b[39;00m parse_tree\u001b[39m.\u001b[39mchildren:\n\u001b[1;32m    291\u001b[0m     \u001b[39mself\u001b[39m\u001b[39m.\u001b[39m_run_passes(statement, \u001b[39mself\u001b[39m\u001b[39m.\u001b[39m_pass_stack)\n\u001b[0;32m--> 292\u001b[0m     query_result \u001b[39m=\u001b[39m \u001b[39mself\u001b[39;49m\u001b[39m.\u001b[39;49m_execution(parse_graph\u001b[39m=\u001b[39;49m\u001b[39mself\u001b[39;49m\u001b[39m.\u001b[39;49m_parse_graph,\n\u001b[1;32m    293\u001b[0m                                    symbol_table\u001b[39m=\u001b[39;49m\u001b[39mself\u001b[39;49m\u001b[39m.\u001b[39;49m_symbol_table,\n\u001b[1;32m    294\u001b[0m                                    rgxlog_engine\u001b[39m=\u001b[39;49m\u001b[39mself\u001b[39;49m\u001b[39m.\u001b[39;49m_engine,\n\u001b[1;32m    295\u001b[0m                                    term_graph\u001b[39m=\u001b[39;49m\u001b[39mself\u001b[39;49m\u001b[39m.\u001b[39;49m_term_graph)\n\u001b[1;32m    296\u001b[0m     \u001b[39mif\u001b[39;00m query_result \u001b[39mis\u001b[39;00m \u001b[39mnot\u001b[39;00m \u001b[39mNone\u001b[39;00m:\n\u001b[1;32m    297\u001b[0m         query_results\u001b[39m.\u001b[39mappend(query_result)\n",
      "File \u001b[0;32m/spanner_workbench/src/rgxlog_interpreter/src/rgxlog/engine/execution.py:256\u001b[0m, in \u001b[0;36mnaive_execution\u001b[0;34m(parse_graph, term_graph, symbol_table, rgxlog_engine)\u001b[0m\n\u001b[1;32m    254\u001b[0m     \u001b[39melse\u001b[39;00m:\n\u001b[1;32m    255\u001b[0m         action \u001b[39m=\u001b[39m node_type_to_action[parse_node_type]\n\u001b[0;32m--> 256\u001b[0m         action(parse_node_attrs\u001b[39m.\u001b[39;49mget(VALUE))\n\u001b[1;32m    258\u001b[0m \u001b[39mreturn\u001b[39;00m query_result\n",
      "File \u001b[0;32m/spanner_workbench/src/rgxlog_interpreter/src/rgxlog/engine/engine.py:317\u001b[0m, in \u001b[0;36mSqliteEngine.remove_fact\u001b[0;34m(self, fact)\u001b[0m\n\u001b[1;32m    305\u001b[0m template_dict \u001b[39m=\u001b[39m {\u001b[39m\"\u001b[39m\u001b[39mfact\u001b[39m\u001b[39m\"\u001b[39m: fact, \u001b[39m\"\u001b[39m\u001b[39mconstraint_pairs\u001b[39m\u001b[39m\"\u001b[39m: constraint_pairs}\n\u001b[1;32m    307\u001b[0m sql_template \u001b[39m=\u001b[39m (\u001b[39m\"\"\"\u001b[39m\n\u001b[1;32m    308\u001b[0m \u001b[39mDELETE FROM \u001b[39m\u001b[39m{{\u001b[39m\u001b[39mfact.relation_name}} WHERE\u001b[39m\n\u001b[1;32m    309\u001b[0m \u001b[39m\u001b[39m\u001b[39m{\u001b[39m\u001b[39m% f\u001b[39;00m\u001b[39mor left, right in constraint_pairs \u001b[39m\u001b[39m%\u001b[39m\u001b[39m}\u001b[39m\n\u001b[0;32m   (...)\u001b[0m\n\u001b[1;32m    314\u001b[0m \u001b[39m\u001b[39m\u001b[39m{\u001b[39m\u001b[39m% e\u001b[39;00m\u001b[39mndfor \u001b[39m\u001b[39m%\u001b[39m\u001b[39m}\u001b[39m\n\u001b[1;32m    315\u001b[0m \u001b[39m\u001b[39m\u001b[39m\"\"\"\u001b[39m)\n\u001b[0;32m--> 317\u001b[0m \u001b[39mself\u001b[39;49m\u001b[39m.\u001b[39;49m_run_sql_from_jinja_template(sql_template, template_dict)\n",
      "File \u001b[0;32m/spanner_workbench/src/rgxlog_interpreter/src/rgxlog/engine/engine.py:831\u001b[0m, in \u001b[0;36mSqliteEngine._run_sql_from_jinja_template\u001b[0;34m(self, sql_template, template_dict)\u001b[0m\n\u001b[1;32m    828\u001b[0m     template_dict \u001b[39m=\u001b[39m {}\n\u001b[1;32m    830\u001b[0m sql_command \u001b[39m=\u001b[39m Template(strip_lines(sql_template))\u001b[39m.\u001b[39mrender(\u001b[39m*\u001b[39m\u001b[39m*\u001b[39mtemplate_dict)\n\u001b[0;32m--> 831\u001b[0m \u001b[39mself\u001b[39;49m\u001b[39m.\u001b[39;49m_run_sql(sql_command)\n",
      "File \u001b[0;32m/spanner_workbench/src/rgxlog_interpreter/src/rgxlog/engine/engine.py:841\u001b[0m, in \u001b[0;36mSqliteEngine._run_sql\u001b[0;34m(self, command, command_args, do_commit)\u001b[0m\n\u001b[1;32m    839\u001b[0m     \u001b[39mself\u001b[39m\u001b[39m.\u001b[39msql_cursor\u001b[39m.\u001b[39mexecute(command, command_args)\n\u001b[1;32m    840\u001b[0m \u001b[39melse\u001b[39;00m:\n\u001b[0;32m--> 841\u001b[0m     \u001b[39mself\u001b[39;49m\u001b[39m.\u001b[39;49msql_cursor\u001b[39m.\u001b[39;49mexecute(command)\n\u001b[1;32m    843\u001b[0m \u001b[39mif\u001b[39;00m do_commit:\n\u001b[1;32m    844\u001b[0m     \u001b[39m# save to file\u001b[39;00m\n\u001b[1;32m    845\u001b[0m     \u001b[39mself\u001b[39m\u001b[39m.\u001b[39msql_conn\u001b[39m.\u001b[39mcommit()\n",
      "\u001b[0;31mOperationalError\u001b[0m: near \",\": syntax error"
     ]
    }
   ],
   "source": [
    "%rgxlog brothers(\"Kamil\", \"7mode\") <- False"
   ]
  },
  {
   "cell_type": "code",
   "execution_count": null,
   "id": "1b129abf",
   "metadata": {},
   "outputs": [
    {
     "name": "stdout",
     "output_type": "stream",
     "text": [
      "Entered declare_relation_table with args: (parent(str, str),) {}\n",
      "Entered add_fact with args: (parent(\"bob\", \"greg\"),) {}\n",
      "Table: parent\n",
      "  col0  col1\n",
      "0  bob  greg\n",
      "\n",
      "Entered add_fact with args: (parent(\"greg\", \"alice\"),) {}\n",
      "Table: parent\n",
      "   col0   col1\n",
      "0   bob   greg\n",
      "1  greg  alice\n",
      "\n",
      "Entered add_fact with args: (parent(\"George\", \"William\"),) {}\n",
      "Table: parent\n",
      "     col0     col1\n",
      "0     bob     greg\n",
      "1    greg    alice\n",
      "2  George  William\n",
      "\n",
      "Entered add_fact with args: (parent(\"William\", \"Jack\"),) {}\n",
      "Table: parent\n",
      "      col0     col1\n",
      "0      bob     greg\n",
      "1     greg    alice\n",
      "2   George  William\n",
      "3  William     Jack\n",
      "\n"
     ]
    }
   ],
   "source": [
    "%%rgxlog\n",
    "new parent(str ,str)\n",
    "parent(\"bob\", \"greg\")\n",
    "parent(\"greg\", \"alice\")\n",
    "parent(\"George\", \"William\")\n",
    "parent(\"William\", \"Jack\")"
   ]
  },
  {
   "cell_type": "markdown",
   "id": "84f0ab80",
   "metadata": {},
   "source": [
    "## Now for the fun part, let's understand how rules and queries work :P"
   ]
  },
  {
   "cell_type": "markdown",
   "id": "dd64941f",
   "metadata": {},
   "source": [
    "When a new rule is added, an empty table is created in the database. The reason for the table being empty is that multiple rules can be defined with the same rule head. During querying, the system iterates through the list of rules, and the query result is obtained by performing a logical OR operation on the results of these rules.\n",
    "for example: <br>\n",
    "    if we define the rules: <br>\n",
    "        A(X,Y) <- B(X,Y) <br>\n",
    "        A(X,Y) <- C(X,Y) <br> \n",
    "        and then we run the query: ?A(X,Y) <br>\n",
    "        we get in the results printed all the B(X,Y) OR C(X,Y)"
   ]
  },
  {
   "cell_type": "markdown",
   "id": "3ad1a7d1",
   "metadata": {},
   "source": [
    "## Queries\n",
    "In order to understand how querying works we need to bearkdown the rule into parts:\n",
    "for example lets breakdown the rule: <br>\n",
    "grandparent(X,Z) <- parent(X,Y), parent(Y,Z) <br>\n",
    "the rule head: grandparent(X,Z)\n",
    "the rule body relations: [parent(X,Y), parent(Y,Z)]\n",
    "\n",
    "There are 4 operators in the engine that get called when breaking that rule, lets talk about each one of them.\n",
    "Note: each operator yields a relation that is added to the database temporarily. (deleted when we're done querying)\n"
   ]
  },
  {
   "cell_type": "markdown",
   "id": "c96a42bc",
   "metadata": {},
   "source": [
    "### 1- operator_select(self, src_relation: Relation, constant_variables_info: Set[Tuple[int, Any, DataTypes]], *args: Any) -> Relation\n",
    "\n",
    "The operator_select function operates on a relation, which is represented as a database table, and a set of constant variables. Its primary objective is to filter tuples from the given relation based on certain conditions and return the filtered relation.\n",
    "\n",
    "For instance, consider the rule: brothers_of_loay(X) <- brothers(X, \"Loay\"). The goal is to print all the brothers of \"Loay\" by retrieving tuples from the \"brothers\" relation table in the database where \"Loay\" appears on the right side of the tuple.\n",
    "\n",
    "The operator_select function serves precisely this purpose. When called with the above relation, it receives the following parameters: <br>\n",
    "\"Entered operator_select with args: (brothers(X, \"Loay\"), {(1, 'Loay', <DataTypes.string: 0>)})\"\n",
    "\n",
    "Here, constant_variables_info represents a set of tuples. Each tuple contains information about a constant variable. The first index of each tuple denotes the index of the constant variable within the relation (e.g., 1 in our case), while the second index stores the value of the constant variable (e.g., 'Loay').\n",
    "\n",
    "Let's consider an example:"
   ]
  },
  {
   "cell_type": "code",
   "execution_count": null,
   "id": "bb1798c2",
   "metadata": {},
   "outputs": [
    {
     "name": "stdout",
     "output_type": "stream",
     "text": [
      "Entered add_fact with args: (brothers(\"Kamil\", \"7mode\"),) {}\n",
      "Table: brothers\n",
      "    col0   col1\n",
      "0  Kamil  7mode\n",
      "\n",
      "Entered add_fact with args: (brothers(\"Kamil\", \"Loay\"),) {}\n",
      "Table: brothers\n",
      "    col0   col1\n",
      "0  Kamil  7mode\n",
      "1  Kamil   Loay\n",
      "\n",
      "Entered add_fact with args: (brothers(\"7mode\", \"Loay\"),) {}\n",
      "Table: brothers\n",
      "    col0   col1\n",
      "0  Kamil  7mode\n",
      "1  Kamil   Loay\n",
      "2  7mode   Loay\n",
      "\n",
      "Entered declare_relation_table with args: (brothers_of_loay(),) {}\n",
      "Entered declare_relation_table with args: (__rgxlog__brothers_select0(),) {}\n",
      "Table: __rgxlog__brothers_select0\n",
      "    col0  col1\n",
      "0  Kamil  Loay\n",
      "1  7mode  Loay\n",
      "\n",
      "Entered declare_relation_table with args: (__rgxlog__brothers_select0_project1(),) {}\n",
      "Entered operator_union with args: ([__rgxlog__brothers_select0_project1(X)], None) {}\n",
      "Entered declare_relation_table with args: (__rgxlog__brothers_of_loay_select2(),) {}\n",
      "Table: __rgxlog__brothers_of_loay_select2\n",
      "    col0\n",
      "0  Kamil\n",
      "1  7mode\n",
      "\n",
      "Entered declare_relation_table with args: (__rgxlog__brothers_of_loay_select2_project3(),) {}\n",
      "printing results for query 'brothers_of_loay(X)':\n",
      "   X\n",
      "-------\n",
      " Kamil\n",
      " 7mode\n",
      "\n"
     ]
    }
   ],
   "source": [
    "%%rgxlog\n",
    "brothers(\"Kamil\", \"7mode\")\n",
    "brothers(\"Kamil\", \"Loay\")\n",
    "brothers(\"7mode\", \"Loay\")\n",
    "brothers_of_loay(X) <- brothers(X, \"Loay\")\n",
    "?brothers_of_loay(X)"
   ]
  },
  {
   "cell_type": "markdown",
   "id": "b1f49227",
   "metadata": {},
   "source": [
    "### 2- operator_project(self, src_relation: Relation, project_vars: List[str], *args: Any) -> Relation\n",
    "\n",
    "The operator_project function operates on a relation, which is represented as a database table, and a list of project variables. Its primary objective is to yield a relation with the projected variables of the src_relation.\n",
    "\n",
    "Continuing from the previous example, once the select relation table is added to the database, we observe that it consists of two columns where \"Loay\" appears on the right-hand side. However, the purpose of the query is to print only a single column containing the brothers of \"Loay\", without including the right column that holds the value \"Loay\".\n",
    "\n",
    "To address this requirement, the project operator comes into play. Its primary objective is to operate on the relation resulting from the select operation and generate another relation where \"Loay\" no longer appears on the right-hand side.\n",
    "\n",
    "In the given example, the project operator is invoked after the select operation has been executed: <br>\n",
    "Entered operator_project at 2023-06-04 06:55:25 with args: (__rgxlog__brothers_select0(X, \"Loay\"), ['X']) <br>\n",
    "we see that it is working on the relation that operator_select added to the data base and takes 'X' as a project variable.\n",
    "\n",
    "so another relation table gets added to the data base which is : __rgxlog__brothers_select0_project1 <br>\n",
    "and that table would look like that: <br>\n",
    "Table: __rgxlog__brothers_select0_project1 <br>\n",
    "    col0 <br>\n",
    "0  Kamil <br>\n",
    "1  7mode"
   ]
  },
  {
   "cell_type": "markdown",
   "id": "2e0ddee5",
   "metadata": {},
   "source": [
    "### 3- operator_join(self, relations: List[Relation], *args: Any) -> Relation\n",
    "\n",
    "The `operator_join` function operates on a list of relations and its primary objective is to generate a logical AND operator among the tables of those relations within the database. This function plays a crucial role in situations where the following rule is defined: <br> grandparent(X,Z) <- parent(X,Y), parent(Y,Z). <br> \n",
    "\n",
    "The purpose of creating a relation through the `operator_join` function is to establish a connection between the columns containing all possible combinations of triplets (X, Y, Z) where both parent(X,Y) and parent(Y,Z) evaluate to true. The reason for having three columns instead of two is to ensure that we have an answer for every query pertaining to the grandparent rule. With three free variables, it becomes essential to capture all possible combinations in order to provide comprehensive responses to queries. Subsequently, the columns required by a specific query can be projected at a later stage.\n",
    "\n",
    "It should be noted that the relation generated at this point represents the logical AND operation applied to all the relations within the rule's body relation, considering the free variables involved.\n",
    "\n",
    "To provide a more detailed explanation, the process can be described as follows:\n",
    "\n",
    "Given the rule with the body relations parent(X,Y) and parent(Y,Z), the operator_join function performs the following steps:\n",
    "\n",
    "Assign Temporary Names: Each relation in the rule's body is assigned a temporary name to distinguish them during the join operation. For instance, let's assign the names as follows: parent(X,Y) is assigned the name \"table0\" and parent(Y,Z) is assigned the name \"table1\".\n",
    "\n",
    "Matching Tuple Criteria: The objective is to retrieve tuples where table0.col1 is equal to table1.col0. This condition is applied to combine the two relations and generate a new relation.\n",
    "\n",
    "Resulting Relation: The resulting relation, known as \"joined_relation,\" consists of three columns: table0.col0, table0.col1, and table1.col1. Notably, the reason why we don't include table1.col0 as a separate column is because it is known to be the same as table0.col1."
   ]
  },
  {
   "cell_type": "code",
   "execution_count": null,
   "id": "6ef3d9f3",
   "metadata": {},
   "outputs": [
    {
     "name": "stdout",
     "output_type": "stream",
     "text": [
      "Entered declare_relation_table with args: (grandparent(),) {}\n"
     ]
    }
   ],
   "source": [
    "%rgxlog grandparent(X,Z) <- parent(X,Y), parent(Y,Z)"
   ]
  },
  {
   "cell_type": "code",
   "execution_count": null,
   "id": "f2eadd5f",
   "metadata": {},
   "outputs": [
    {
     "name": "stdout",
     "output_type": "stream",
     "text": [
      "Entered operator_join with args: ([parent(X, Y), parent(Y, Z)], {'Z': [(parent(Y, Z), 1)], 'X': [(parent(X, Y), 0)], 'Y': [(parent(X, Y), 1), (parent(Y, Z), 0)]}) {}\n",
      "Entered declare_relation_table with args: (__rgxlog__join4(),) {}\n",
      "Table: __rgxlog__join4\n",
      "    col0    col1     col2\n",
      "0  alice     bob     greg\n",
      "1   Jack  George  William\n",
      "\n",
      "Ask Loay about why the following tables were declared: (the tables below)\n",
      "Entered declare_relation_table with args: (__rgxlog__join4_project5(),) {}\n",
      "Entered operator_union with args: ([__rgxlog__join4_project5(X, Z)], None) {}\n",
      "Entered declare_relation_table with args: (__rgxlog__grandparent_select6(),) {}\n",
      "Table: __rgxlog__grandparent_select6\n",
      "     col0   col1\n",
      "0     bob  alice\n",
      "1  George   Jack\n",
      "\n",
      "Entered declare_relation_table with args: (__rgxlog__grandparent_select6_project7(),) {}\n",
      "printing results for query 'grandparent(X, Y)':\n",
      "   X    |   Y\n",
      "--------+-------\n",
      "  bob   | alice\n",
      " George | Jack\n",
      "\n"
     ]
    }
   ],
   "source": [
    "%rgxlog ?grandparent(X,Y)"
   ]
  },
  {
   "cell_type": "markdown",
   "id": "4067dbf9",
   "metadata": {},
   "source": [
    "### 4- operator_union(self, relations: List[Relation], *args: Any) -> Relation\n",
    "As previously mentioned, a rule can be defined multiple times as long as it shares the same rule head. To illustrate this, let's consider the following example:\n",
    "\n",
    "Suppose we have the rules:\n",
    "A(X,Y) <- B(X,Y)\n",
    "A(X,Y) <- C(X,Y)\n",
    "\n",
    "If we execute the query ?A(X,Y), the engine will produce results that include tuples from both B(X,Y) and C(X,Y) relations. \n",
    "\n",
    "Here's how the engine handles this scenario:\n",
    "\n",
    "1. Rule Matching: The engine identifies all the rules that have the same rule head (A(X,Y)) as the queried relation.\n",
    "\n",
    "2. Rule Execution: For each matched rule, the engine executes all the steps described earlier, such as assigning temporary names, performing joins, and creating intermediate relations, selecting and filtering.\n",
    "\n",
    "3. Intermediate Relations: At this stage, we have intermediate relations generated for each rule, containing the relevant tuples based on the rule's body.\n",
    "\n",
    "4. Operator Union: To consolidate the results from all the rules into a single unified relation, the operator union is applied. This operation combines the tuples from all the intermediate relations.\n",
    "\n",
    "The operator union ensures that the final unified relation contains all the tuples from the individual intermediate relations, effectively merging the results obtained from different rule instances with the same rule head.\n",
    "\n",
    "In summary, the engine processes each rule with the same rule head as the queried relation, performs the necessary steps for each rule individually, and then applies the operator union to merge the intermediate relations into a single unified relation, ensuring all relevant tuples are included in the final result.\n",
    "\n",
    "There is an example in the next cells:"
   ]
  },
  {
   "cell_type": "code",
   "execution_count": null,
   "id": "fa0fab8b",
   "metadata": {},
   "outputs": [
    {
     "name": "stdout",
     "output_type": "stream",
     "text": [
      "Entered declare_relation_table with args: (sisters(str, str),) {}\n",
      "Entered add_fact with args: (sisters(\"Asmaa\", \"Fatima\"),) {}\n",
      "Table: sisters\n",
      "    col0    col1\n",
      "0  Asmaa  Fatima\n",
      "\n",
      "Entered add_fact with args: (sisters(\"Zainab\", \"Mawada\"),) {}\n",
      "Table: sisters\n",
      "     col0    col1\n",
      "0   Asmaa  Fatima\n",
      "1  Zainab  Mawada\n",
      "\n",
      "Entered add_fact with args: (sisters(\"Arwa <3\", \"Arosh :P\"),) {}\n",
      "Table: sisters\n",
      "      col0      col1\n",
      "0    Asmaa    Fatima\n",
      "1   Zainab    Mawada\n",
      "2  Arwa <3  Arosh :P\n",
      "\n"
     ]
    }
   ],
   "source": [
    "%%rgxlog\n",
    "new sisters(str,str)\n",
    "sisters(\"Asmaa\", \"Fatima\")\n",
    "sisters(\"Zainab\", \"Mawada\")\n",
    "sisters(\"Arwa <3\", \"Arosh :P\")"
   ]
  },
  {
   "cell_type": "code",
   "execution_count": null,
   "id": "a226d546",
   "metadata": {},
   "outputs": [
    {
     "name": "stdout",
     "output_type": "stream",
     "text": [
      "Entered declare_relation_table with args: (brothers_or_sisters(),) {}\n",
      "Entered declare_relation_table with args: (brothers_or_sisters(),) {}\n"
     ]
    }
   ],
   "source": [
    "%rgxlog brothers_or_sisters(X,Y) <- sisters(X,Y)\n",
    "%rgxlog brothers_or_sisters(X,Y) <- brothers(X,Y)"
   ]
  },
  {
   "cell_type": "code",
   "execution_count": null,
   "id": "32d7a885",
   "metadata": {},
   "outputs": [
    {
     "name": "stdout",
     "output_type": "stream",
     "text": [
      "Entered declare_relation_table with args: (__rgxlog__sisters_project8(),) {}\n",
      "Entered declare_relation_table with args: (__rgxlog__brothers_project9(),) {}\n",
      "Entered operator_union with args: ([__rgxlog__sisters_project8(X, Y), __rgxlog__brothers_project9(X, Y)], None) {}\n",
      "Entered declare_relation_table with args: (__rgxlog__union10(),) {}\n",
      "Entered declare_relation_table with args: (__rgxlog__brothers_or_sisters_select11(),) {}\n",
      "Table: __rgxlog__brothers_or_sisters_select11\n",
      "      col0      col1\n",
      "0    7mode      Loay\n",
      "1  Arwa <3  Arosh :P\n",
      "2    Asmaa    Fatima\n",
      "3    Kamil     7mode\n",
      "4    Kamil      Loay\n",
      "5   Zainab    Mawada\n",
      "\n",
      "Entered declare_relation_table with args: (__rgxlog__brothers_or_sisters_select11_project12(),) {}\n",
      "printing results for query 'brothers_or_sisters(X, Y)':\n",
      "    X    |    Y\n",
      "---------+----------\n",
      "  7mode  |   Loay\n",
      " Arwa <3 | Arosh :P\n",
      "  Asmaa  |  Fatima\n",
      "  Kamil  |  7mode\n",
      "  Kamil  |   Loay\n",
      " Zainab  |  Mawada\n",
      "\n"
     ]
    }
   ],
   "source": [
    "%rgxlog ?brothers_or_sisters(X,Y)"
   ]
  },
  {
   "cell_type": "code",
   "execution_count": null,
   "id": "12383b43",
   "metadata": {},
   "outputs": [],
   "source": []
  },
  {
   "cell_type": "code",
   "execution_count": null,
   "id": "682a9448",
   "metadata": {},
   "outputs": [],
   "source": []
  },
  {
   "cell_type": "code",
   "execution_count": null,
   "id": "cfd56682",
   "metadata": {},
   "outputs": [],
   "source": []
  }
 ],
 "metadata": {
  "kernelspec": {
   "display_name": "python3",
   "language": "python",
   "name": "python3"
  }
 },
 "nbformat": 4,
 "nbformat_minor": 5
}
