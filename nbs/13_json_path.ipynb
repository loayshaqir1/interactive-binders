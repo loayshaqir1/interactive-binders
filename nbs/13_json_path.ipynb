{
 "cells": [
  {
   "cell_type": "markdown",
   "metadata": {},
   "source": [
    "# Json Path"
   ]
  },
  {
   "cell_type": "code",
   "execution_count": null,
   "metadata": {},
   "outputs": [],
   "source": [
    "#| default_exp src.rgxlog_interpreter.src.rgxlog.stdlib.json_path"
   ]
  },
  {
   "cell_type": "code",
   "execution_count": null,
   "metadata": {},
   "outputs": [],
   "source": [
    "#| hide\n",
    "from nbdev.showdoc import *"
   ]
  },
  {
   "cell_type": "code",
   "execution_count": null,
   "metadata": {},
   "outputs": [
    {
     "name": "stdout",
     "output_type": "stream",
     "text": [
      "Requirement already satisfied: jsonpath-ng in c:\\users\\kloay\\appdata\\local\\programs\\python\\python311\\lib\\site-packages (1.5.3)\n",
      "Requirement already satisfied: ply in c:\\users\\kloay\\appdata\\local\\programs\\python\\python311\\lib\\site-packages (from jsonpath-ng) (3.11)\n",
      "Requirement already satisfied: decorator in c:\\users\\kloay\\appdata\\local\\programs\\python\\python311\\lib\\site-packages (from jsonpath-ng) (5.1.1)\n",
      "Requirement already satisfied: six in c:\\users\\kloay\\appdata\\local\\programs\\python\\python311\\lib\\site-packages (from jsonpath-ng) (1.16.0)\n"
     ]
    },
    {
     "name": "stderr",
     "output_type": "stream",
     "text": [
      "\n",
      "[notice] A new release of pip available: 22.3.1 -> 23.1.2\n",
      "[notice] To update, run: python.exe -m pip install --upgrade pip\n"
     ]
    }
   ],
   "source": [
    "#| hide\n",
    "!pip install jsonpath-ng"
   ]
  },
  {
   "cell_type": "code",
   "execution_count": null,
   "metadata": {},
   "outputs": [],
   "source": [
    "#| export\n",
    "from typing import Iterable, Tuple, Any\n",
    "\n",
    "from jsonpath_ng import parse\n",
    "import json\n",
    "from spanner_workbench.src.rgxlog_interpreter.src.rgxlog.engine.datatypes.primitive_types import DataTypes"
   ]
  },
  {
   "cell_type": "code",
   "execution_count": null,
   "metadata": {},
   "outputs": [],
   "source": [
    "#| export\n",
    "def parse_match(match: Any) -> str:\n",
    "    \"\"\"\n",
    "    @param match: a match result of json path query.\n",
    "    @return: a string that represents the match in string format.\n",
    "    \"\"\"\n",
    "    json_result = match.value\n",
    "    if type(json_result) != str:\n",
    "        # we replace for the same reason as in json_path implementation.\n",
    "        json_result = json.dumps(json_result).replace(\"\\\"\", \"'\")\n",
    "    return json_result"
   ]
  },
  {
   "cell_type": "code",
   "execution_count": null,
   "metadata": {},
   "outputs": [],
   "source": [
    "#| export\n",
    "def json_path(json_document: str, path_expression: str) -> Iterable[Tuple]:\n",
    "    \"\"\"\n",
    "    @param json_document: The document on which we will run the path expression.\n",
    "    @param path_expression: The query to execute.\n",
    "    @return: json documents.\n",
    "    \"\"\"\n",
    "    # covert string to actual json\n",
    "    # json library demands the input string to be enclosed in double quotes, therefore we replace...\n",
    "    json_document = json.loads(json_document.replace(\"'\", \"\\\"\"))\n",
    "    jsonpath_expr = parse(path_expression)\n",
    "    for match in jsonpath_expr.find(json_document):\n",
    "        # each json result is a relation\n",
    "        yield parse_match(match),"
   ]
  },
  {
   "cell_type": "code",
   "execution_count": null,
   "metadata": {},
   "outputs": [],
   "source": [
    "#| export\n",
    "JsonPath = dict(ie_function=json_path,\n",
    "                ie_function_name='JsonPath',\n",
    "                in_rel=[DataTypes.string, DataTypes.string],\n",
    "                out_rel=[DataTypes.string],\n",
    "                )"
   ]
  },
  {
   "cell_type": "code",
   "execution_count": null,
   "metadata": {},
   "outputs": [],
   "source": [
    "#| export\n",
    "def json_path_full(json_document: str, path_expression: str) -> Iterable[Tuple]:\n",
    "    \"\"\"\n",
    "    @param json_document: The document on which we will run the path expression.\n",
    "    @param path_expression: The query to execute.\n",
    "    @return: json documents with the full results paths.\n",
    "    \"\"\"\n",
    "\n",
    "    json_document = json.loads(json_document.replace(\"'\", \"\\\"\"))\n",
    "    jsonpath_expr = parse(path_expression)\n",
    "    for match in jsonpath_expr.find(json_document):\n",
    "        json_result = str(match.full_path)\n",
    "        # objects in full path are separated by dots.\n",
    "        yield *json_result.split(\".\"), parse_match(match)"
   ]
  },
  {
   "cell_type": "code",
   "execution_count": null,
   "metadata": {},
   "outputs": [],
   "source": [
    "#| export\n",
    "JsonPathFull = dict(ie_function=json_path_full,\n",
    "                    ie_function_name='JsonPathFull',\n",
    "                    in_rel=[DataTypes.string, DataTypes.string],\n",
    "                    out_rel=lambda arity: [DataTypes.string] * arity,\n",
    "                    )"
   ]
  }
 ],
 "metadata": {
  "kernelspec": {
   "display_name": "python3",
   "language": "python",
   "name": "python3"
  }
 },
 "nbformat": 4,
 "nbformat_minor": 4
}
