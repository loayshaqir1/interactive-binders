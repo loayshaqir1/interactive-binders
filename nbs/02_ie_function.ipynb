{
 "cells": [
  {
   "cell_type": "markdown",
   "metadata": {},
   "source": [
    "# IE Function\n"
   ]
  },
  {
   "cell_type": "code",
   "execution_count": 1,
   "metadata": {},
   "outputs": [],
   "source": [
    "#| default_exp src.rgxlog_interpreter.src.rgxlog.engine.ie_function"
   ]
  },
  {
   "cell_type": "code",
   "execution_count": 2,
   "metadata": {},
   "outputs": [],
   "source": [
    "#| hide\n",
    "from __future__ import annotations"
   ]
  },
  {
   "cell_type": "code",
   "execution_count": 3,
   "metadata": {},
   "outputs": [],
   "source": [
    "#| hide\n",
    "from nbdev.showdoc import *"
   ]
  },
  {
   "cell_type": "code",
   "execution_count": 4,
   "metadata": {},
   "outputs": [],
   "source": [
    "#| export\n",
    "from typing import Iterable, Callable, Union, Tuple, List, Sequence, Any\n",
    "from spanner_workbench.src.rgxlog_interpreter.src.rgxlog.engine.datatypes.primitive_types import DataTypes"
   ]
  },
  {
   "cell_type": "code",
   "execution_count": 5,
   "metadata": {},
   "outputs": [],
   "source": [
    "#| hide\n",
    "#| exec_doc\n",
    "import inspect"
   ]
  },
  {
   "cell_type": "code",
   "execution_count": 6,
   "metadata": {},
   "outputs": [],
   "source": [
    "#| hide\n",
    "#| exec_doc\n",
    "imported_classes = []\n",
    "for name, obj in list(globals().items()):\n",
    "    if inspect.isclass(obj) and inspect.getmodule(obj) is not None:\n",
    "        imported_classes.append(obj)\n",
    "for cls in imported_classes:\n",
    "    if 'spanner_workbench' in cls.__module__:\n",
    "        cls.__module__ = cls.__module__.split('.')[-1]"
   ]
  },
  {
   "cell_type": "code",
   "execution_count": 7,
   "metadata": {},
   "outputs": [],
   "source": [
    "#| export\n",
    "class IEFunction:\n",
    "    \"\"\"\n",
    "    A class that contains all the functions that provide data\n",
    "    needed for using a single information extraction function\n",
    "    \"\"\"\n",
    "\n",
    "    def __init__(self,\n",
    "            ie_function_def: Callable, # the user defined ie function implementation\n",
    "            in_types: Sequence[DataTypes], # iterable of the input types to the function\n",
    "            out_types: Union[List[DataTypes],Callable[[int], Sequence[DataTypes]]] # either a function (int->iterable) or an iterable\n",
    "            ):\n",
    "        self.ie_function_def = ie_function_def\n",
    "        self.in_types = in_types\n",
    "        self.out_types = out_types\n",
    "    \n",
    "    def ie_function(self, *args: Any) -> Iterable[Iterable[Union[str, int, Tuple[int, int]]]]:  # Tuple[int, int] represents a Span\n",
    "        \"\"\"\n",
    "        The actual information extraction function that will be used\n",
    "        the function must return a list of lists/tuples that represents the results, another option is to yield the\n",
    "        tuples.\n",
    "\n",
    "        currently the values inside the returned tuples can belong to three datatypes: string, integer and span\n",
    "        string should be returned as a str instance\n",
    "        an integer should be returned as an int instance\n",
    "        a span could be returned either as a tuple of length 2, or as a datatypes.Span instance\n",
    "        \"\"\"\n",
    "        output = self.ie_function_def(*args)\n",
    "        return output\n",
    "\n",
    "    def get_input_types(self) -> Sequence[DataTypes]:\n",
    "        \"\"\"\n",
    "        @return: an iterable of the input types to the function.\n",
    "        This function must be defined as it is used for type checking in semantic passes and execution.\n",
    "        \"\"\"\n",
    "        return self.in_types\n",
    "\n",
    "    def get_output_types(self, output_arity: int # expected output_arity\n",
    "                        ) -> Sequence[DataTypes]: # given an expected output arity returns an iterable of the output types to the function\n",
    "        \"\"\"\n",
    "        if the ie function cannot return an output of length output_arity, should return None.\n",
    "        This function must be defined as it is used for type checking in semantic passes and execution.\n",
    "        \"\"\"\n",
    "\n",
    "        if callable(self.out_types):\n",
    "            return list(self.in_types) + list(self.out_types(output_arity - len(self.in_types)))\n",
    "\n",
    "        # output is constant\n",
    "        if not output_arity == len(list(self.in_types)) + len(list(self.out_types)):\n",
    "            raise Exception(\"Output arity doesn't match the declared arity.\")\n",
    "        return list(self.in_types) + list(self.out_types)\n",
    "\n",
    "    def get_meta_data(self) -> str:\n",
    "        \"\"\"\n",
    "        @return: metadata about the ie function.\n",
    "        \"\"\"\n",
    "        metadata = f\"\"\"Input types: {self.in_types}.\\nOutput types: {self.out_types}\"\"\"\n",
    "        return metadata"
   ]
  },
  {
   "cell_type": "code",
   "execution_count": 8,
   "metadata": {},
   "outputs": [
    {
     "data": {
      "text/markdown": [
       "---\n",
       "\n",
       "[source](https://github.com/loayshaqir1/spanner_workbench/blob/main/spanner_workbench/src/rgxlog_interpreter/src/rgxlog/engine/ie_function.py#L26){target=\"_blank\" style=\"float:right; font-size:smaller\"}\n",
       "\n",
       "### IEFunction.ie_function\n",
       "\n",
       ">      IEFunction.ie_function (*args:Any)\n",
       "\n",
       "The actual information extraction function that will be used\n",
       "the function must return a list of lists/tuples that represents the results, another option is to yield the\n",
       "tuples.\n",
       "\n",
       "currently the values inside the returned tuples can belong to three datatypes: string, integer and span\n",
       "string should be returned as a str instance\n",
       "an integer should be returned as an int instance\n",
       "a span could be returned either as a tuple of length 2, or as a datatypes.Span instance\n",
       "\n",
       "|    | **Type** | **Details** |\n",
       "| -- | -------- | ----------- |\n",
       "| args | Any |  |\n",
       "| **Returns** | **Iterable[Iterable[Union[str, int, Tuple[int, int]]]]** | **Tuple[int, int] represents a Span** |"
      ],
      "text/plain": [
       "---\n",
       "\n",
       "[source](https://github.com/loayshaqir1/spanner_workbench/blob/main/spanner_workbench/src/rgxlog_interpreter/src/rgxlog/engine/ie_function.py#L26){target=\"_blank\" style=\"float:right; font-size:smaller\"}\n",
       "\n",
       "### IEFunction.ie_function\n",
       "\n",
       ">      IEFunction.ie_function (*args:Any)\n",
       "\n",
       "The actual information extraction function that will be used\n",
       "the function must return a list of lists/tuples that represents the results, another option is to yield the\n",
       "tuples.\n",
       "\n",
       "currently the values inside the returned tuples can belong to three datatypes: string, integer and span\n",
       "string should be returned as a str instance\n",
       "an integer should be returned as an int instance\n",
       "a span could be returned either as a tuple of length 2, or as a datatypes.Span instance\n",
       "\n",
       "|    | **Type** | **Details** |\n",
       "| -- | -------- | ----------- |\n",
       "| args | Any |  |\n",
       "| **Returns** | **Iterable[Iterable[Union[str, int, Tuple[int, int]]]]** | **Tuple[int, int] represents a Span** |"
      ]
     },
     "execution_count": 8,
     "metadata": {},
     "output_type": "execute_result"
    }
   ],
   "source": [
    "show_doc(IEFunction.ie_function)"
   ]
  },
  {
   "cell_type": "code",
   "execution_count": 9,
   "metadata": {},
   "outputs": [
    {
     "data": {
      "text/markdown": [
       "---\n",
       "\n",
       "[source](https://github.com/loayshaqir1/spanner_workbench/blob/main/spanner_workbench/src/rgxlog_interpreter/src/rgxlog/engine/ie_function.py#L40){target=\"_blank\" style=\"float:right; font-size:smaller\"}\n",
       "\n",
       "### IEFunction.get_input_types\n",
       "\n",
       ">      IEFunction.get_input_types ()\n",
       "\n",
       "@return: an iterable of the input types to the function.\n",
       "This function must be defined as it is used for type checking in semantic passes and execution."
      ],
      "text/plain": [
       "---\n",
       "\n",
       "[source](https://github.com/loayshaqir1/spanner_workbench/blob/main/spanner_workbench/src/rgxlog_interpreter/src/rgxlog/engine/ie_function.py#L40){target=\"_blank\" style=\"float:right; font-size:smaller\"}\n",
       "\n",
       "### IEFunction.get_input_types\n",
       "\n",
       ">      IEFunction.get_input_types ()\n",
       "\n",
       "@return: an iterable of the input types to the function.\n",
       "This function must be defined as it is used for type checking in semantic passes and execution."
      ]
     },
     "execution_count": 9,
     "metadata": {},
     "output_type": "execute_result"
    }
   ],
   "source": [
    "show_doc(IEFunction.get_input_types)"
   ]
  },
  {
   "cell_type": "code",
   "execution_count": 10,
   "metadata": {},
   "outputs": [
    {
     "data": {
      "text/markdown": [
       "---\n",
       "\n",
       "[source](https://github.com/loayshaqir1/spanner_workbench/blob/main/spanner_workbench/src/rgxlog_interpreter/src/rgxlog/engine/ie_function.py#L47){target=\"_blank\" style=\"float:right; font-size:smaller\"}\n",
       "\n",
       "### IEFunction.get_output_types\n",
       "\n",
       ">      IEFunction.get_output_types (output_arity:int)\n",
       "\n",
       "if the ie function cannot return an output of length output_arity, should return None.\n",
       "This function must be defined as it is used for type checking in semantic passes and execution.\n",
       "\n",
       "|    | **Type** | **Details** |\n",
       "| -- | -------- | ----------- |\n",
       "| output_arity | int | expected output_arity |\n",
       "| **Returns** | **Sequence[DataTypes]** | **given an expected output arity returns an iterable of the output types to the function** |"
      ],
      "text/plain": [
       "---\n",
       "\n",
       "[source](https://github.com/loayshaqir1/spanner_workbench/blob/main/spanner_workbench/src/rgxlog_interpreter/src/rgxlog/engine/ie_function.py#L47){target=\"_blank\" style=\"float:right; font-size:smaller\"}\n",
       "\n",
       "### IEFunction.get_output_types\n",
       "\n",
       ">      IEFunction.get_output_types (output_arity:int)\n",
       "\n",
       "if the ie function cannot return an output of length output_arity, should return None.\n",
       "This function must be defined as it is used for type checking in semantic passes and execution.\n",
       "\n",
       "|    | **Type** | **Details** |\n",
       "| -- | -------- | ----------- |\n",
       "| output_arity | int | expected output_arity |\n",
       "| **Returns** | **Sequence[DataTypes]** | **given an expected output arity returns an iterable of the output types to the function** |"
      ]
     },
     "execution_count": 10,
     "metadata": {},
     "output_type": "execute_result"
    }
   ],
   "source": [
    "show_doc(IEFunction.get_output_types)"
   ]
  },
  {
   "cell_type": "code",
   "execution_count": 11,
   "metadata": {},
   "outputs": [
    {
     "data": {
      "text/markdown": [
       "---\n",
       "\n",
       "[source](https://github.com/loayshaqir1/spanner_workbench/blob/main/spanner_workbench/src/rgxlog_interpreter/src/rgxlog/engine/ie_function.py#L62){target=\"_blank\" style=\"float:right; font-size:smaller\"}\n",
       "\n",
       "### IEFunction.get_meta_data\n",
       "\n",
       ">      IEFunction.get_meta_data ()\n",
       "\n",
       "@return: metadata about the ie function."
      ],
      "text/plain": [
       "---\n",
       "\n",
       "[source](https://github.com/loayshaqir1/spanner_workbench/blob/main/spanner_workbench/src/rgxlog_interpreter/src/rgxlog/engine/ie_function.py#L62){target=\"_blank\" style=\"float:right; font-size:smaller\"}\n",
       "\n",
       "### IEFunction.get_meta_data\n",
       "\n",
       ">      IEFunction.get_meta_data ()\n",
       "\n",
       "@return: metadata about the ie function."
      ]
     },
     "execution_count": 11,
     "metadata": {},
     "output_type": "execute_result"
    }
   ],
   "source": [
    "show_doc(IEFunction.get_meta_data)"
   ]
  },
  {
   "cell_type": "code",
   "execution_count": null,
   "metadata": {
    "vscode": {
     "languageId": "html"
    }
   },
   "outputs": [],
   "source": []
  }
 ],
 "metadata": {
  "kernelspec": {
   "display_name": "python3",
   "language": "python",
   "name": "python3"
  },
  "language_info": {
   "codemirror_mode": {
    "name": "ipython",
    "version": 3
   },
   "file_extension": ".py",
   "mimetype": "text/x-python",
   "name": "python",
   "nbconvert_exporter": "python",
   "pygments_lexer": "ipython3",
   "version": "3.8.11"
  }
 },
 "nbformat": 4,
 "nbformat_minor": 4
}
