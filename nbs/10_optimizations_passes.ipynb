{
 "cells": [
  {
   "cell_type": "markdown",
   "metadata": {},
   "source": [
    "# Optimizations Passes\n",
    "> This file contains implementation of passes that optimize the term graph structure."
   ]
  },
  {
   "cell_type": "markdown",
   "metadata": {},
   "source": [
    "::: {.callout-note}\n",
    "Note that these passes depend on the structure of the term graph!\n",
    ":::"
   ]
  },
  {
   "cell_type": "code",
   "execution_count": null,
   "metadata": {},
   "outputs": [],
   "source": [
    "#| default_exp src.rgxlog_interpreter.src.rgxlog.engine.passes.optimizations_passes"
   ]
  },
  {
   "cell_type": "code",
   "execution_count": null,
   "metadata": {},
   "outputs": [],
   "source": [
    "#| hide\n",
    "from __future__ import annotations"
   ]
  },
  {
   "cell_type": "code",
   "execution_count": null,
   "metadata": {},
   "outputs": [],
   "source": [
    "#| hide\n",
    "from nbdev.showdoc import *"
   ]
  },
  {
   "cell_type": "code",
   "execution_count": null,
   "metadata": {},
   "outputs": [],
   "source": [
    "#| export\n",
    "from fastcore.utils import *"
   ]
  },
  {
   "cell_type": "code",
   "execution_count": null,
   "metadata": {},
   "outputs": [],
   "source": [
    "#| export\n",
    "from typing import Any, Set, Union, List, Tuple\n",
    "\n",
    "from spanner_workbench.src.rgxlog_interpreter.src.rgxlog.engine.datatypes.ast_node_types import IERelation, Relation, Rule\n",
    "from spanner_workbench.src.rgxlog_interpreter.src.rgxlog.engine.datatypes.primitive_types import DataTypes\n",
    "from spanner_workbench.src.rgxlog_interpreter.src.rgxlog.engine.passes.lark_passes import GenericPass\n",
    "from spanner_workbench.src.rgxlog_interpreter.src.rgxlog.engine.state.graphs import TermGraphBase, GraphBase, TermNodeType, TYPE, VALUE\n",
    "from spanner_workbench.src.rgxlog_interpreter.src.rgxlog.engine.utils.general_utils import get_output_free_var_names, get_input_free_var_names, fixed_point\n",
    "from spanner_workbench.src.rgxlog_interpreter.src.rgxlog.engine.utils.passes_utils import get_new_rule_nodes"
   ]
  },
  {
   "cell_type": "code",
   "execution_count": null,
   "metadata": {},
   "outputs": [],
   "source": [
    "#| hide\n",
    "#| exec_doc\n",
    "import inspect"
   ]
  },
  {
   "cell_type": "code",
   "execution_count": null,
   "metadata": {},
   "outputs": [],
   "source": [
    "#| hide\n",
    "#| exec_doc\n",
    "imported_classes = []\n",
    "for name, obj in list(globals().items()):\n",
    "    if inspect.isclass(obj) and inspect.getmodule(obj) is not None:\n",
    "        imported_classes.append(obj)\n",
    "for cls in imported_classes:\n",
    "    if 'spanner_workbench' in cls.__module__:\n",
    "        cls.__module__ = cls.__module__.split('.')[-1]"
   ]
  },
  {
   "cell_type": "code",
   "execution_count": null,
   "metadata": {},
   "outputs": [],
   "source": [
    "#| export\n",
    "class PruneUnnecessaryProjectNodes(GenericPass):\n",
    "    \"\"\"\n",
    "    This class prunes project nodes that gets a relation with one column (therefore, the project is redundant).\n",
    "    For example: the rule `A(X) <- B(X)` will yield the following term graph:\n",
    "    ```prolog\n",
    "        rule_rel node (of A)\n",
    "            union node\n",
    "                project node (on X)\n",
    "                   get_rel node (get B)\n",
    "    ```\n",
    "    since we project a relation with one column, after this pass the term graph will be:\n",
    "    ```prolog\n",
    "        rule_rel node (of A)\n",
    "            union node\n",
    "                get_rel node (get B)\n",
    "    ```\n",
    "    \"\"\"\n",
    "\n",
    "    def __init__(self, term_graph: TermGraphBase, **kwargs: Any) -> None:\n",
    "        self.term_graph = term_graph\n",
    "\n",
    "    def run_pass(self, **kwargs: Any) -> None:\n",
    "        self.prune_project_nodes()\n",
    "\n",
    "    def prune_project_nodes(self) -> None:\n",
    "        \"\"\"\n",
    "        Prunes the redundant project nodes.\n",
    "        \"\"\"\n",
    "\n",
    "        project_nodes = self.term_graph.get_all_nodes_with_attributes(type=TermNodeType.PROJECT)\n",
    "        for project_id in project_nodes:\n",
    "            if self.is_input_relation_of_node_has_arity_of_one(project_id):\n",
    "                # in this case the input relations of the project node has arity of one so we prune to node\n",
    "                # the node has exactly one child so we connect the child to project's node parent (it's a union node)\n",
    "\n",
    "                self.term_graph.add_edge(self.term_graph.get_parent(project_id), self.term_graph.get_child(project_id))\n",
    "                self.term_graph.remove_node(project_id)\n",
    "\n",
    "    def is_input_relation_of_node_has_arity_of_one(self, \n",
    "                        node_id: GraphBase.NodeIdType # id of the node\n",
    "                        ) -> bool: # Wether the arity of the relation that the node gets during the execution is one\n",
    "        \"\"\"\n",
    "        @note: we expect id of project/join node.\n",
    "        \"\"\"\n",
    "        # this methods suppose to work for both project nodes and join nodes.\n",
    "        # project nodes always have one child while join nodes always have more than one child.\n",
    "        # for that reason, we traverse all the children of the node.\n",
    "        node_ids = self.term_graph.get_children(node_id)\n",
    "        free_vars: Set[str] = set()\n",
    "\n",
    "        def is_relation_has_one_free_var(relation_: Union[Relation, IERelation]) -> bool:\n",
    "            \"\"\"\n",
    "            Check whether relation is only one free variable.\n",
    "            @param relation_: a relation or an ie_relation.\n",
    "            \"\"\"\n",
    "\n",
    "            return len(relation_.get_term_list()) == 1\n",
    "\n",
    "        for node_id in node_ids:\n",
    "            node_attrs = self.term_graph[node_id]\n",
    "            node_type = node_attrs[TYPE]\n",
    "\n",
    "            if node_type in (TermNodeType.GET_REL, TermNodeType.RULE_REL, TermNodeType.CALC):\n",
    "                relation = node_attrs[VALUE]\n",
    "                # if relation has more than one free var we can't prune the project\n",
    "                if not is_relation_has_one_free_var(relation):\n",
    "                    return False\n",
    "\n",
    "                free_vars |= set(relation.get_term_list())\n",
    "\n",
    "            elif node_type is TermNodeType.SELECT:\n",
    "                relation_child_id = self.term_graph.get_child(node_id)\n",
    "                relation = self.term_graph[relation_child_id][VALUE]\n",
    "                if not is_relation_has_one_free_var(relation):\n",
    "                    return False\n",
    "\n",
    "                relation_free_vars = [var for var, var_type in zip(relation.get_term_list(), relation.get_type_list()) if var_type is DataTypes.free_var_name]\n",
    "                free_vars |= set(relation_free_vars)\n",
    "\n",
    "            elif node_type is TermNodeType.JOIN:\n",
    "                # the input of project node is the same as the input of the join node\n",
    "                return self.is_input_relation_of_node_has_arity_of_one(node_id)\n",
    "\n",
    "        return len(free_vars) == 1\n"
   ]
  },
  {
   "cell_type": "code",
   "execution_count": null,
   "metadata": {},
   "outputs": [],
   "source": [
    "#| export\n",
    "class RemoveUselessRelationsFromRule(GenericPass):\n",
    "    \"\"\"\n",
    "    This pass removes duplicated relations from a rule. <br>\n",
    "    For example, the rule `A(X) <- B(X), C(Y)` contains a redundant relation (`C(Y)`). <br>\n",
    "    After this pass the rule will be `A(X) <- B(X)`.\n",
    "\n",
    "    \"\"\"\n",
    "\n",
    "    def __init__(self, parse_graph: GraphBase, **kwargs: Any) -> None:\n",
    "        self.parse_graph = parse_graph\n",
    "\n",
    "    @staticmethod\n",
    "    def remove_useless_relations(rule: Rule) -> None:\n",
    "        \"\"\"\n",
    "        Finds redundant relations and removes them from the rule.\n",
    "        @param rule: a rule.\n",
    "        \"\"\"\n",
    "        relevant_free_vars = set(rule.head_relation.get_term_list())\n",
    "\n",
    "        # relation without free vars are always relevant\n",
    "        initial_useless_relations_and_types = [(rel, rel_type) for rel, rel_type in zip(rule.body_relation_list, rule.body_relation_type_list)\n",
    "                                               if len(get_output_free_var_names(rel)) != 0]\n",
    "\n",
    "        def step_function(current_useless_relations_and_types: List[Tuple[Union[Relation, IERelation], str]]) -> List[Tuple[Union[Relation, IERelation], str]]:\n",
    "            \"\"\"\n",
    "            Used by fixed pont algorithm.\n",
    "\n",
    "            @param current_useless_relations_and_types: current useless relations and their types\n",
    "            @return: useless relations after considering the new relevant free vars.\n",
    "            \"\"\"\n",
    "\n",
    "            next_useless_relations_and_types = []\n",
    "            for relation, rel_type in current_useless_relations_and_types:\n",
    "                term_list = get_output_free_var_names(relation)\n",
    "                if len(relevant_free_vars.intersection(term_list)) == 0:\n",
    "                    next_useless_relations_and_types.append((relation, rel_type))\n",
    "                else:\n",
    "                    relevant_free_vars.update(term_list)\n",
    "                    relevant_free_vars.update(get_input_free_var_names(relation))\n",
    "\n",
    "            return next_useless_relations_and_types\n",
    "\n",
    "        useless_relations_and_types = fixed_point(start=initial_useless_relations_and_types, step=step_function, distance=lambda x, y: int(len(x) != len(y)))\n",
    "\n",
    "        relevant_relations_and_types = set(zip(rule.body_relation_list, rule.body_relation_type_list)).difference(useless_relations_and_types)\n",
    "        new_body_relation_list, new_body_relation_type_list = zip(*relevant_relations_and_types)\n",
    "        rule.body_relation_list = list(new_body_relation_list)\n",
    "        rule.body_relation_type_list = list(new_body_relation_type_list)\n",
    "\n",
    "    def run_pass(self, **kwargs: Any) -> None:\n",
    "        rules = get_new_rule_nodes(self.parse_graph)\n",
    "        for rule_node_id in rules:\n",
    "            rule: Rule = self.parse_graph[rule_node_id][VALUE]\n",
    "            RemoveUselessRelationsFromRule.remove_useless_relations(rule)"
   ]
  },
  {
   "cell_type": "markdown",
   "metadata": {},
   "source": [
    ":::{.callout-note}\n",
    "In the rule `A(X) <- B(X, Y), C(Y)`, `C(Y)` is not redundant!\n",
    ":::"
   ]
  }
 ],
 "metadata": {
  "kernelspec": {
   "display_name": "python3",
   "language": "python",
   "name": "python3"
  }
 },
 "nbformat": 4,
 "nbformat_minor": 4
}
