{
 "cells": [
  {
   "cell_type": "markdown",
   "metadata": {},
   "source": [
    "# Rgxlog Magic"
   ]
  },
  {
   "cell_type": "code",
   "execution_count": 1,
   "metadata": {},
   "outputs": [],
   "source": [
    "#| default_exp src.rgxlog_interpreter.src.rgxlog.magic.rgxlog_magic"
   ]
  },
  {
   "cell_type": "code",
   "execution_count": 3,
   "metadata": {},
   "outputs": [
    {
     "name": "stdout",
     "output_type": "stream",
     "text": [
      "Collecting nbdev\n",
      "  Using cached nbdev-2.3.12-py3-none-any.whl (64 kB)\n",
      "Collecting fastcore>=1.5.27\n",
      "  Using cached fastcore-1.5.29-py3-none-any.whl (67 kB)\n",
      "Collecting PyYAML\n",
      "  Downloading PyYAML-6.0.1-cp39-cp39-win_amd64.whl (152 kB)\n",
      "     -------------------------------------- 152.8/152.8 KB 1.3 MB/s eta 0:00:00\n",
      "Collecting execnb>=0.1.4\n",
      "  Using cached execnb-0.1.5-py3-none-any.whl (13 kB)\n",
      "Collecting ghapi>=1.0.3\n",
      "  Downloading ghapi-1.0.4-py3-none-any.whl (58 kB)\n",
      "     ---------------------------------------- 58.7/58.7 KB 3.0 MB/s eta 0:00:00\n",
      "Collecting watchdog\n",
      "  Using cached watchdog-3.0.0-py3-none-win_amd64.whl (82 kB)\n",
      "Collecting astunparse\n",
      "  Using cached astunparse-1.6.3-py2.py3-none-any.whl (12 kB)\n",
      "Requirement already satisfied: asttokens in c:\\users\\kloay\\appdata\\local\\packages\\pythonsoftwarefoundation.python.3.9_qbz5n2kfra8p0\\localcache\\local-packages\\python39\\site-packages (from nbdev) (2.2.1)\n",
      "Requirement already satisfied: ipython in c:\\users\\kloay\\appdata\\local\\packages\\pythonsoftwarefoundation.python.3.9_qbz5n2kfra8p0\\localcache\\local-packages\\python39\\site-packages (from execnb>=0.1.4->nbdev) (8.13.2)\n",
      "Requirement already satisfied: packaging in c:\\users\\kloay\\appdata\\local\\packages\\pythonsoftwarefoundation.python.3.9_qbz5n2kfra8p0\\localcache\\local-packages\\python39\\site-packages (from fastcore>=1.5.27->nbdev) (23.1)\n",
      "Requirement already satisfied: pip in c:\\program files\\windowsapps\\pythonsoftwarefoundation.python.3.9_3.9.3568.0_x64__qbz5n2kfra8p0\\lib\\site-packages (from fastcore>=1.5.27->nbdev) (22.0.4)\n",
      "Requirement already satisfied: six in c:\\users\\kloay\\appdata\\local\\packages\\pythonsoftwarefoundation.python.3.9_qbz5n2kfra8p0\\localcache\\local-packages\\python39\\site-packages (from asttokens->nbdev) (1.16.0)\n",
      "Collecting wheel<1.0,>=0.23.0\n",
      "  Downloading wheel-0.41.2-py3-none-any.whl (64 kB)\n",
      "     ---------------------------------------- 64.8/64.8 KB 3.4 MB/s eta 0:00:00\n",
      "Requirement already satisfied: decorator in c:\\users\\kloay\\appdata\\local\\packages\\pythonsoftwarefoundation.python.3.9_qbz5n2kfra8p0\\localcache\\local-packages\\python39\\site-packages (from ipython->execnb>=0.1.4->nbdev) (5.1.1)\n",
      "Requirement already satisfied: stack-data in c:\\users\\kloay\\appdata\\local\\packages\\pythonsoftwarefoundation.python.3.9_qbz5n2kfra8p0\\localcache\\local-packages\\python39\\site-packages (from ipython->execnb>=0.1.4->nbdev) (0.6.2)\n",
      "Requirement already satisfied: jedi>=0.16 in c:\\users\\kloay\\appdata\\local\\packages\\pythonsoftwarefoundation.python.3.9_qbz5n2kfra8p0\\localcache\\local-packages\\python39\\site-packages (from ipython->execnb>=0.1.4->nbdev) (0.18.2)\n",
      "Requirement already satisfied: backcall in c:\\users\\kloay\\appdata\\local\\packages\\pythonsoftwarefoundation.python.3.9_qbz5n2kfra8p0\\localcache\\local-packages\\python39\\site-packages (from ipython->execnb>=0.1.4->nbdev) (0.2.0)\n",
      "Requirement already satisfied: pickleshare in c:\\users\\kloay\\appdata\\local\\packages\\pythonsoftwarefoundation.python.3.9_qbz5n2kfra8p0\\localcache\\local-packages\\python39\\site-packages (from ipython->execnb>=0.1.4->nbdev) (0.7.5)\n",
      "Requirement already satisfied: traitlets>=5 in c:\\users\\kloay\\appdata\\local\\packages\\pythonsoftwarefoundation.python.3.9_qbz5n2kfra8p0\\localcache\\local-packages\\python39\\site-packages (from ipython->execnb>=0.1.4->nbdev) (5.9.0)\n",
      "Requirement already satisfied: prompt-toolkit!=3.0.37,<3.1.0,>=3.0.30 in c:\\users\\kloay\\appdata\\local\\packages\\pythonsoftwarefoundation.python.3.9_qbz5n2kfra8p0\\localcache\\local-packages\\python39\\site-packages (from ipython->execnb>=0.1.4->nbdev) (3.0.38)\n",
      "Requirement already satisfied: colorama in c:\\users\\kloay\\appdata\\local\\packages\\pythonsoftwarefoundation.python.3.9_qbz5n2kfra8p0\\localcache\\local-packages\\python39\\site-packages (from ipython->execnb>=0.1.4->nbdev) (0.4.6)\n",
      "Requirement already satisfied: typing-extensions in c:\\users\\kloay\\appdata\\local\\packages\\pythonsoftwarefoundation.python.3.9_qbz5n2kfra8p0\\localcache\\local-packages\\python39\\site-packages (from ipython->execnb>=0.1.4->nbdev) (4.6.0)\n",
      "Requirement already satisfied: matplotlib-inline in c:\\users\\kloay\\appdata\\local\\packages\\pythonsoftwarefoundation.python.3.9_qbz5n2kfra8p0\\localcache\\local-packages\\python39\\site-packages (from ipython->execnb>=0.1.4->nbdev) (0.1.6)\n",
      "Requirement already satisfied: pygments>=2.4.0 in c:\\users\\kloay\\appdata\\local\\packages\\pythonsoftwarefoundation.python.3.9_qbz5n2kfra8p0\\localcache\\local-packages\\python39\\site-packages (from ipython->execnb>=0.1.4->nbdev) (2.15.1)\n",
      "Requirement already satisfied: parso<0.9.0,>=0.8.0 in c:\\users\\kloay\\appdata\\local\\packages\\pythonsoftwarefoundation.python.3.9_qbz5n2kfra8p0\\localcache\\local-packages\\python39\\site-packages (from jedi>=0.16->ipython->execnb>=0.1.4->nbdev) (0.8.3)\n",
      "Requirement already satisfied: wcwidth in c:\\users\\kloay\\appdata\\local\\packages\\pythonsoftwarefoundation.python.3.9_qbz5n2kfra8p0\\localcache\\local-packages\\python39\\site-packages (from prompt-toolkit!=3.0.37,<3.1.0,>=3.0.30->ipython->execnb>=0.1.4->nbdev) (0.2.6)\n",
      "Requirement already satisfied: executing>=1.2.0 in c:\\users\\kloay\\appdata\\local\\packages\\pythonsoftwarefoundation.python.3.9_qbz5n2kfra8p0\\localcache\\local-packages\\python39\\site-packages (from stack-data->ipython->execnb>=0.1.4->nbdev) (1.2.0)\n",
      "Requirement already satisfied: pure-eval in c:\\users\\kloay\\appdata\\local\\packages\\pythonsoftwarefoundation.python.3.9_qbz5n2kfra8p0\\localcache\\local-packages\\python39\\site-packages (from stack-data->ipython->execnb>=0.1.4->nbdev) (0.2.2)\n",
      "Installing collected packages: wheel, watchdog, PyYAML, fastcore, ghapi, astunparse, execnb, nbdev\n",
      "Successfully installed PyYAML-6.0.1 astunparse-1.6.3 execnb-0.1.5 fastcore-1.5.29 ghapi-1.0.4 nbdev-2.3.12 watchdog-3.0.0 wheel-0.41.2\n"
     ]
    },
    {
     "name": "stderr",
     "output_type": "stream",
     "text": [
      "WARNING: You are using pip version 22.0.4; however, version 23.2.1 is available.\n",
      "You should consider upgrading via the 'C:\\Users\\kloay\\AppData\\Local\\Microsoft\\WindowsApps\\PythonSoftwareFoundation.Python.3.9_qbz5n2kfra8p0\\python.exe -m pip install --upgrade pip' command.\n"
     ]
    }
   ],
   "source": [
    "!pip install nbdev"
   ]
  },
  {
   "cell_type": "code",
   "execution_count": 4,
   "metadata": {},
   "outputs": [],
   "source": [
    "#| hide\n",
    "from nbdev.showdoc import *"
   ]
  },
  {
   "cell_type": "code",
   "execution_count": 5,
   "metadata": {},
   "outputs": [],
   "source": [
    "#| hide\n",
    "from typing import Optional\n",
    "\n",
    "from IPython.core.magic import (Magics, magics_class, line_cell_magic)"
   ]
  },
  {
   "cell_type": "code",
   "execution_count": 6,
   "metadata": {},
   "outputs": [],
   "source": [
    "#| hide\n",
    "@magics_class\n",
    "class RgxlogMagic(Magics):\n",
    "    @line_cell_magic\n",
    "    def rgxlog(self, line: str, cell: Optional[str] = None) -> None:\n",
    "        # import locally to prevent circular import issues\n",
    "        from rgxlog import magic_session\n",
    "\n",
    "        if cell:\n",
    "            magic_session.run_commands(cell, print_results=True)\n",
    "        else:\n",
    "            magic_session.run_commands(line, print_results=True)\n"
   ]
  }
 ],
 "metadata": {
  "kernelspec": {
   "display_name": "python3",
   "language": "python",
   "name": "python3"
  },
  "language_info": {
   "codemirror_mode": {
    "name": "ipython",
    "version": 3
   },
   "file_extension": ".py",
   "mimetype": "text/x-python",
   "name": "python",
   "nbconvert_exporter": "python",
   "pygments_lexer": "ipython3",
   "version": "3.9.13"
  }
 },
 "nbformat": 4,
 "nbformat_minor": 4
}
