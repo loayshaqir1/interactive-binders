{
 "cells": [
  {
   "cell_type": "markdown",
   "metadata": {},
   "source": [
    "# Try it yourself!"
   ]
  },
  {
   "cell_type": "markdown",
   "metadata": {},
   "source": [
    "## Live REPL for RgxLog\n",
    "\n",
    "You don't need to install anything to start using `RgxLog`; we offer a live REPL right here on this webpage! This feature allows you to interactively run code and see the results instantly. This is a great way to try out the library and get a feel for what it's like to work with RgxLog.\n",
    "\n",
    "\n",
    "\n",
    "### Example Code Snippet\n",
    "\n",
    "Here is an example code snippet you can run in the live REPL to get started:\n",
    "\n",
    "```python\n",
    "%%rgxlog\n",
    "new parent(str, str)\n",
    "parent(\"Liam\", \"Noah\")\n",
    "parent(\"Noah\", \"Oliver\")\n",
    "\n",
    "ancestor(X,Y) <- parent(X,Y)\n",
    "ancestor(X,Y) <- parent(X,Z), ancestor(Z,Y)\n",
    "\n",
    "?ancestor(Ancestor, Descendant)\n",
    "```"
   ]
  },
  {
   "cell_type": "code",
   "execution_count": null,
   "metadata": {},
   "outputs": [
    {
     "data": {
      "text/html": [
       "\n",
       "<iframe\n",
       "  src=\"https://loayshaqir1.github.io/spanner-workbench-interactive-binders/repl/index.html?toolbar=1&kernel=python&code=from%20spanner_workbench.src.rgxlog_interpreter.src.rgxlog.engine.session%20import%20Session\"\n",
       "  height = 800\n",
       "  width = 800\n",
       "  ></iframe>\n"
      ],
      "text/plain": [
       "<IPython.core.display.HTML object>"
      ]
     },
     "metadata": {},
     "output_type": "display_data"
    }
   ],
   "source": [
    "#| exec_doc\n",
    "#| echo:false\n",
    "from IPython.display import HTML\n",
    "\n",
    "html_code = \"\"\"\n",
    "<iframe\n",
    "  src=\"https://loayshaqir1.github.io/spanner-workbench-interactive-binders/repl/index.html?toolbar=1&kernel=xeus-python&code=import rgxlog\"\n",
    "  height = 800\n",
    "  width = 740\n",
    "  ></iframe>\n",
    "\"\"\"\n",
    "\n",
    "display(HTML(html_code))\n"
   ]
  }
 ],
 "metadata": {
  "kernelspec": {
   "display_name": "python3",
   "language": "python",
   "name": "python3"
  }
 },
 "nbformat": 4,
 "nbformat_minor": 2
}
