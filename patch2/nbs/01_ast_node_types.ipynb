{
 "cells": [
  {
   "cell_type": "markdown",
   "metadata": {},
   "source": [
    "# Ast Nodes Types\n"
   ]
  },
  {
   "cell_type": "markdown",
   "metadata": {},
   "source": [
    "for each statement node in the rgxlog grammar, this module contains a matching class that can represent\n",
    "that statement in the abstract syntax tree. classes representations for relations are also included.\n",
    "\n",
    "these classes are useful as they represent a statement with a single instance, instead of a lark tree,\n",
    "thus simplifying the code required for semantic checks and manipulations of the statement."
   ]
  },
  {
   "cell_type": "code",
   "execution_count": null,
   "metadata": {},
   "outputs": [],
   "source": [
    "#| default_exp src.rgxlog_interpreter.src.rgxlog.engine.datatypes.ast_node_types"
   ]
  },
  {
   "cell_type": "code",
   "execution_count": null,
   "metadata": {},
   "outputs": [],
   "source": [
    "#| hide\n",
    "from __future__ import annotations"
   ]
  },
  {
   "cell_type": "code",
   "execution_count": null,
   "metadata": {},
   "outputs": [],
   "source": [
    "#| export\n",
    "from nbdev.showdoc import *\n",
    "from fastcore.utils import patch"
   ]
  },
  {
   "cell_type": "code",
   "execution_count": null,
   "metadata": {},
   "outputs": [],
   "source": [
    "#| export\n",
    "from typing import List, Tuple, Set, Union, Sequence\n",
    "from spanner_workbench.src.rgxlog_interpreter.src.rgxlog.engine.datatypes.primitive_types import DataTypes, DataTypeMapping, Span"
   ]
  },
  {
   "cell_type": "code",
   "execution_count": null,
   "metadata": {},
   "outputs": [],
   "source": [
    "#| hide\n",
    "#| exec_doc\n",
    "import inspect"
   ]
  },
  {
   "cell_type": "code",
   "execution_count": null,
   "metadata": {},
   "outputs": [],
   "source": [
    "#| hide\n",
    "#| exec_doc\n",
    "imported_classes = []\n",
    "for name, obj in list(globals().items()):\n",
    "    if inspect.isclass(obj) and inspect.getmodule(obj) is not None:\n",
    "        imported_classes.append(obj)\n",
    "for cls in imported_classes:\n",
    "    if 'spanner_workbench' in cls.__module__:\n",
    "        cls.__module__ = cls.__module__.split('.')[-1]"
   ]
  },
  {
   "cell_type": "code",
   "execution_count": null,
   "metadata": {},
   "outputs": [],
   "source": [
    "#| export\n",
    "def get_term_list_string(term_list: Sequence[DataTypeMapping.term], #the term list to be turned into a string\n",
    "                         type_list: Sequence[DataTypes] #the types of the terms in term_list\n",
    "                         ) -> str: #a string representation of the term list\n",
    "    \"\"\"\n",
    "    returns a string representation of the term list.\n",
    "    quotes are added to string terms so they will not be confused with variables. <br>\n",
    "    @raise Exception: if length of term list doesn't match the length of type list.\n",
    "    \"\"\"\n",
    "    if len(term_list) != len(type_list):\n",
    "        raise Exception(f\"received different lengths of term_list ({len(term_list)}) \"\n",
    "                        f\"and type_list ({len(type_list)})\")\n",
    "        \n",
    "    terms_with_quoted_strings = [f'\"{term}\"' if term_type is DataTypes.string\n",
    "                                 else str(term)\n",
    "                                 for term, term_type in zip(term_list, type_list)]\n",
    "    term_list_string = ', '.join(terms_with_quoted_strings)\n",
    "    return term_list_string"
   ]
  },
  {
   "cell_type": "markdown",
   "metadata": {},
   "source": [
    "::: {.callout-note collapse=\"true\"}\n",
    "\n",
    "##### Example\n",
    "\n",
    "```python\n",
    "term_list = [\"X\", \"jack\", 1]\n",
    "type_list = [DataTypes.free_var_name, DataTypes.string, DataTypes.integer]\n",
    "print(get_term_list_string(term_list,type_list))\n",
    "```\n",
    "The expected result of this code is:\n",
    "\n",
    "```\n",
    "X, \"jack\", 1\n",
    "```\n",
    "\n",
    ":::"
   ]
  },
  {
   "cell_type": "code",
   "execution_count": null,
   "metadata": {},
   "outputs": [],
   "source": [
    "#| export\n",
    "class RelationDeclaration:\n",
    "    \"\"\"a representation of a relation_declaration statement\"\"\"\n",
    "\n",
    "    def __init__(self, relation_name: str, # the name of the relation.\n",
    "                 type_list: Sequence[DataTypes]): # a list of the types of the terms in the relation's tuples.\n",
    "        \"\"\"\n",
    "        @raise Exception: if there is invalid term type in term list.\n",
    "        \"\"\"\n",
    "        self.relation_name = relation_name\n",
    "        self.type_list = type_list\n",
    "        \n",
    "    def __str__(self) -> str:\n",
    "        type_strings = []\n",
    "        for term_type in self.type_list:\n",
    "            if term_type in [DataTypes.string, DataTypes.free_var_name]:\n",
    "                type_strings.append('str')\n",
    "            elif term_type is DataTypes.span:\n",
    "                type_strings.append('span')\n",
    "            elif term_type is DataTypes.integer:\n",
    "                type_strings.append('int')\n",
    "            else:\n",
    "                raise ValueError(f\"invalid term type ({term_type})\")\n",
    "\n",
    "        type_list_string = ', '.join(type_strings)\n",
    "        relation_declaration_string = f\"{self.relation_name}({type_list_string})\"\n",
    "        return relation_declaration_string\n",
    "\n",
    "    def __repr__(self) -> str:\n",
    "        return str(self)"
   ]
  },
  {
   "cell_type": "markdown",
   "metadata": {},
   "source": [
    "::: {.callout-note collapse=\"true\"}\n",
    "\n",
    "##### Example\n",
    "\n",
    "```python\n",
    "rel_decl = RelationDeclaration(\"parent\", [DataTypes.string, DataTypes.string])\n",
    "print(rel_decl)\n",
    "```\n",
    "The expected result of this code is:\n",
    "\n",
    "```\n",
    "parent(str, str)\n",
    "```\n",
    "\n",
    ":::"
   ]
  },
  {
   "cell_type": "code",
   "execution_count": null,
   "metadata": {},
   "outputs": [],
   "source": [
    "#| export\n",
    "class Relation:\n",
    "    \"\"\"a representation of a normal relation\"\"\"\n",
    "\n",
    "    def __init__(self, relation_name: str, # the name of the relation\n",
    "                 term_list: Sequence[DataTypeMapping.term], # a list of the relation terms\n",
    "                 type_list: Sequence[DataTypes]): # a list of the relation term types\n",
    "        \"\"\"\n",
    "        @raise Exception: if length of term list doesn't match the length of type list.\n",
    "        \"\"\"\n",
    "        if len(term_list) != len(type_list):\n",
    "            raise Exception(f\"received different lengths of term_list ({len(term_list)}) \"\n",
    "                            f\"and type_list ({len(type_list)})\")\n",
    "        self.relation_name = relation_name\n",
    "        self.term_list = term_list\n",
    "        self.type_list = type_list\n",
    "        \n",
    "    def __str__(self) -> str:\n",
    "        term_list_string = get_term_list_string(self.term_list, self.type_list)\n",
    "        relation_string = f\"{self.relation_name}({term_list_string})\"\n",
    "        return relation_string\n",
    "\n",
    "    def __repr__(self) -> str:\n",
    "        return str(self)\n",
    "\n",
    "    def get_term_list(self) -> Sequence[DataTypeMapping.term]:\n",
    "        return self.term_list\n",
    "\n",
    "    def get_type_list(self) -> Sequence[DataTypes]:\n",
    "        return self.type_list\n",
    "\n",
    "    def get_select_cols_values_and_types(self\n",
    "            )-> set: # a set of constant variables that should be selected from the relation\n",
    "        col_value_type = set()\n",
    "        for i, (var_type, value) in enumerate(zip(self.type_list, self.term_list)):\n",
    "            if var_type != DataTypes.free_var_name:\n",
    "                col_value_type.add((i, value, var_type))\n",
    "\n",
    "        return col_value_type\n",
    "\n",
    "    def as_relation_declaration(self) -> RelationDeclaration:\n",
    "        return RelationDeclaration(self.relation_name, self.type_list)\n",
    "\n",
    "    def has_same_terms_and_types(self, other: \"Relation\" # The other relation to compare with\n",
    "                        ) -> bool: # True if same, false otherwise\n",
    "        \"\"\"\n",
    "        Checks only term list and type list equivalence.\n",
    "        \"\"\"\n",
    "\n",
    "        return self.type_list == other.type_list and self.term_list == other.term_list\n",
    "\n",
    "    def get_index_of_free_var(self, free_var : DataTypes.free_var_name # the free var to search for\n",
    "                            ) -> int: # the index of free_var in term_list.\n",
    "        \"\"\"\n",
    "        @raise Exception: if free_var doesn't exist in term_list.\n",
    "        \"\"\"\n",
    "\n",
    "        for i, term in enumerate(self.term_list):\n",
    "            if term == free_var:\n",
    "                return i\n",
    "            \n",
    "        raise Exception(f\"{free_var} doesn't exist in term_list of relation {self.relation_name}\"\n",
    "                        f\"term_list: {self.term_list}\")"
   ]
  },
  {
   "cell_type": "code",
   "execution_count": null,
   "metadata": {},
   "outputs": [
    {
     "data": {
      "text/markdown": [
       "---\n",
       "\n",
       "[source](https://github.com/loayshaqir1/spanner_workbench/blob/main/spanner_workbench/src/rgxlog_interpreter/src/rgxlog/engine/datatypes/ast_node_types.py#L96){target=\"_blank\" style=\"float:right; font-size:smaller\"}\n",
       "\n",
       "### Relation.get_select_cols_values_and_types\n",
       "\n",
       ">      Relation.get_select_cols_values_and_types ()"
      ],
      "text/plain": [
       "---\n",
       "\n",
       "[source](https://github.com/loayshaqir1/spanner_workbench/blob/main/spanner_workbench/src/rgxlog_interpreter/src/rgxlog/engine/datatypes/ast_node_types.py#L96){target=\"_blank\" style=\"float:right; font-size:smaller\"}\n",
       "\n",
       "### Relation.get_select_cols_values_and_types\n",
       "\n",
       ">      Relation.get_select_cols_values_and_types ()"
      ]
     },
     "execution_count": null,
     "metadata": {},
     "output_type": "execute_result"
    }
   ],
   "source": [
    "show_doc(Relation.get_select_cols_values_and_types)"
   ]
  },
  {
   "cell_type": "code",
   "execution_count": null,
   "metadata": {},
   "outputs": [
    {
     "data": {
      "text/markdown": [
       "---\n",
       "\n",
       "[source](https://github.com/loayshaqir1/spanner_workbench/blob/main/spanner_workbench/src/rgxlog_interpreter/src/rgxlog/engine/datatypes/ast_node_types.py#L108){target=\"_blank\" style=\"float:right; font-size:smaller\"}\n",
       "\n",
       "### Relation.has_same_terms_and_types\n",
       "\n",
       ">      Relation.has_same_terms_and_types (other:Relation)\n",
       "\n",
       "Checks only term list and type list equivalence.\n",
       "\n",
       "|    | **Type** | **Details** |\n",
       "| -- | -------- | ----------- |\n",
       "| other | 'Relation' | The other relation to compare with |\n",
       "| **Returns** | **bool** | **True if same, false otherwise** |"
      ],
      "text/plain": [
       "---\n",
       "\n",
       "[source](https://github.com/loayshaqir1/spanner_workbench/blob/main/spanner_workbench/src/rgxlog_interpreter/src/rgxlog/engine/datatypes/ast_node_types.py#L108){target=\"_blank\" style=\"float:right; font-size:smaller\"}\n",
       "\n",
       "### Relation.has_same_terms_and_types\n",
       "\n",
       ">      Relation.has_same_terms_and_types (other:Relation)\n",
       "\n",
       "Checks only term list and type list equivalence.\n",
       "\n",
       "|    | **Type** | **Details** |\n",
       "| -- | -------- | ----------- |\n",
       "| other | 'Relation' | The other relation to compare with |\n",
       "| **Returns** | **bool** | **True if same, false otherwise** |"
      ]
     },
     "execution_count": null,
     "metadata": {},
     "output_type": "execute_result"
    }
   ],
   "source": [
    "show_doc(Relation.has_same_terms_and_types)"
   ]
  },
  {
   "cell_type": "code",
   "execution_count": null,
   "metadata": {},
   "outputs": [
    {
     "data": {
      "text/markdown": [
       "---\n",
       "\n",
       "[source](https://github.com/loayshaqir1/spanner_workbench/blob/main/spanner_workbench/src/rgxlog_interpreter/src/rgxlog/engine/datatypes/ast_node_types.py#L116){target=\"_blank\" style=\"float:right; font-size:smaller\"}\n",
       "\n",
       "### Relation.get_index_of_free_var\n",
       "\n",
       ">      Relation.get_index_of_free_var (free_var:<DataTypes.free_var_name:3>)\n",
       "\n",
       "@raise Exception: if free_var doesn't exist in term_list.\n",
       "\n",
       "|    | **Type** | **Details** |\n",
       "| -- | -------- | ----------- |\n",
       "| free_var | DataTypes.free_var_name | the free var to search for |\n",
       "| **Returns** | **int** | **the index of free_var in term_list.** |"
      ],
      "text/plain": [
       "---\n",
       "\n",
       "[source](https://github.com/loayshaqir1/spanner_workbench/blob/main/spanner_workbench/src/rgxlog_interpreter/src/rgxlog/engine/datatypes/ast_node_types.py#L116){target=\"_blank\" style=\"float:right; font-size:smaller\"}\n",
       "\n",
       "### Relation.get_index_of_free_var\n",
       "\n",
       ">      Relation.get_index_of_free_var (free_var:<DataTypes.free_var_name:3>)\n",
       "\n",
       "@raise Exception: if free_var doesn't exist in term_list.\n",
       "\n",
       "|    | **Type** | **Details** |\n",
       "| -- | -------- | ----------- |\n",
       "| free_var | DataTypes.free_var_name | the free var to search for |\n",
       "| **Returns** | **int** | **the index of free_var in term_list.** |"
      ]
     },
     "execution_count": null,
     "metadata": {},
     "output_type": "execute_result"
    }
   ],
   "source": [
    "show_doc(Relation.get_index_of_free_var)"
   ]
  },
  {
   "cell_type": "markdown",
   "metadata": {},
   "source": [
    "::: {.callout-note collapse=\"true\"}\n",
    "\n",
    "##### Example\n",
    "\n",
    "```python\n",
    "rel1 = Relation(\"parent\", [\"Michael\", \"Jack\"], [DataTypes.string, DataTypes.string])\n",
    "print(rel1)\n",
    "```\n",
    "The expected result of this code is:\n",
    "\n",
    "```\n",
    "parent(\"Michael\", \"Jack\")\n",
    "```\n",
    "\n",
    ":::"
   ]
  },
  {
   "cell_type": "code",
   "execution_count": null,
   "metadata": {},
   "outputs": [],
   "source": [
    "#| export\n",
    "class IERelation:\n",
    "    \"\"\"\n",
    "    a representation of an information extraction (ie) relation.\n",
    "    An information extraction relation is different than a normal relation as it is constructed from\n",
    "    the results of a call to an information extraction function.\n",
    "\n",
    "    The ie relation instructs us on how to construct it:\n",
    "    * its name is the ie function we need to call\n",
    "    * its input term list represents a relation where each tuple is an argument list to call the ie function with.\n",
    "    * its output term list represents a relation that filters the tuples that are returned from the ie function\n",
    "    calls, and matches the values inside the tuples to free variables.\n",
    "    \"\"\"\n",
    "\n",
    "    def __init__(self, relation_name: str, # the name of the information extraction relation\n",
    "                       input_term_list: List[DataTypeMapping.term], #a list of the input terms for the ie functiom, must be either literal values or free variables\n",
    "                       input_type_list: List[DataTypes], # a list of the term types in input_term_list\n",
    "                       output_term_list: List[DataTypeMapping.term], # a list of the output terms for the ie function, must be either literal values or free variables\n",
    "                       output_type_list: List[DataTypes] # a list of the term types in output_term_list\n",
    "                       ): \n",
    "        \"\"\"\n",
    "        @raise Exception: if length of in/out term list doesn't match length of in/out type_list.\n",
    "        \"\"\"\n",
    "        if len(input_term_list) != len(input_type_list):\n",
    "            raise Exception(f\"received different lengths of input_term_list ({len(input_term_list)}) \"\n",
    "                            f\"and input_type_list ({len(input_type_list)})\")\n",
    "        if len(output_term_list) != len(output_type_list):\n",
    "            raise Exception(f\"received different lengths of output_term_list ({len(output_term_list)}) \"\n",
    "                            f\"and output_type_list ({len(output_type_list)})\")\n",
    "        self.relation_name = relation_name\n",
    "        self.input_term_list = input_term_list\n",
    "        self.output_term_list = output_term_list\n",
    "        self.input_type_list = input_type_list\n",
    "        self.output_type_list = output_type_list\n",
    "\n",
    "    def __str__(self) -> str:\n",
    "        input_term_list_string = get_term_list_string(self.input_term_list, self.input_type_list)\n",
    "        output_term_list_string = get_term_list_string(self.output_term_list, self.output_type_list)\n",
    "        ie_relation_string = f\"{self.relation_name}({input_term_list_string}) -> ({output_term_list_string})\"\n",
    "        return ie_relation_string\n",
    "\n",
    "    def __repr__(self) -> str:\n",
    "        return str(self)\n",
    "\n",
    "    def get_term_list(self) -> List[DataTypeMapping.term]:\n",
    "        return self.input_term_list + self.output_term_list\n",
    "\n",
    "    def get_type_list(self) -> List[DataTypes]:\n",
    "        return self.input_type_list + self.output_type_list\n",
    "\n",
    "    def has_same_terms_and_types(self, other: Relation, # Other relation to compare with\n",
    "                ) -> bool: # True if everything equivalent besides name, false otherwise\n",
    "        \"\"\"\n",
    "        Checks that everything besides names is equivalent.\n",
    "        \"\"\"\n",
    "\n",
    "        return self.output_type_list == other.type_list and self.output_term_list == other.term_list"
   ]
  },
  {
   "cell_type": "code",
   "execution_count": null,
   "metadata": {},
   "outputs": [
    {
     "data": {
      "text/markdown": [
       "---\n",
       "\n",
       "[source](https://github.com/loayshaqir1/spanner_workbench/blob/main/spanner_workbench/src/rgxlog_interpreter/src/rgxlog/engine/datatypes/ast_node_types.py#L179){target=\"_blank\" style=\"float:right; font-size:smaller\"}\n",
       "\n",
       "### IERelation.has_same_terms_and_types\n",
       "\n",
       ">      IERelation.has_same_terms_and_types (other:__main__.Relation)\n",
       "\n",
       "Checks that everything besides names is equivalent.\n",
       "\n",
       "|    | **Type** | **Details** |\n",
       "| -- | -------- | ----------- |\n",
       "| other | Relation | Other relation to compare with |\n",
       "| **Returns** | **bool** | **True if everything equivalent besides name, false otherwise** |"
      ],
      "text/plain": [
       "---\n",
       "\n",
       "[source](https://github.com/loayshaqir1/spanner_workbench/blob/main/spanner_workbench/src/rgxlog_interpreter/src/rgxlog/engine/datatypes/ast_node_types.py#L179){target=\"_blank\" style=\"float:right; font-size:smaller\"}\n",
       "\n",
       "### IERelation.has_same_terms_and_types\n",
       "\n",
       ">      IERelation.has_same_terms_and_types (other:__main__.Relation)\n",
       "\n",
       "Checks that everything besides names is equivalent.\n",
       "\n",
       "|    | **Type** | **Details** |\n",
       "| -- | -------- | ----------- |\n",
       "| other | Relation | Other relation to compare with |\n",
       "| **Returns** | **bool** | **True if everything equivalent besides name, false otherwise** |"
      ]
     },
     "execution_count": null,
     "metadata": {},
     "output_type": "execute_result"
    }
   ],
   "source": [
    "show_doc(IERelation.has_same_terms_and_types)"
   ]
  },
  {
   "cell_type": "markdown",
   "metadata": {},
   "source": [
    "::: {.callout-note collapse=\"true\"}\n",
    "\n",
    "##### Example\n",
    "\n",
    "```python\n",
    "ie_rel = IERelation(\"get_parents\", [\"X\"], [DataTypes.free_var_name], [\"Y\"], [DataTypes.free_var_name])\n",
    "print(ie_rel)\n",
    "```\n",
    "The expected result of this code is:\n",
    "\n",
    "```\n",
    "get_parents(X) -> (Y)\n",
    "```\n",
    "\n",
    ":::"
   ]
  },
  {
   "cell_type": "code",
   "execution_count": null,
   "metadata": {},
   "outputs": [],
   "source": [
    "#| export\n",
    "class AddFact(Relation):\n",
    "    \"\"\"\n",
    "    a representation of an add_fact statement\n",
    "    inherits from relation as a fact can be defined by a relation.\n",
    "    \"\"\"\n",
    "\n",
    "    def __init__(self, relation_name: str, # the name of the relation\n",
    "                        term_list: List[DataTypeMapping.term], # a list of the relation terms\n",
    "                        type_list: Sequence[DataTypes]): # a list of the relation term types\n",
    "        super().__init__(relation_name, term_list, type_list)"
   ]
  },
  {
   "cell_type": "markdown",
   "metadata": {},
   "source": [
    "::: {.callout-note collapse=\"true\"}\n",
    "\n",
    "##### Example\n",
    "\n",
    "```python\n",
    "fact = AddFact(\"parent\", [\"Michael\", \"Jack\"], [DataTypes.string, DataTypes.string])\n",
    "print(fact)\n",
    "```\n",
    "The expected result of this code is:\n",
    "\n",
    "```\n",
    "parent(\"Michael\", \"Jack\")\n",
    "```\n",
    "\n",
    ":::"
   ]
  },
  {
   "cell_type": "code",
   "execution_count": null,
   "metadata": {},
   "outputs": [],
   "source": [
    "#| export\n",
    "class RemoveFact(Relation):\n",
    "    \"\"\"\n",
    "    a representation of a remove_fact statement\n",
    "    inherits from relation as a fact can be defined by a relation.\n",
    "    \"\"\"\n",
    "\n",
    "    def __init__(self, relation_name: str, # the name of the relation\n",
    "                        term_list: List[DataTypeMapping.term], # a list of the relation terms\n",
    "                        type_list: Sequence[DataTypes]): # a list of the relation term types\n",
    "        super().__init__(relation_name, term_list, type_list)"
   ]
  },
  {
   "cell_type": "markdown",
   "metadata": {},
   "source": [
    "::: {.callout-note collapse=\"true\"}\n",
    "\n",
    "##### Example\n",
    "\n",
    "```python\n",
    "fact = RemoveFact(\"parent\", [\"Michael\", \"Jack\"], [DataTypes.string, DataTypes.string])\n",
    "print(fact)\n",
    "```\n",
    "The expected result of this code is:\n",
    "\n",
    "```\n",
    "parent(\"Michael\", \"Jack\")\n",
    "```\n",
    "\n",
    ":::"
   ]
  },
  {
   "cell_type": "code",
   "execution_count": null,
   "metadata": {},
   "outputs": [],
   "source": [
    "#| export\n",
    "class Query(Relation):\n",
    "    \"\"\"\n",
    "    a representation of a query statement\n",
    "    inherits from relation as a query can be defined by a relation\n",
    "    \"\"\"\n",
    "\n",
    "    def __init__(self, relation_name: str, # the name of the relation\n",
    "                        term_list: List[DataTypeMapping.term], # a list of the relation terms\n",
    "                        type_list: Sequence[DataTypes]): # a list of the relation term types\n",
    "        super().__init__(relation_name, term_list, type_list)"
   ]
  },
  {
   "cell_type": "markdown",
   "metadata": {},
   "source": [
    "::: {.callout-note collapse=\"true\"}\n",
    "\n",
    "##### Example\n",
    "\n",
    "```python\n",
    "query = Query(\"parent\", [\"X\", \"Y\"], [DataTypes.free_var_name, DataTypes.free_var_name])\n",
    "print(query)\n",
    "```\n",
    "The expected result of this code is:\n",
    "\n",
    "```\n",
    "parent(X, Y)\n",
    "```\n",
    "\n",
    ":::"
   ]
  },
  {
   "cell_type": "code",
   "execution_count": null,
   "metadata": {},
   "outputs": [],
   "source": [
    "#| export\n",
    "class Rule:\n",
    "    \"\"\"\n",
    "    a representation of a rule statement.\n",
    "    \"\"\"\n",
    "\n",
    "    def __init__(self,\n",
    "                  head_relation: Relation, # the rule head, which is represented by a single relation\n",
    "                    body_relation_list: List[Union[Relation, IERelation]], # a list of the rule body relations\n",
    "                    body_relation_type_list: List[str] # a list of the rule body relations types (e.g. \"relation\", \"ie_relation\")\n",
    "                    ):\n",
    "        \"\"\"\n",
    "        @raise Exception: if length of term list doesn't match the length of type list.\n",
    "        \"\"\"\n",
    "        if len(body_relation_list) != len(body_relation_type_list):\n",
    "            raise Exception(f\"received different lengths of body_relation_list ({len(body_relation_list)}) \"\n",
    "                            f\"and body_relation_type_list ({len(body_relation_type_list)})\")\n",
    "        self.head_relation = head_relation\n",
    "        self.body_relation_list = body_relation_list\n",
    "        self.body_relation_type_list = body_relation_type_list\n",
    "    \n",
    "    def __str__(self) -> str:\n",
    "        return f\"{self.head_relation} <- {', '.join(map(str, self.body_relation_list))}\"\n",
    "\n",
    "    def __repr__(self) -> str:\n",
    "        return str(self)\n",
    "\n",
    "    def get_relations_by_type(self) -> Tuple[Set, Set]:\n",
    "        \"\"\"\n",
    "        categorizes relations into two sets based on their types, distinguishing between regular relations and information-extraction relations.\n",
    "        \"\"\"\n",
    "        relations, ie_relations = set(), set()\n",
    "        for rel, rel_type in zip(self.body_relation_list, self.body_relation_type_list):\n",
    "            if rel_type == \"relation\":\n",
    "                relations.add(rel)\n",
    "            else:\n",
    "                ie_relations.add(rel)\n",
    "\n",
    "        return relations, ie_relations"
   ]
  },
  {
   "cell_type": "code",
   "execution_count": null,
   "metadata": {},
   "outputs": [
    {
     "data": {
      "text/markdown": [
       "---\n",
       "\n",
       "[source](https://github.com/loayshaqir1/spanner_workbench/blob/main/spanner_workbench/src/rgxlog_interpreter/src/rgxlog/engine/datatypes/ast_node_types.py#L250){target=\"_blank\" style=\"float:right; font-size:smaller\"}\n",
       "\n",
       "### Rule.get_relations_by_type\n",
       "\n",
       ">      Rule.get_relations_by_type ()\n",
       "\n",
       "categorizes relations into two sets based on their types, distinguishing between regular relations and information-extraction relations."
      ],
      "text/plain": [
       "---\n",
       "\n",
       "[source](https://github.com/loayshaqir1/spanner_workbench/blob/main/spanner_workbench/src/rgxlog_interpreter/src/rgxlog/engine/datatypes/ast_node_types.py#L250){target=\"_blank\" style=\"float:right; font-size:smaller\"}\n",
       "\n",
       "### Rule.get_relations_by_type\n",
       "\n",
       ">      Rule.get_relations_by_type ()\n",
       "\n",
       "categorizes relations into two sets based on their types, distinguishing between regular relations and information-extraction relations."
      ]
     },
     "execution_count": null,
     "metadata": {},
     "output_type": "execute_result"
    }
   ],
   "source": [
    "show_doc(Rule.get_relations_by_type)"
   ]
  },
  {
   "cell_type": "markdown",
   "metadata": {},
   "source": [
    "::: {.callout-note collapse=\"true\"}\n",
    "\n",
    "##### Example\n",
    "\n",
    "```python\n",
    "rule = Rule(\n",
    "        \"rule\",\n",
    "        [Relation(\"Person\", [\"X\", \"Y\"], [DataTypes.free_var_name, DataTypes.free_var_name])],\n",
    "        [\"Relation\"]\n",
    "    )\n",
    "print(rule)\n",
    "```\n",
    "The expected result of this code is:\n",
    "\n",
    "```\n",
    "rule <- Person(X, Y)\n",
    "```\n",
    "\n",
    ":::"
   ]
  },
  {
   "cell_type": "code",
   "execution_count": null,
   "metadata": {},
   "outputs": [],
   "source": [
    "#| export\n",
    "class Assignment:\n",
    "    \"\"\"\n",
    "    a representation of an assignment statement.\n",
    "    \"\"\"\n",
    "\n",
    "    def __init__(self, var_name: str, # the variable name to be assigned a value\n",
    "                       value: DataTypeMapping.term, # the assigned value\n",
    "                       value_type: DataTypes # the assigned value's type\n",
    "            ):\n",
    "        self.var_name = var_name\n",
    "        self.value = value\n",
    "        self.value_type = value_type\n",
    "        \n",
    "    def __str__(self) -> str:\n",
    "        if self.value_type is DataTypes.string:\n",
    "            # add quotes to a literal string value\n",
    "            value_string = f'\"{self.value}\"'\n",
    "        else:\n",
    "            value_string = str(self.value)\n",
    "        return f'{self.var_name} = {value_string}'\n",
    "\n",
    "    def __repr__(self) -> str:\n",
    "        return str(self)"
   ]
  },
  {
   "cell_type": "markdown",
   "metadata": {},
   "source": [
    "::: {.callout-note collapse=\"true\"}\n",
    "\n",
    "##### Example\n",
    "\n",
    "```python\n",
    "assignment = Assignment(\"var1\",10,int)\n",
    "print(assignment)\n",
    "```\n",
    "The expected result of this code is:\n",
    "\n",
    "```\n",
    "var1 = 10\n",
    "```\n",
    "\n",
    ":::"
   ]
  },
  {
   "cell_type": "code",
   "execution_count": null,
   "metadata": {},
   "outputs": [],
   "source": [
    "#| export\n",
    "class ReadAssignment:\n",
    "    \"\"\"\n",
    "    a representation of a read_assignment statement.\n",
    "    \"\"\"\n",
    "\n",
    "    def __init__(self, var_name: str, # the variable name to be assigned a value\n",
    "                       read_arg: str, # the argument that is passed to the read() function (e.g. \"some_file\" in `s = read(\"some_file\")`)\n",
    "                       read_arg_type: type # the type of the argument that is passed to the read function\n",
    "            ):\n",
    "        if read_arg_type not in [DataTypes.string, DataTypes.var_name]:\n",
    "            raise TypeError(\n",
    "                f'the argument that was passed to the read() function has an unexpected type: {read_arg_type}')\n",
    "\n",
    "        self.var_name = var_name\n",
    "        self.read_arg = read_arg\n",
    "        self.read_arg_type = read_arg_type\n",
    "    \n",
    "    def __str__(self) -> str:\n",
    "        if self.read_arg_type is DataTypes.string:\n",
    "            # add quotes to a literal string argument\n",
    "            read_arg_string = f'\"{self.read_arg}\"'\n",
    "        else:\n",
    "            read_arg_string = str(self.read_arg)\n",
    "        return f'{self.var_name} = read({read_arg_string})'\n",
    "\n",
    "    def __repr__(self) -> str:\n",
    "        return str(self)"
   ]
  },
  {
   "cell_type": "markdown",
   "metadata": {},
   "source": [
    "::: {.callout-note collapse=\"true\"}\n",
    "\n",
    "##### Example\n",
    "\n",
    "```python\n",
    "read_assignment = ReadAssignment(\"s\", \"file_name\", DataTypes.string)\n",
    "print(read_assignment)\n",
    "```\n",
    "The expected result of this code is:\n",
    "\n",
    "```\n",
    "s = read(\"file_name\")\n",
    "```\n",
    "\n",
    ":::"
   ]
  }
 ],
 "metadata": {
  "kernelspec": {
   "display_name": "python3",
   "language": "python",
   "name": "python3"
  }
 },
 "nbformat": 4,
 "nbformat_minor": 4
}
