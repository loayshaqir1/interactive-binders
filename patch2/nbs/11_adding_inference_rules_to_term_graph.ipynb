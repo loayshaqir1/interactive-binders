{
 "cells": [
  {
   "cell_type": "markdown",
   "metadata": {},
   "source": [
    "# Adding inference rules to term graph"
   ]
  },
  {
   "cell_type": "code",
   "execution_count": null,
   "metadata": {},
   "outputs": [],
   "source": [
    "#| default_exp src.rgxlog_interpreter.src.rgxlog.engine.passes.adding_inference_rules_to_term_graph"
   ]
  },
  {
   "cell_type": "code",
   "execution_count": null,
   "metadata": {},
   "outputs": [],
   "source": [
    "#| hide\n",
    "from __future__ import annotations"
   ]
  },
  {
   "cell_type": "code",
   "execution_count": null,
   "metadata": {},
   "outputs": [],
   "source": [
    "#| hide\n",
    "from nbdev.showdoc import *"
   ]
  },
  {
   "cell_type": "code",
   "execution_count": null,
   "metadata": {},
   "outputs": [],
   "source": [
    "#| export\n",
    "from fastcore.utils import *"
   ]
  },
  {
   "cell_type": "code",
   "execution_count": null,
   "metadata": {},
   "outputs": [],
   "source": [
    "#| export\n",
    "import logging\n",
    "from typing import Any\n",
    "from spanner_workbench.src.rgxlog_interpreter.src.rgxlog.engine.datatypes.ast_node_types import Rule\n",
    "from spanner_workbench.src.rgxlog_interpreter.src.rgxlog.engine.passes.lark_passes import GenericPass\n",
    "from spanner_workbench.src.rgxlog_interpreter.src.rgxlog.engine.state.graphs import EvalState, TermGraphBase, GraphBase\n",
    "from spanner_workbench.src.rgxlog_interpreter.src.rgxlog.engine.utils.passes_utils import get_new_rule_nodes"
   ]
  },
  {
   "cell_type": "code",
   "execution_count": null,
   "metadata": {},
   "outputs": [],
   "source": [
    "#| hide\n",
    "#| exec_doc\n",
    "import inspect"
   ]
  },
  {
   "cell_type": "code",
   "execution_count": null,
   "metadata": {},
   "outputs": [],
   "source": [
    "#| hide\n",
    "#| exec_doc\n",
    "imported_classes = []\n",
    "for name, obj in list(globals().items()):\n",
    "    if inspect.isclass(obj) and inspect.getmodule(obj) is not None:\n",
    "        imported_classes.append(obj)\n",
    "for cls in imported_classes:\n",
    "    if 'spanner_workbench' in cls.__module__:\n",
    "        cls.__module__ = cls.__module__.split('.')[-1]"
   ]
  },
  {
   "cell_type": "code",
   "execution_count": null,
   "metadata": {},
   "outputs": [],
   "source": [
    "#| export\n",
    "logger = logging.getLogger(__name__)"
   ]
  },
  {
   "cell_type": "code",
   "execution_count": null,
   "metadata": {},
   "outputs": [],
   "source": [
    "#| export\n",
    "class AddRulesToTermGraph(GenericPass):\n",
    "    \"\"\"\n",
    "    This class traverses the parse graph and finds all the new rules.\n",
    "    It adds these rules to the term graph (using `term_graph`'s add rule method).\n",
    "    \"\"\"\n",
    "\n",
    "    def __init__(self, parse_graph: GraphBase, term_graph: TermGraphBase, **kwargs: Any) -> None:\n",
    "        self.parse_graph = parse_graph\n",
    "        self.term_graph = term_graph\n",
    "\n",
    "    def _add_rules_to_computation_graph(self) -> None:\n",
    "        \"\"\"\n",
    "        Generates and adds all the execution trees to the term graph.\n",
    "        \"\"\"\n",
    "\n",
    "        rule_nodes = get_new_rule_nodes(self.parse_graph)\n",
    "        for rule_node_id in rule_nodes:\n",
    "            # modifies the term graph\n",
    "            rule: Rule = self.parse_graph[rule_node_id][\"value\"]\n",
    "            self.parse_graph.set_node_attribute(rule_node_id, \"state\", EvalState.VISITED)\n",
    "            self.term_graph.add_rule_to_term_graph(rule)\n",
    "\n",
    "    def run_pass(self, **kwargs: Any) -> None:\n",
    "        self._add_rules_to_computation_graph()\n",
    "        logger.debug(f\"term graph after {self.__class__.__name__}:\\n{self.term_graph}\")\n"
   ]
  },
  {
   "cell_type": "code",
   "execution_count": null,
   "metadata": {},
   "outputs": [],
   "source": [
    "show_doc(AddRulesToTermGraph._add_rules_to_computation_graph)"
   ]
  }
 ],
 "metadata": {
  "kernelspec": {
   "display_name": "python3",
   "language": "python",
   "name": "python3"
  }
 },
 "nbformat": 4,
 "nbformat_minor": 4
}
