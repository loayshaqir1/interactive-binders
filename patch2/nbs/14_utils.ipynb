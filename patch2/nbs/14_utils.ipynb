{
 "cells": [
  {
   "cell_type": "markdown",
   "metadata": {},
   "source": [
    "# Utils"
   ]
  },
  {
   "cell_type": "code",
   "execution_count": null,
   "metadata": {},
   "outputs": [],
   "source": [
    "#| default_exp src.rgxlog_interpreter.src.rgxlog.stdlib.utils"
   ]
  },
  {
   "cell_type": "code",
   "execution_count": null,
   "metadata": {},
   "outputs": [
    {
     "name": "stdout",
     "output_type": "stream",
     "text": [
      "Requirement already satisfied: requests in /miniconda/lib/python3.8/site-packages (2.28.1)\n",
      "Requirement already satisfied: certifi>=2017.4.17 in /miniconda/lib/python3.8/site-packages (from requests) (2022.12.7)\n",
      "Requirement already satisfied: charset-normalizer<3,>=2 in /miniconda/lib/python3.8/site-packages (from requests) (2.0.4)\n",
      "Requirement already satisfied: idna<4,>=2.5 in /miniconda/lib/python3.8/site-packages (from requests) (3.4)\n",
      "Requirement already satisfied: urllib3<1.27,>=1.21.1 in /miniconda/lib/python3.8/site-packages (from requests) (1.25.8)\n",
      "\u001b[33mWARNING: Running pip as the 'root' user can result in broken permissions and conflicting behaviour with the system package manager. It is recommended to use a virtual environment instead: https://pip.pypa.io/warnings/venv\u001b[0m\u001b[33m\n",
      "\u001b[0m"
     ]
    }
   ],
   "source": [
    "#| hide\n",
    "from nbdev.showdoc import *\n",
    "!pip install requests"
   ]
  },
  {
   "cell_type": "code",
   "execution_count": null,
   "metadata": {},
   "outputs": [],
   "source": [
    "#| export\n",
    "import shlex\n",
    "\n",
    "import logging\n",
    "import psutil\n",
    "import requests\n",
    "from pathlib import Path\n",
    "from subprocess import Popen, PIPE\n",
    "from sys import platform\n",
    "from threading import Timer\n",
    "from typing import Iterable, no_type_check, Any, Optional"
   ]
  },
  {
   "cell_type": "code",
   "execution_count": null,
   "metadata": {},
   "outputs": [],
   "source": [
    "#| export\n",
    "logger = logging.getLogger(__name__)\n",
    "\n",
    "WINDOWS_OS = \"win32\"\n",
    "IS_POSIX = (platform != WINDOWS_OS)\n",
    "\n",
    "# google drive\n",
    "GOOGLE_DRIVE_URL = \"https://docs.google.com/uc?export=download\"\n",
    "GOOGLE_DRIVE_CHUNK_SIZE = 32768"
   ]
  },
  {
   "cell_type": "code",
   "execution_count": null,
   "metadata": {},
   "outputs": [],
   "source": [
    "#| export\n",
    "def kill_process_and_children(process: Popen) -> None:\n",
    "    logger.info(\"~~~~ process timed out ~~~~\")\n",
    "    if process.poll() is not None:\n",
    "        ps_process = psutil.Process(process.pid)\n",
    "        for child in ps_process.children(recursive=True):  # first, kill the children :)\n",
    "            child.kill()  # not recommended in real life\n",
    "        process.kill()  # lastly, kill the process"
   ]
  },
  {
   "cell_type": "code",
   "execution_count": null,
   "metadata": {},
   "outputs": [],
   "source": [
    "#| export\n",
    "def run_cli_command(command: str, stderr: bool = False, shell: bool = False, timeout: float = -1) -> Iterable[str]:\n",
    "    \"\"\"\n",
    "    This utility can be used to run any cli command, and iterate over the output.\n",
    "\n",
    "    @param timeout: if positive, kill the process after `timeout` seconds. default: `-1`.\n",
    "    @param stderr: if true, suppress stderr output. default: `False`.\n",
    "    @param shell: if true, spawn shell process (e.g. /bin/sh), which allows using system variables (e.g. $HOME),\n",
    "        but is considered a security risk (see:\n",
    "        https://docs.python.org/3/library/subprocess.html#security-considerations).\n",
    "    @param command: a single command string.\n",
    "    @return: string iterator.\n",
    "    \"\"\"\n",
    "    # `shlex.split` just splits the command into a list properly\n",
    "    command_list = shlex.split(command, posix=IS_POSIX)\n",
    "    stdout = PIPE  # we always use stdout\n",
    "    stderr_channel = PIPE if stderr else None\n",
    "\n",
    "    process = Popen(command_list, stdout=stdout, stderr=stderr_channel, shell=shell)\n",
    "\n",
    "    # set timer\n",
    "    if timeout > 0:\n",
    "        # set timer to kill the process\n",
    "        process_timer = Timer(timeout, kill_process_and_children, [process])\n",
    "        process_timer.start()\n",
    "\n",
    "    # get output\n",
    "    if process.stdout:\n",
    "        process.stdout.flush()\n",
    "    process_stdout, process_stderr = [s.decode(\"utf-8\") for s in process.communicate()]\n",
    "    for output in process_stdout.splitlines():\n",
    "        output = output.strip()\n",
    "        if output:\n",
    "            yield output\n",
    "\n",
    "    if stderr:\n",
    "        logger.info(f\"stderr from process {command_list[0]}: {process_stderr}\")"
   ]
  },
  {
   "cell_type": "code",
   "execution_count": null,
   "metadata": {},
   "outputs": [],
   "source": [
    "#| export\n",
    "import os\n",
    "def download_file_from_google_drive(file_id: str, destination: Path) -> None:\n",
    "    \"\"\"\n",
    "    Downloads a file from google drive.\n",
    "    Taken from https://stackoverflow.com/questions/25010369/wget-curl-large-file-from-google-drive/39225039#39225039.\n",
    "\n",
    "    @param file_id: the id of the file to download.\n",
    "    @param destination: the path to which the file will be downloaded.\n",
    "    \"\"\"\n",
    "    destination = Path(os.path.join(os.getcwd(),'spanner_workbench','src','rgxlog_interpreter','src','rgxlog','stdlib','stanford-corenlp-4.1.0.zip'))\n",
    "    requests_session = requests.Session()\n",
    "    response = requests_session.get(GOOGLE_DRIVE_URL, params={'id': file_id}, stream=True)\n",
    "\n",
    "    def get_confirm_token() -> Optional[Any]:\n",
    "        for key, value in response.cookies.items():\n",
    "            if key.startswith('download_warning'):\n",
    "                return value\n",
    "\n",
    "        return None\n",
    "\n",
    "    def save_response_content() -> None:\n",
    "        with open(destination, \"wb\") as f:\n",
    "            for chunk in response.iter_content(GOOGLE_DRIVE_CHUNK_SIZE):\n",
    "                if chunk:  # filter out keep-alive new chunks\n",
    "                    f.write(chunk)\n",
    "\n",
    "    token = get_confirm_token()\n",
    "    logger.debug(f\"got token from google: {token}\")\n",
    "\n",
    "    if token:\n",
    "        params = {'id': file_id, 'confirm': token}\n",
    "        response = requests_session.get(GOOGLE_DRIVE_URL, params=params, stream=True)\n",
    "\n",
    "    save_response_content()"
   ]
  },
  {
   "cell_type": "code",
   "execution_count": null,
   "metadata": {},
   "outputs": [],
   "source": []
  }
 ],
 "metadata": {
  "kernelspec": {
   "display_name": "python3",
   "language": "python",
   "name": "python3"
  }
 },
 "nbformat": 4,
 "nbformat_minor": 4
}
